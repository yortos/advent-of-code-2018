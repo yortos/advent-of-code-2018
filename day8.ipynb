{
 "cells": [
  {
   "cell_type": "code",
   "execution_count": 230,
   "metadata": {},
   "outputs": [],
   "source": [
    "import pandas"
   ]
  },
  {
   "cell_type": "code",
   "execution_count": 46,
   "metadata": {},
   "outputs": [],
   "source": [
    "p = open('quiz8_n.txt', 'w')\n",
    "p.write(text.replace('\\n','').replace(' ','\\n'))\n",
    "p.close()"
   ]
  },
  {
   "cell_type": "code",
   "execution_count": 49,
   "metadata": {},
   "outputs": [],
   "source": [
    "t = pandas.read_csv('quiz8_n.txt', names=['input'])"
   ]
  },
  {
   "cell_type": "code",
   "execution_count": 56,
   "metadata": {},
   "outputs": [
    {
     "data": {
      "text/html": [
       "<div>\n",
       "<style scoped>\n",
       "    .dataframe tbody tr th:only-of-type {\n",
       "        vertical-align: middle;\n",
       "    }\n",
       "\n",
       "    .dataframe tbody tr th {\n",
       "        vertical-align: top;\n",
       "    }\n",
       "\n",
       "    .dataframe thead th {\n",
       "        text-align: right;\n",
       "    }\n",
       "</style>\n",
       "<table border=\"1\" class=\"dataframe\">\n",
       "  <thead>\n",
       "    <tr style=\"text-align: right;\">\n",
       "      <th></th>\n",
       "      <th>input</th>\n",
       "    </tr>\n",
       "  </thead>\n",
       "  <tbody>\n",
       "    <tr>\n",
       "      <th>0</th>\n",
       "      <td>2</td>\n",
       "    </tr>\n",
       "    <tr>\n",
       "      <th>1</th>\n",
       "      <td>3</td>\n",
       "    </tr>\n",
       "    <tr>\n",
       "      <th>2</th>\n",
       "      <td>0</td>\n",
       "    </tr>\n",
       "    <tr>\n",
       "      <th>3</th>\n",
       "      <td>3</td>\n",
       "    </tr>\n",
       "    <tr>\n",
       "      <th>4</th>\n",
       "      <td>10</td>\n",
       "    </tr>\n",
       "  </tbody>\n",
       "</table>\n",
       "</div>"
      ],
      "text/plain": [
       "   input\n",
       "0      2\n",
       "1      3\n",
       "2      0\n",
       "3      3\n",
       "4     10"
      ]
     },
     "execution_count": 56,
     "metadata": {},
     "output_type": "execute_result"
    }
   ],
   "source": [
    "test = pandas.DataFrame({'input': [2, 3, 0, 3, 10, 11, 12, 1, 1, 0, 1, 99, 2, 1, 1, 2]})\n",
    "test.head()"
   ]
  },
  {
   "cell_type": "code",
   "execution_count": 137,
   "metadata": {},
   "outputs": [],
   "source": [
    "def get_metadata(l):\n",
    "    #print(len(l))\n",
    "    metadata = []\n",
    "    \n",
    "    if len(l) == 0:\n",
    "        return []\n",
    "    num_children = l[0]\n",
    "    num_metadata = l[1]\n",
    "    \n",
    "    for i in range(num_children):\n",
    "        \n",
    "    if num_children == 0:\n",
    "        return total, l[2+num_metadata:]\n",
    "    \n",
    "        \n",
    "    else:\n",
    "        metadata = metadata + l[-num_metadata:] ##last num_metadata of the list\n",
    "        l = l[2:len(l)-num_metadata]\n",
    "   \n",
    "    metadata = metadata + get_metadata(l)\n",
    "    return metadata"
   ]
  },
  {
   "cell_type": "code",
   "execution_count": 193,
   "metadata": {},
   "outputs": [],
   "source": []
  },
  {
   "cell_type": "code",
   "execution_count": 229,
   "metadata": {},
   "outputs": [
    {
     "name": "stdout",
     "output_type": "stream",
     "text": [
      "40984\n"
     ]
    }
   ],
   "source": [
    "#l = [2, 3, 1, 3, 1, 2, 0, 1, 6, 7, 8, 10, 11, 12, 1, 1, 0, 1, 99, 2, 1, 1, 2]\n",
    "\n",
    "lis = list(t['input'])\n",
    "\n",
    "metadata = []\n",
    "\n",
    "while 0 in lis:\n",
    "    zero_pos = lis.index(0)\n",
    "    num_metadata = lis[zero_pos+1]\n",
    "\n",
    "    metadata = metadata + lis[zero_pos + 2 : zero_pos + 2 + num_metadata]\n",
    "    \n",
    "    lis[zero_pos-2] = lis[zero_pos-2] - 1\n",
    "    \n",
    "\n",
    "    del lis[zero_pos : zero_pos + 2 + num_metadata]\n",
    "\n",
    "print(sum(metadata))"
   ]
  },
  {
   "cell_type": "markdown",
   "metadata": {},
   "source": [
    "## part 2"
   ]
  },
  {
   "cell_type": "code",
   "execution_count": 234,
   "metadata": {},
   "outputs": [
    {
     "name": "stdout",
     "output_type": "stream",
     "text": [
      "40984\n"
     ]
    }
   ],
   "source": [
    "#l = [2, 3, 1, 3, 1, 2, 0, 1, 6, 7, 8, 10, 11, 12, 1, 1, 0, 1, 99, 2, 1, 1, 2]\n",
    "\n",
    "lis = list(t['input'])\n",
    "metadata = []\n",
    "\n",
    "children = dict()\n",
    "values = dict()\n",
    "metadata_dict = dict()\n",
    "count = 0\n",
    "\n",
    "while 0 in lis:\n",
    "    #node_name = str(count)\n",
    "    #count = count+1\n",
    "    \n",
    "    zero_pos = lis.index(0)\n",
    "    num_metadata = lis[zero_pos+1]\n",
    "\n",
    "    metadata = metadata + lis[zero_pos + 2 : zero_pos + 2 + num_metadata]\n",
    "    metadata_dict[str(zero_pos)] = metadata\n",
    "    \n",
    "    lis[zero_pos-2] = lis[zero_pos-2] - 1\n",
    "    \n",
    "    if str(zero_pos-2) in children.values():\n",
    "        temp = children[str(zero_pos-2)].append(str(zero_pos))\n",
    "        children[str(zero_pos-2)] = temp\n",
    "    else:\n",
    "        children[str(zero_pos-2)] = [zero_pos]\n",
    "        \n",
    "\n",
    "    del lis[zero_pos : zero_pos + 2 + num_metadata]\n",
    "\n",
    "print(sum(metadata))"
   ]
  },
  {
   "cell_type": "code",
   "execution_count": 240,
   "metadata": {},
   "outputs": [
    {
     "data": {
      "text/plain": [
       "dict_keys(['10', '8', '6', '4', '2', '0'])"
      ]
     },
     "execution_count": 240,
     "metadata": {},
     "output_type": "execute_result"
    }
   ],
   "source": [
    "metadata_dict.keys()"
   ]
  },
  {
   "cell_type": "code",
   "execution_count": 235,
   "metadata": {},
   "outputs": [
    {
     "data": {
      "text/plain": [
       "{'8': [10], '6': [8], '4': [6], '2': [4], '0': [2], '-2': [0]}"
      ]
     },
     "execution_count": 235,
     "metadata": {},
     "output_type": "execute_result"
    }
   ],
   "source": [
    "children"
   ]
  }
 ],
 "metadata": {
  "kernelspec": {
   "display_name": "Python 3",
   "language": "python",
   "name": "python3"
  },
  "language_info": {
   "codemirror_mode": {
    "name": "ipython",
    "version": 3
   },
   "file_extension": ".py",
   "mimetype": "text/x-python",
   "name": "python",
   "nbconvert_exporter": "python",
   "pygments_lexer": "ipython3",
   "version": "3.6.5"
  }
 },
 "nbformat": 4,
 "nbformat_minor": 2
}
