{
 "cells": [
  {
   "cell_type": "code",
   "execution_count": 84,
   "metadata": {
    "ExecuteTime": {
     "end_time": "2018-12-04T13:28:25.725557",
     "start_time": "2018-12-04T13:28:25.722988"
    },
    "collapsed": true
   },
   "outputs": [],
   "source": [
    "import pandas\n",
    "import numpy as np"
   ]
  },
  {
   "cell_type": "markdown",
   "metadata": {},
   "source": [
    "## Day 3"
   ]
  },
  {
   "cell_type": "markdown",
   "metadata": {},
   "source": [
    "### part 1"
   ]
  },
  {
   "cell_type": "code",
   "execution_count": 16,
   "metadata": {
    "ExecuteTime": {
     "end_time": "2018-12-04T13:10:19.563340",
     "start_time": "2018-12-04T13:10:19.549652"
    },
    "collapsed": false
   },
   "outputs": [
    {
     "data": {
      "text/html": [
       "<div>\n",
       "<style scoped>\n",
       "    .dataframe tbody tr th:only-of-type {\n",
       "        vertical-align: middle;\n",
       "    }\n",
       "\n",
       "    .dataframe tbody tr th {\n",
       "        vertical-align: top;\n",
       "    }\n",
       "\n",
       "    .dataframe thead th {\n",
       "        text-align: right;\n",
       "    }\n",
       "</style>\n",
       "<table border=\"1\" class=\"dataframe\">\n",
       "  <thead>\n",
       "    <tr style=\"text-align: right;\">\n",
       "      <th></th>\n",
       "      <th>input</th>\n",
       "    </tr>\n",
       "  </thead>\n",
       "  <tbody>\n",
       "    <tr>\n",
       "      <th>0</th>\n",
       "      <td>#1 @ 912,277: 27x20</td>\n",
       "    </tr>\n",
       "    <tr>\n",
       "      <th>1</th>\n",
       "      <td>#2 @ 129,477: 14x12</td>\n",
       "    </tr>\n",
       "    <tr>\n",
       "      <th>2</th>\n",
       "      <td>#3 @ 915,716: 17x23</td>\n",
       "    </tr>\n",
       "    <tr>\n",
       "      <th>3</th>\n",
       "      <td>#4 @ 809,807: 24x16</td>\n",
       "    </tr>\n",
       "    <tr>\n",
       "      <th>4</th>\n",
       "      <td>#5 @ 769,790: 22x13</td>\n",
       "    </tr>\n",
       "  </tbody>\n",
       "</table>\n",
       "</div>"
      ],
      "text/plain": [
       "                 input\n",
       "0  #1 @ 912,277: 27x20\n",
       "1  #2 @ 129,477: 14x12\n",
       "2  #3 @ 915,716: 17x23\n",
       "3  #4 @ 809,807: 24x16\n",
       "4  #5 @ 769,790: 22x13"
      ]
     },
     "execution_count": 16,
     "metadata": {},
     "output_type": "execute_result"
    }
   ],
   "source": [
    "quiz3 = pandas.read_csv('quiz3.txt', delimiter='\\n', names=['input'])\n",
    "quiz3.head()"
   ]
  },
  {
   "cell_type": "code",
   "execution_count": 176,
   "metadata": {
    "ExecuteTime": {
     "end_time": "2018-12-04T13:42:53.938884",
     "start_time": "2018-12-04T13:42:53.922360"
    },
    "collapsed": true
   },
   "outputs": [],
   "source": [
    "def get_corners(string):\n",
    "    id = string.split('@')[0].replace('#','')\n",
    "    t = dict()\n",
    "    string = string.split('@')[1]\n",
    "    t['left_edge'] = int(string.split(':')[0].split(',')[0])\n",
    "    t['top_edge'] = int(string.split(':')[0].split(',')[1])\n",
    "    \n",
    "    width = int(string.split(':')[1].split('x')[0])\n",
    "    height = int(string.split(':')[1].split('x')[1])\n",
    "    \n",
    "    t['right_edge'] = t['left_edge'] + width\n",
    "    t['bottom_edge'] = t['top_edge'] + height\n",
    "    \n",
    "    return id, t\n",
    "\n",
    "def count_overlap(fabric, symbol=b'X'):\n",
    "    count = 0\n",
    "    for i in range(len(fabric)):\n",
    "        for j in range(len(fabric[i])):\n",
    "            if fabric[i][j] == symbol:\n",
    "                count = count+1\n",
    "    return count"
   ]
  },
  {
   "cell_type": "code",
   "execution_count": 148,
   "metadata": {
    "ExecuteTime": {
     "end_time": "2018-12-04T13:37:20.922497",
     "start_time": "2018-12-04T13:37:20.917560"
    },
    "collapsed": false
   },
   "outputs": [],
   "source": [
    "def draw_claim(fabric, t, id):\n",
    "    for i in range(t['top_edge'], t['bottom_edge']):\n",
    "        for j in range(t['left_edge'], t['right_edge']):\n",
    "\n",
    "            if fabric[i][j] == b'.':\n",
    "                fabric[i][j] = str(id)\n",
    "            else:\n",
    "                fabric[i][j] = 'X'\n",
    "    return fabric"
   ]
  },
  {
   "cell_type": "code",
   "execution_count": 183,
   "metadata": {
    "ExecuteTime": {
     "end_time": "2018-12-04T13:45:10.363216",
     "start_time": "2018-12-04T13:44:58.896733"
    },
    "collapsed": false
   },
   "outputs": [
    {
     "data": {
      "text/plain": [
       "110891"
      ]
     },
     "execution_count": 183,
     "metadata": {},
     "output_type": "execute_result"
    }
   ],
   "source": [
    "fabric = np.chararray((2000,2000))\n",
    "fabric[:]= str('.')\n",
    "\n",
    "\n",
    "for i in range(len(quiz3)):\n",
    "    claim = quiz3['input'][i]\n",
    "    id, t = get_corners(claim)\n",
    "    \n",
    "    fabric = draw_claim(fabric, t, id)\n",
    "count_overlap(fabric)"
   ]
  },
  {
   "cell_type": "markdown",
   "metadata": {
    "ExecuteTime": {
     "end_time": "2018-12-04T13:43:29.920735",
     "start_time": "2018-12-04T13:43:21.245350"
    }
   },
   "source": [
    "### part 2"
   ]
  },
  {
   "cell_type": "code",
   "execution_count": 187,
   "metadata": {
    "ExecuteTime": {
     "end_time": "2018-12-04T13:47:52.172536",
     "start_time": "2018-12-04T13:47:52.033276"
    },
    "collapsed": false
   },
   "outputs": [],
   "source": []
  }
 ],
 "metadata": {
  "anaconda-cloud": {},
  "kernelspec": {
   "display_name": "Python [default]",
   "language": "python",
   "name": "python3"
  },
  "language_info": {
   "codemirror_mode": {
    "name": "ipython",
    "version": 3
   },
   "file_extension": ".py",
   "mimetype": "text/x-python",
   "name": "python",
   "nbconvert_exporter": "python",
   "pygments_lexer": "ipython3",
   "version": "3.5.4"
  },
  "toc": {
   "colors": {
    "hover_highlight": "#DAA520",
    "running_highlight": "#FF0000",
    "selected_highlight": "#FFD700"
   },
   "moveMenuLeft": true,
   "nav_menu": {
    "height": "66px",
    "width": "252px"
   },
   "navigate_menu": true,
   "number_sections": true,
   "sideBar": true,
   "threshold": 4,
   "toc_cell": false,
   "toc_section_display": "block",
   "toc_window_display": false
  }
 },
 "nbformat": 4,
 "nbformat_minor": 2
}
