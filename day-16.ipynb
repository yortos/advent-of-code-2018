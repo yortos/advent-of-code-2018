{
 "cells": [
  {
   "cell_type": "code",
   "execution_count": 1,
   "metadata": {},
   "outputs": [],
   "source": [
    "import pandas"
   ]
  },
  {
   "cell_type": "code",
   "execution_count": 4,
   "metadata": {},
   "outputs": [],
   "source": [
    "opcods = ['addr', 'addi',\\\n",
    "          'mulr', 'muli',\\\n",
    "          'banr', 'bani',\\\n",
    "          'borr', 'bori', \\\n",
    "          'setr', 'seti',\\\n",
    "          'gtir','gtri','gtrr',\\\n",
    "          'eqir', 'eqri','eqrr']\n",
    "\n",
    "registers = [0,0,0,0]"
   ]
  },
  {
   "cell_type": "code",
   "execution_count": 208,
   "metadata": {},
   "outputs": [],
   "source": [
    "def operation(opcod, a, b, c, before):\n",
    "    if opcod == 'addr':\n",
    "        temp=before[a]+before[b]\n",
    "    if opcod == 'addi':\n",
    "        temp = before[a] + b\n",
    "            \n",
    "    if opcod == 'mulr':\n",
    "        temp = before[a]*before[b]\n",
    "    if opcod == 'muli':\n",
    "        temp = before[a]*b\n",
    "    \n",
    "    if opcod == 'banr':\n",
    "        temp = before[a] & before[b]\n",
    "    if opcod == 'bani':\n",
    "        temp  = before[a]&b\n",
    "    \n",
    "    if opcod == 'borr':\n",
    "        temp = before[a] | before[b]\n",
    "    if opcod =='bori':\n",
    "        temp = before[a] | b\n",
    "    \n",
    "    if opcod =='setr':\n",
    "        temp = before[a]\n",
    "    if opcod =='seti':\n",
    "        temp = a\n",
    "        \n",
    "    if opcod == 'gtir':\n",
    "        temp = int(a>before[b])\n",
    "    if opcod == 'gtri':\n",
    "        temp = int(before[a]>b)\n",
    "    if opcod == 'gtrr':\n",
    "        temp = int(before[a]>before[b])\n",
    "    \n",
    "    if opcod == 'eqir':\n",
    "        temp = int(a==before[b])\n",
    "    if opcod == 'eqri':\n",
    "        temp = int(before[a]==b)\n",
    "    if opcod == 'eqrr':\n",
    "        temp = int(before[a]==before[b])\n",
    "\n",
    "    after = [x for x in before]\n",
    "    after[c] = temp\n",
    "    return after"
   ]
  },
  {
   "cell_type": "code",
   "execution_count": 2,
   "metadata": {},
   "outputs": [],
   "source": [
    "def num_opcods(before_input, op_input, after_input):\n",
    "    count = 0\n",
    "    possible_opcods = set()\n",
    "    before = [x for x in before_input]\n",
    "    op = [x for x in op_input]\n",
    "    after = [x for x in after_input]\n",
    "    \n",
    "    for opcod in opcods:\n",
    "        if operation(opcod, op[1], op[2], op[3], before) == after:\n",
    "            possible_opcods.add(opcod)\n",
    "    return possible_opcods\n"
   ]
  },
  {
   "cell_type": "code",
   "execution_count": 6,
   "metadata": {},
   "outputs": [
    {
     "name": "stdout",
     "output_type": "stream",
     "text": [
      "605\n"
     ]
    }
   ],
   "source": [
    "import ast\n",
    "\n",
    "f = open('quiz16.txt', 'r')\n",
    "lines = f.readlines()\n",
    "count = 0\n",
    "\n",
    "for i in range(0,3143,4):\n",
    "    t = lines[i:i+3]\n",
    "    \n",
    "    before = ast.literal_eval(t[0].replace('Before: ','').replace('\\n',''))\n",
    "    op = ast.literal_eval(t[1].replace('Before: ','').replace('\\n','').replace(' ',','))\n",
    "    after = ast.literal_eval(t[2].replace('After:  ','').replace('\\n',''))\n",
    "    \n",
    "    if len(num_opcods(before, op, after))>=3:\n",
    "        count +=1\n",
    "print(count)"
   ]
  },
  {
   "cell_type": "markdown",
   "metadata": {},
   "source": [
    "## Part 2"
   ]
  },
  {
   "cell_type": "code",
   "execution_count": 209,
   "metadata": {},
   "outputs": [
    {
     "name": "stdout",
     "output_type": "stream",
     "text": [
      "605\n"
     ]
    }
   ],
   "source": [
    "def get_possible_opcods(before_input, op_input, after_input):\n",
    "    count = 0\n",
    "    possible_opcods = set()\n",
    "    \n",
    "    before = [x for x in before_input]\n",
    "    op = [x for x in op_input]\n",
    "    after = [x for x in after_input]\n",
    "    \n",
    "    for opcod in opcods:\n",
    "        if operation(opcod, op[1], op[2], op[3], before) == after:\n",
    "            possible_opcods.add(opcod)\n",
    "    return possible_opcods\n",
    "\n",
    "opcod_set = dict()\n",
    "for i in range(16):\n",
    "    opcod_set[str(i)] = set(opcods)\n",
    "\n",
    "import ast\n",
    "\n",
    "f = open('quiz16.txt', 'r')\n",
    "lines = f.readlines()\n",
    "count = 0\n",
    "\n",
    "for i in range(0,3143,4):\n",
    "    t = lines[i:i+3]\n",
    "    \n",
    "    before = ast.literal_eval(t[0].replace('Before: ','').replace('\\n',''))\n",
    "    op = ast.literal_eval(t[1].replace('Before: ','').replace('\\n','').replace(' ',','))\n",
    "    after = ast.literal_eval(t[2].replace('After:  ','').replace('\\n',''))\n",
    "    \n",
    "    possible_opcods = get_possible_opcods(before, op, after)\n",
    "    if len(possible_opcods)>=3:\n",
    "        count+=1\n",
    "        \n",
    "    opcod_set[str(op[0])] = opcod_set[str(op[0])].intersection(possible_opcods)\n",
    "\n",
    "print(count)"
   ]
  },
  {
   "cell_type": "code",
   "execution_count": 13,
   "metadata": {},
   "outputs": [],
   "source": [
    "def remove_opcod(key_input, opcod_set):\n",
    "    for key in opcod_set.keys():\n",
    "        if key == key_input:\n",
    "            continue\n",
    "        else:\n",
    "            if len(opcod_set[key_input].intersection(opcod_set[key])) >0:\n",
    "                opcod_set[key] = opcod_set[key].difference(opcod_set[key_input])\n",
    "    return opcod_set"
   ]
  },
  {
   "cell_type": "code",
   "execution_count": 210,
   "metadata": {},
   "outputs": [
    {
     "name": "stdout",
     "output_type": "stream",
     "text": [
      "605\n"
     ]
    },
    {
     "data": {
      "text/plain": [
       "{'0': {'eqir', 'eqri', 'gtri'},\n",
       " '1': {'bani', 'banr', 'eqri', 'eqrr', 'gtir', 'gtri', 'mulr', 'seti'},\n",
       " '2': {'gtri'},\n",
       " '3': {'gtrr'},\n",
       " '4': {'banr', 'eqir', 'eqri', 'eqrr', 'gtir', 'gtri'},\n",
       " '5': {'addi', 'mulr', 'seti'},\n",
       " '6': {'bani', 'banr', 'eqir', 'eqri', 'eqrr', 'gtir', 'gtri', 'seti'},\n",
       " '7': {'eqir', 'eqri', 'eqrr', 'gtir', 'gtri'},\n",
       " '8': {'addi',\n",
       "  'addr',\n",
       "  'bani',\n",
       "  'banr',\n",
       "  'bori',\n",
       "  'borr',\n",
       "  'gtir',\n",
       "  'gtri',\n",
       "  'muli',\n",
       "  'mulr',\n",
       "  'seti',\n",
       "  'setr'},\n",
       " '9': {'addi',\n",
       "  'banr',\n",
       "  'bori',\n",
       "  'borr',\n",
       "  'eqir',\n",
       "  'eqrr',\n",
       "  'gtri',\n",
       "  'mulr',\n",
       "  'seti',\n",
       "  'setr'},\n",
       " '10': {'gtir', 'setr'},\n",
       " '11': {'addi', 'addr', 'seti'},\n",
       " '12': {'bani', 'banr', 'eqir', 'eqri', 'eqrr', 'gtir', 'gtri'},\n",
       " '13': {'bani', 'banr', 'borr', 'eqir', 'eqrr', 'mulr', 'seti', 'setr'},\n",
       " '14': {'eqir', 'gtri'},\n",
       " '15': {'eqrr', 'gtri'}}"
      ]
     },
     "execution_count": 210,
     "metadata": {},
     "output_type": "execute_result"
    }
   ],
   "source": [
    "def get_possible_opcods(before_input, op_input, after_input):\n",
    "    count = 0\n",
    "    possible_opcods = set()\n",
    "    \n",
    "    before = [x for x in before_input]\n",
    "    op = [x for x in op_input]\n",
    "    after = [x for x in after_input]\n",
    "    \n",
    "    for opcod in opcods:\n",
    "        if operation(opcod, op[1], op[2], op[3], before) == after:\n",
    "            possible_opcods.add(opcod)\n",
    "    return possible_opcods\n",
    "\n",
    "opcod_set = dict()\n",
    "for i in range(16):\n",
    "    opcod_set[str(i)] = set(opcods)\n",
    "\n",
    "import ast\n",
    "\n",
    "f = open('quiz16.txt', 'r')\n",
    "lines = f.readlines()\n",
    "count = 0\n",
    "\n",
    "for i in range(0,3143,4):\n",
    "    t = lines[i:i+3]\n",
    "    \n",
    "    before = ast.literal_eval(t[0].replace('Before: ','').replace('\\n',''))\n",
    "    op = ast.literal_eval(t[1].replace('Before: ','').replace('\\n','').replace(' ',','))\n",
    "    after = ast.literal_eval(t[2].replace('After:  ','').replace('\\n',''))\n",
    "    \n",
    "    possible_opcods = get_possible_opcods(before, op, after)\n",
    "    if len(possible_opcods)>=3:\n",
    "        count+=1\n",
    "        \n",
    "    opcod_set[str(op[0])] = opcod_set[str(op[0])].intersection(possible_opcods)\n",
    "\n",
    "print(count)\n",
    "\n",
    "\n",
    "for key in opcod_set.keys():\n",
    "    if len(opcod_set[key]) == 1:\n",
    "        \n",
    "        for col_key in opcod_set.keys():\n",
    "            if col_key == key:\n",
    "                continue\n",
    "            else:\n",
    "                if len(opcod_set[key].intersection(opcod_set[col_key])) >0:\n",
    "                    opcod_set[col_key] = opcod_set[col_key].difference(opcod_set[key])\n",
    "opcod_set"
   ]
  },
  {
   "cell_type": "code",
   "execution_count": 219,
   "metadata": {},
   "outputs": [
    {
     "data": {
      "text/plain": [
       "{'0': {'eqri'},\n",
       " '1': {'mulr'},\n",
       " '2': {'gtri'},\n",
       " '3': {'gtrr'},\n",
       " '4': {'banr'},\n",
       " '5': {'addi'},\n",
       " '6': {'seti'},\n",
       " '7': {'gtir'},\n",
       " '8': {'muli'},\n",
       " '9': {'bori'},\n",
       " '10': {'setr'},\n",
       " '11': {'addr'},\n",
       " '12': {'bani'},\n",
       " '13': {'borr'},\n",
       " '14': {'eqir'},\n",
       " '15': {'eqrr'}}"
      ]
     },
     "execution_count": 219,
     "metadata": {},
     "output_type": "execute_result"
    }
   ],
   "source": [
    "for key in opcod_set.keys():\n",
    "    if len(opcod_set[key]) == 1:\n",
    "        \n",
    "        for col_key in opcod_set.keys():\n",
    "            if col_key == key:\n",
    "                continue\n",
    "            else:\n",
    "                if len(opcod_set[key].intersection(opcod_set[col_key])) >0:\n",
    "                    opcod_set[col_key] = opcod_set[col_key].difference(opcod_set[key])\n",
    "opcod_set"
   ]
  },
  {
   "cell_type": "code",
   "execution_count": 220,
   "metadata": {},
   "outputs": [
    {
     "name": "stdout",
     "output_type": "stream",
     "text": [
      "[653, 1, 4, 653]\n"
     ]
    }
   ],
   "source": [
    "import ast\n",
    "\n",
    "f = open('quiz16.txt', 'r')\n",
    "lines = f.readlines()\n",
    "\n",
    "registers_1 = [0,0,0,0]\n",
    "opcod_sequence_1 = []\n",
    "\n",
    "registers_2 = [0,0,0,0]\n",
    "opcod_sequence_2 = []\n",
    "\n",
    "\n",
    "for i in range(3146, len(lines)):\n",
    "    #print(registers_1)\n",
    "    op = ast.literal_eval('['+lines[i].replace('\\n','').replace(' ',',')+']')\n",
    "    #print(op)\n",
    "    \n",
    "    opcod_sequence_1.append(list(opcod_set_possible_1[str(op[0])])[0] )\n",
    "    opcod_sequence_2.append(list(opcod_set_possible_2[str(op[0])])[0] )\n",
    "    #print(list(opcod_set_possible_1[str(op[0])])[0])\n",
    "    #print(op[1], op[2], op[3])\n",
    "    #print(registers_1[op[3]])\n",
    "    registers_1 = operation(list(opcod_set[str(op[0])])[0], op[1], op[2], op[3], registers_1)\n",
    "    #registers_2 = operation(list(opcod_set_possible_2[str(op[0])])[0], op[1], op[2], op[3], registers_2)\n",
    "    #print(registers_1)\n",
    "    #print('==')\n",
    "print(registers_1)\n",
    "#print(registers_2)\n",
    "#print(registers_1 == registers_2)\n",
    "#print(opcod_sequence_1 == opcod_sequence_2)"
   ]
  },
  {
   "cell_type": "code",
   "execution_count": 194,
   "metadata": {},
   "outputs": [
    {
     "name": "stdout",
     "output_type": "stream",
     "text": [
      "[0, 1, 4, 4]\n",
      "[0, 1, 4, 4]\n",
      "True\n",
      "False\n"
     ]
    }
   ],
   "source": [
    "print(registers_1)\n",
    "print(registers_2)\n",
    "print(registers_1 == registers_2)\n",
    "print(opcod_sequence_1 == opcod_sequence_2)"
   ]
  },
  {
   "cell_type": "code",
   "execution_count": 147,
   "metadata": {},
   "outputs": [
    {
     "data": {
      "text/plain": [
       "[0, 1, 4, 4]"
      ]
     },
     "execution_count": 147,
     "metadata": {},
     "output_type": "execute_result"
    }
   ],
   "source": [
    "operation(list(opcod_set_possible_2[str(10)])[0], 3,2,0, registers_2)"
   ]
  },
  {
   "cell_type": "code",
   "execution_count": 148,
   "metadata": {},
   "outputs": [
    {
     "data": {
      "text/plain": [
       "{'0': {'eqri'},\n",
       " '1': {'mulr'},\n",
       " '2': {'gtri'},\n",
       " '3': {'gtrr'},\n",
       " '4': {'banr'},\n",
       " '5': {'addi'},\n",
       " '6': {'seti'},\n",
       " '7': {'setr'},\n",
       " '8': {'muli'},\n",
       " '9': {'bori'},\n",
       " '10': {'gtir'},\n",
       " '11': {'addr'},\n",
       " '12': {'bani'},\n",
       " '13': {'borr'},\n",
       " '14': {'eqir'},\n",
       " '15': {'eqrr'}}"
      ]
     },
     "execution_count": 148,
     "metadata": {},
     "output_type": "execute_result"
    }
   ],
   "source": [
    "opcod_set_possible_2"
   ]
  },
  {
   "cell_type": "code",
   "execution_count": 204,
   "metadata": {},
   "outputs": [
    {
     "name": "stdout",
     "output_type": "stream",
     "text": [
      "Part 1: 605\n",
      "Part 2 653\n"
     ]
    }
   ],
   "source": []
  },
  {
   "cell_type": "code",
   "execution_count": 207,
   "metadata": {},
   "outputs": [
    {
     "data": {
      "text/plain": [
       "{'0': {'eqri'},\n",
       " '1': {'mulr'},\n",
       " '2': {'gtri'},\n",
       " '3': {'gtrr'},\n",
       " '4': {'banr'},\n",
       " '5': {'addi'},\n",
       " '6': {'seti'},\n",
       " '7': {'setr'},\n",
       " '8': {'muli'},\n",
       " '9': {'bori'},\n",
       " '10': {'gtir'},\n",
       " '11': {'addr'},\n",
       " '12': {'bani'},\n",
       " '13': {'borr'},\n",
       " '14': {'eqir'},\n",
       " '15': {'eqrr'}}"
      ]
     },
     "execution_count": 207,
     "metadata": {},
     "output_type": "execute_result"
    }
   ],
   "source": []
  },
  {
   "cell_type": "code",
   "execution_count": 206,
   "metadata": {},
   "outputs": [
    {
     "data": {
      "text/plain": [
       "{3: 'gtrr',\n",
       " 2: 'gtri',\n",
       " 14: 'eqir',\n",
       " 15: 'eqrr',\n",
       " 0: 'eqri',\n",
       " 7: 'gtir',\n",
       " 4: 'banr',\n",
       " 10: 'setr',\n",
       " 12: 'bani',\n",
       " 6: 'seti',\n",
       " 1: 'mulr',\n",
       " 5: 'addi',\n",
       " 13: 'borr',\n",
       " 9: 'bori',\n",
       " 11: 'addr',\n",
       " 8: 'muli'}"
      ]
     },
     "execution_count": 206,
     "metadata": {},
     "output_type": "execute_result"
    }
   ],
   "source": [
    "ok"
   ]
  }
 ],
 "metadata": {
  "kernelspec": {
   "display_name": "Python 3",
   "language": "python",
   "name": "python3"
  },
  "language_info": {
   "codemirror_mode": {
    "name": "ipython",
    "version": 3
   },
   "file_extension": ".py",
   "mimetype": "text/x-python",
   "name": "python",
   "nbconvert_exporter": "python",
   "pygments_lexer": "ipython3",
   "version": "3.6.5"
  }
 },
 "nbformat": 4,
 "nbformat_minor": 2
}
