{
 "cells": [
  {
   "cell_type": "code",
<<<<<<< HEAD
   "execution_count": 9,
   "metadata": {
    "ExecuteTime": {
     "end_time": "2018-12-11T09:41:39.549217",
     "start_time": "2018-12-11T09:41:39.543918"
    },
    "collapsed": true
   },
   "outputs": [],
   "source": [
    "import pandas as pd\n",
    "import numpy as np\n",
    "import matplotlib.pylab as plt\n",
    "%matplotlib inline"
=======
   "execution_count": 40,
   "metadata": {},
   "outputs": [],
   "source": [
    "import PIL\n",
    "import pandas as pd\n",
    "import numpy as np\n",
    "import scipy.misc as smp\n",
    "import matplotlib.pylab as plt"
>>>>>>> ed9a8ab7e01cac1a0e671156b90922a58ace8826
   ]
  },
  {
   "cell_type": "code",
<<<<<<< HEAD
   "execution_count": 2,
   "metadata": {
    "ExecuteTime": {
     "end_time": "2018-12-11T09:40:43.364421",
     "start_time": "2018-12-11T09:40:43.317058"
    },
    "collapsed": false
   },
=======
   "execution_count": 33,
   "metadata": {},
   "outputs": [
    {
     "data": {
      "text/plain": [
       "' -3'"
      ]
     },
     "execution_count": 33,
     "metadata": {},
     "output_type": "execute_result"
    }
   ],
   "source": [
    "z=t['z'][0]\n",
    "#int(\n",
    "z[:z.find('>')]#.replace(' ',''))"
   ]
  },
  {
   "cell_type": "code",
   "execution_count": 179,
   "metadata": {},
   "outputs": [],
   "source": [
    "t = pd.read_csv('quiz10.txt', names=['x','y','z'])\n",
    "t.head()\n",
    "\n",
    "def get_values(x,y,z,k =0):\n",
    "    x_pos = np.log(int(x[x.find('<')+1:].replace(' ','')))\n",
    "    y_pos = np.loint(y[:y.find('>'):].replace(' ','')))\n",
    "    \n",
    "    vel_x = int(y[y.find('<')+1:].replace(' ',''))\n",
    "    vel_y = int(z[:z.find('>')].replace(' ',''))\n",
    "    return [x_pos, y_pos, vel_x, vel_y]\n",
    "\n",
    "df = pd.DataFrame(columns = ['x','y','vel_x', 'vel_y'])\n",
    "vel = dict()\n",
    "\n",
    "for i in range(len(t)):\n",
    "    values = get_values(t['x'][i], t['y'][i], t['z'][i], k=1000)\n",
    "    df.loc[i] = [values[0], values[1], values[2], values[3]] \n",
    "    \n",
    "    vel[i] = [values[2], values[3]]\n",
    "    \n",
    "df['index'] = df.index"
   ]
  },
  {
   "cell_type": "code",
   "execution_count": 172,
   "metadata": {},
>>>>>>> ed9a8ab7e01cac1a0e671156b90922a58ace8826
   "outputs": [
    {
     "data": {
      "text/html": [
       "<div>\n",
       "<style scoped>\n",
       "    .dataframe tbody tr th:only-of-type {\n",
       "        vertical-align: middle;\n",
       "    }\n",
       "\n",
       "    .dataframe tbody tr th {\n",
       "        vertical-align: top;\n",
       "    }\n",
       "\n",
       "    .dataframe thead th {\n",
       "        text-align: right;\n",
       "    }\n",
       "</style>\n",
       "<table border=\"1\" class=\"dataframe\">\n",
       "  <thead>\n",
       "    <tr style=\"text-align: right;\">\n",
       "      <th></th>\n",
       "      <th>x</th>\n",
       "      <th>y</th>\n",
<<<<<<< HEAD
       "      <th>z</th>\n",
=======
       "      <th>vel_x</th>\n",
       "      <th>vel_y</th>\n",
       "      <th>index</th>\n",
>>>>>>> ed9a8ab7e01cac1a0e671156b90922a58ace8826
       "    </tr>\n",
       "  </thead>\n",
       "  <tbody>\n",
       "    <tr>\n",
       "      <th>0</th>\n",
<<<<<<< HEAD
       "      <td>position=&lt; 21188</td>\n",
       "      <td>31669&gt; velocity=&lt;-2</td>\n",
       "      <td>-3&gt;</td>\n",
       "    </tr>\n",
       "    <tr>\n",
       "      <th>1</th>\n",
       "      <td>position=&lt;-10416</td>\n",
       "      <td>-31455&gt; velocity=&lt; 1</td>\n",
       "      <td>3&gt;</td>\n",
       "    </tr>\n",
       "    <tr>\n",
       "      <th>2</th>\n",
       "      <td>position=&lt; 21144</td>\n",
       "      <td>-31450&gt; velocity=&lt;-2</td>\n",
       "      <td>3&gt;</td>\n",
       "    </tr>\n",
       "    <tr>\n",
       "      <th>3</th>\n",
       "      <td>position=&lt; 42218</td>\n",
       "      <td>21146&gt; velocity=&lt;-4</td>\n",
       "      <td>-2&gt;</td>\n",
       "    </tr>\n",
       "    <tr>\n",
       "      <th>4</th>\n",
       "      <td>position=&lt; 42223</td>\n",
       "      <td>10633&gt; velocity=&lt;-4</td>\n",
       "      <td>-1&gt;</td>\n",
=======
       "      <td>211.88</td>\n",
       "      <td>316.69</td>\n",
       "      <td>-2.0</td>\n",
       "      <td>-3.0</td>\n",
       "      <td>0</td>\n",
       "    </tr>\n",
       "    <tr>\n",
       "      <th>1</th>\n",
       "      <td>-104.16</td>\n",
       "      <td>-314.55</td>\n",
       "      <td>1.0</td>\n",
       "      <td>3.0</td>\n",
       "      <td>1</td>\n",
       "    </tr>\n",
       "    <tr>\n",
       "      <th>2</th>\n",
       "      <td>211.44</td>\n",
       "      <td>-314.50</td>\n",
       "      <td>-2.0</td>\n",
       "      <td>3.0</td>\n",
       "      <td>2</td>\n",
       "    </tr>\n",
       "    <tr>\n",
       "      <th>3</th>\n",
       "      <td>422.18</td>\n",
       "      <td>211.46</td>\n",
       "      <td>-4.0</td>\n",
       "      <td>-2.0</td>\n",
       "      <td>3</td>\n",
       "    </tr>\n",
       "    <tr>\n",
       "      <th>4</th>\n",
       "      <td>422.23</td>\n",
       "      <td>106.33</td>\n",
       "      <td>-4.0</td>\n",
       "      <td>-1.0</td>\n",
       "      <td>4</td>\n",
>>>>>>> ed9a8ab7e01cac1a0e671156b90922a58ace8826
       "    </tr>\n",
       "  </tbody>\n",
       "</table>\n",
       "</div>"
      ],
      "text/plain": [
<<<<<<< HEAD
       "                  x                      y     z\n",
       "0  position=< 21188    31669> velocity=<-2   -3>\n",
       "1  position=<-10416   -31455> velocity=< 1    3>\n",
       "2  position=< 21144   -31450> velocity=<-2    3>\n",
       "3  position=< 42218    21146> velocity=<-4   -2>\n",
       "4  position=< 42223    10633> velocity=<-4   -1>"
      ]
     },
     "execution_count": 2,
=======
       "        x       y  vel_x  vel_y  index\n",
       "0  211.88  316.69   -2.0   -3.0      0\n",
       "1 -104.16 -314.55    1.0    3.0      1\n",
       "2  211.44 -314.50   -2.0    3.0      2\n",
       "3  422.18  211.46   -4.0   -2.0      3\n",
       "4  422.23  106.33   -4.0   -1.0      4"
      ]
     },
     "execution_count": 172,
>>>>>>> ed9a8ab7e01cac1a0e671156b90922a58ace8826
     "metadata": {},
     "output_type": "execute_result"
    }
   ],
   "source": [
<<<<<<< HEAD
    "t = pd.read_csv('quiz10.txt', names = ['x','y','z'])\n",
    "t.head()"
   ]
  },
  {
   "cell_type": "code",
   "execution_count": 3,
   "metadata": {
    "ExecuteTime": {
     "end_time": "2018-12-11T09:40:44.824869",
     "start_time": "2018-12-11T09:40:44.819762"
    },
    "collapsed": true
   },
   "outputs": [],
   "source": [
    "def get_position(x,y,z):\n",
    "    pos_x = int(x[x.find('<')+1:].replace(' ',''))\n",
    "    pos_y = int(y[:y.find('>')])\n",
    "    velocity_x = int(y[y.find('<')+1:])\n",
    "    velocity_y = int(z[:-1])\n",
    "\n",
    "    return pos_x, pos_y, velocity_x, velocity_y"
=======
    "df.head()"
>>>>>>> ed9a8ab7e01cac1a0e671156b90922a58ace8826
   ]
  },
  {
   "cell_type": "code",
<<<<<<< HEAD
   "execution_count": 75,
   "metadata": {
    "ExecuteTime": {
     "end_time": "2018-12-11T10:15:19.162023",
     "start_time": "2018-12-11T10:15:19.154809"
    },
    "collapsed": true
   },
   "outputs": [],
   "source": []
  },
  {
   "cell_type": "code",
   "execution_count": 78,
   "metadata": {
    "ExecuteTime": {
     "end_time": "2018-12-11T10:15:34.174317",
     "start_time": "2018-12-11T10:15:33.730402"
    },
    "collapsed": false
   },
   "outputs": [],
   "source": []
  },
  {
   "cell_type": "code",
   "execution_count": 134,
   "metadata": {
    "ExecuteTime": {
     "end_time": "2018-12-11T10:31:44.110090",
     "start_time": "2018-12-11T10:31:03.550179"
    },
    "collapsed": false,
    "scrolled": false
   },
   "outputs": [
    {
     "name": "stdout",
     "output_type": "stream",
     "text": [
      "10520 61 9\n"
     ]
    }
   ],
   "source": [
    "df = pd.DataFrame(columns=['x','y', 'vel_x', 'vel_y'])\n",
    "velocity = dict()\n",
    "\n",
    "for i in range(len(t)):\n",
    "    x,y,vel_x,vel_y = get_position(t['x'][i],t['y'][i],t['z'][i])\n",
    "    df.loc[i] = [x,y, vel_x, vel_y]\n",
    "    velocity[i] = [vel_x, vel_y]\n",
    "\n",
    "min_length = 10**8\n",
    "min_height = 10**8\n",
    "min_i = -1\n",
    "\n",
    "for k in range(30000):\n",
    "    df['x'] = df['x'] + df['vel_x']\n",
    "    df['y'] = df['y'] + df['vel_y']\n",
    "    \n",
    "#     plt.scatter(df['y'], df['x'])\n",
    "#     plt.show()\n",
    "    \n",
    "    length = df['x'].max() - df['x'].min()\n",
    "    height = df['y'].max() - df['y'].min()\n",
    "    \n",
    "    if length<min_length:\n",
    "        min_length = length\n",
    "        min_height = height\n",
    "        min_i = k\n",
    "print(min_i, min_length, min_height)\n"
   ]
  },
  {
   "cell_type": "code",
   "execution_count": 135,
   "metadata": {
    "ExecuteTime": {
     "end_time": "2018-12-11T10:31:57.080091",
     "start_time": "2018-12-11T10:31:56.621917"
    },
    "collapsed": true
   },
   "outputs": [],
   "source": [
    "df = pd.DataFrame(columns=['x','y', 'vel_x', 'vel_y'])\n",
    "velocity = dict()\n",
    "\n",
    "for i in range(len(t)):\n",
    "    x,y,vel_x,vel_y = get_position(t['x'][i],t['y'][i],t['z'][i])\n",
    "    df.loc[i] = [x,y, vel_x, vel_y]\n",
    "    velocity[i] = [vel_x, vel_y]"
   ]
  },
  {
   "cell_type": "code",
   "execution_count": 136,
   "metadata": {
    "ExecuteTime": {
     "end_time": "2018-12-11T10:32:10.321240",
     "start_time": "2018-12-11T10:32:10.316870"
    },
    "collapsed": false
   },
   "outputs": [],
   "source": [
    "df['x'] = df['x'] + 10520*df['vel_x']\n",
    "df['y'] = df['y'] + 10520*df['vel_y']\n"
   ]
  },
  {
   "cell_type": "code",
   "execution_count": 140,
   "metadata": {
    "ExecuteTime": {
     "end_time": "2018-12-11T10:32:36.602041",
     "start_time": "2018-12-11T10:32:36.597242"
    },
    "collapsed": false
   },
   "outputs": [
    {
     "data": {
      "text/plain": [
       "19"
      ]
     },
     "execution_count": 140,
=======
   "execution_count": 159,
   "metadata": {},
   "outputs": [
    {
     "data": {
      "text/html": [
       "<div>\n",
       "<style scoped>\n",
       "    .dataframe tbody tr th:only-of-type {\n",
       "        vertical-align: middle;\n",
       "    }\n",
       "\n",
       "    .dataframe tbody tr th {\n",
       "        vertical-align: top;\n",
       "    }\n",
       "\n",
       "    .dataframe thead th {\n",
       "        text-align: right;\n",
       "    }\n",
       "</style>\n",
       "<table border=\"1\" class=\"dataframe\">\n",
       "  <thead>\n",
       "    <tr style=\"text-align: right;\">\n",
       "      <th></th>\n",
       "      <th>x</th>\n",
       "      <th>y</th>\n",
       "      <th>vel_x</th>\n",
       "      <th>vel_y</th>\n",
       "      <th>index</th>\n",
       "    </tr>\n",
       "  </thead>\n",
       "  <tbody>\n",
       "    <tr>\n",
       "      <th>0</th>\n",
       "      <td>21188</td>\n",
       "      <td>31669</td>\n",
       "      <td>-2</td>\n",
       "      <td>-3</td>\n",
       "      <td>0</td>\n",
       "    </tr>\n",
       "    <tr>\n",
       "      <th>1</th>\n",
       "      <td>-10416</td>\n",
       "      <td>-31455</td>\n",
       "      <td>1</td>\n",
       "      <td>3</td>\n",
       "      <td>1</td>\n",
       "    </tr>\n",
       "    <tr>\n",
       "      <th>2</th>\n",
       "      <td>21144</td>\n",
       "      <td>-31450</td>\n",
       "      <td>-2</td>\n",
       "      <td>3</td>\n",
       "      <td>2</td>\n",
       "    </tr>\n",
       "    <tr>\n",
       "      <th>3</th>\n",
       "      <td>42218</td>\n",
       "      <td>21146</td>\n",
       "      <td>-4</td>\n",
       "      <td>-2</td>\n",
       "      <td>3</td>\n",
       "    </tr>\n",
       "    <tr>\n",
       "      <th>4</th>\n",
       "      <td>42223</td>\n",
       "      <td>10633</td>\n",
       "      <td>-4</td>\n",
       "      <td>-1</td>\n",
       "      <td>4</td>\n",
       "    </tr>\n",
       "  </tbody>\n",
       "</table>\n",
       "</div>"
      ],
      "text/plain": [
       "        x       y vel_x vel_y  index\n",
       "0   21188   31669    -2    -3      0\n",
       "1  -10416  -31455     1     3      1\n",
       "2   21144  -31450    -2     3      2\n",
       "3   42218   21146    -4    -2      3\n",
       "4   42223   10633    -4    -1      4"
      ]
     },
     "execution_count": 159,
>>>>>>> ed9a8ab7e01cac1a0e671156b90922a58ace8826
     "metadata": {},
     "output_type": "execute_result"
    }
   ],
   "source": [
<<<<<<< HEAD
    "df['y'].max()-df['y'].min()"
=======
    "df.head()"
>>>>>>> ed9a8ab7e01cac1a0e671156b90922a58ace8826
   ]
  },
  {
   "cell_type": "code",
<<<<<<< HEAD
   "execution_count": 142,
   "metadata": {
    "ExecuteTime": {
     "end_time": "2018-12-11T10:33:54.190933",
     "start_time": "2018-12-11T10:33:54.082898"
    },
    "collapsed": false
   },
   "outputs": [],
   "source": []
  },
  {
   "cell_type": "code",
   "execution_count": 148,
   "metadata": {
    "ExecuteTime": {
     "end_time": "2018-12-11T10:34:33.103705",
     "start_time": "2018-12-11T10:34:33.098732"
    },
    "collapsed": false
   },
=======
   "execution_count": 160,
   "metadata": {},
>>>>>>> ed9a8ab7e01cac1a0e671156b90922a58ace8826
   "outputs": [
    {
     "data": {
      "text/plain": [
<<<<<<< HEAD
       "69"
      ]
     },
     "execution_count": 148,
=======
       "330"
      ]
     },
     "execution_count": 160,
>>>>>>> ed9a8ab7e01cac1a0e671156b90922a58ace8826
     "metadata": {},
     "output_type": "execute_result"
    }
   ],
   "source": [
<<<<<<< HEAD
    "df['y'].max()-df['y'].min()\n",
    "df['x'].max()-df['x'].min()"
=======
    "df['x']"
>>>>>>> ed9a8ab7e01cac1a0e671156b90922a58ace8826
   ]
  },
  {
   "cell_type": "code",
<<<<<<< HEAD
   "execution_count": 154,
   "metadata": {
    "ExecuteTime": {
     "end_time": "2018-12-11T10:37:57.391313",
     "start_time": "2018-12-11T10:37:57.387645"
    },
    "collapsed": false
   },
=======
   "execution_count": 178,
   "metadata": {},
>>>>>>> ed9a8ab7e01cac1a0e671156b90922a58ace8826
   "outputs": [
    {
     "data": {
      "text/plain": [
<<<<<<< HEAD
       "10520"
      ]
     },
     "execution_count": 154,
     "metadata": {},
     "output_type": "execute_result"
    }
   ],
   "source": [
    "min_i"
   ]
  },
  {
   "cell_type": "code",
   "execution_count": 153,
   "metadata": {
    "ExecuteTime": {
     "end_time": "2018-12-11T10:36:59.456063",
     "start_time": "2018-12-11T10:36:59.439532"
    },
    "collapsed": false
   },
   "outputs": [
    {
     "name": "stdout",
     "output_type": "stream",
     "text": [
      "*    *  *****   ******  *    *  *    *  *    *  *    *  *     \n",
      "*    *  *    *  *       *    *  *    *  *    *  *   *   *     \n",
      " *  *   *    *  *        *  *    *  *    *  *   *  *    *     \n",
      " *  *   *    *  *        *  *    *  *    *  *   * *     *     \n",
      "  **    *****   *****     **      **      **    **      *     \n",
      "  **    *       *         **      **      **    **      *     \n",
      " *  *   *       *        *  *    *  *    *  *   * *     *     \n",
      " *  *   *       *        *  *    *  *    *  *   *  *    *     \n",
      "*    *  *       *       *    *  *    *  *    *  *   *   *     \n",
      "*    *  *       *       *    *  *    *  *    *  *    *  ******\n"
     ]
    }
   ],
   "source": [
    "# df['x'] = df['x'] + df['vel_x']\n",
    "# df['y'] = df['y'] + df['vel_y']\n",
    "\n",
    "# df['x'] = df['x'].apply(lambda x: x-df['x'].min())\n",
    "# df['y'] = df['y'].apply(lambda x: x-df['y'].min())\n",
    "\n",
    "map = [[' '] * (df['x'].max()+1) for j in range(df['y'].max()+1)]\n",
    "for i in range(len(df)):\n",
    "    map[df['y'][i]][df['x'][i]] = '*'\n",
    "    \n",
    "for m in map:\n",
    "    print(''.join(m))"
   ]
  },
  {
   "cell_type": "code",
   "execution_count": 56,
   "metadata": {
    "ExecuteTime": {
     "end_time": "2018-12-10T17:14:51.949532",
     "start_time": "2018-12-10T17:14:51.941891"
    },
    "collapsed": false
   },
   "outputs": [],
   "source": [
    "res = 1000\n",
    "matrix = np.chararray( (int((df['x'].max()-df['x'].min())/res), int((df['y'].max()-df['y'].min())/res)) )\n",
    "matrix[:] = ''\n",
    "\n",
    "\n",
    "for i in range(int(len(df)/1000)):\n",
    "    matrix[df['x'][i]*1000][-df['y'][i]*1000] = '#'"
=======
       "<matplotlib.collections.PathCollection at 0xda25cdba8>"
      ]
     },
     "execution_count": 178,
     "metadata": {},
     "output_type": "execute_result"
    },
    {
     "data": {
      "image/png": "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\n",
      "text/plain": [
       "<Figure size 432x288 with 1 Axes>"
      ]
     },
     "metadata": {},
     "output_type": "display_data"
    }
   ],
   "source": [
    "k = 1\n",
    "\n",
    "df['x'] = df.apply(lambda x: x['x']+k*x['vel_x'], axis=1 )\n",
    "df['y'] = df.apply(lambda x: x['y']+k*x['vel_y'] , axis=1 )\n",
    "plt.scatter(df['x'], df['y'])\n",
    "#plt.xlim((-30000, -10000))"
>>>>>>> ed9a8ab7e01cac1a0e671156b90922a58ace8826
   ]
  },
  {
   "cell_type": "code",
   "execution_count": null,
<<<<<<< HEAD
   "metadata": {
    "ExecuteTime": {
     "start_time": "2018-12-10T22:53:29.391Z"
    },
    "collapsed": false
   },
   "outputs": [],
   "source": [
    "import numpy as np\n",
    "import matplotlib.pyplot as plt\n",
    "\n",
    "INPUT = np.array( [[df['x'][i], df['y'][i]] for i in range(len(df))])\n",
    "\n",
    "# get ranges\n",
    "xmin = df['x'].min()\n",
    "xmax = df['x'].max()\n",
    "ymin = df['y'].min()\n",
    "ymax = df['y'].max()\n",
    "\n",
    "# create array for image : zmax+1 is the default value\n",
    "shape = (xmax-xmin+1,ymax-ymin+1)\n",
    "img = np.ma.array(np.ones(shape)*(zmax+1))\n",
    "\n",
    "for inp in INPUT:\n",
    "    img[inp[0]-xmin,inp[1]-ymin]=inp[2]\n",
    "\n",
    "# set mask on default value\n",
    "img.mask = (img==zmax+1)\n",
    "\n",
    "# set a gray background for test\n",
    "img_bg_test =  np.zeros(shape)\n",
    "cmap_bg_test = plt.get_cmap('gray')\n",
    "plt.imshow(img_bg_test,cmap=cmap_bg_test,interpolation='none')\n",
    "\n",
    "# plot\n",
    "cmap = plt.get_cmap('jet')\n",
    "plt.imshow(img,cmap=cmap,interpolation='none',vmin=zmin,vmax=zmax)\n",
    "plt.colorbar()\n",
    "\n",
    "plt.imsave(\"test.png\",img)\n",
    "plt.show()\n",
    "plt.close()"
   ]
  },
  {
   "cell_type": "code",
   "execution_count": 12,
   "metadata": {
    "ExecuteTime": {
     "end_time": "2018-12-10T18:01:01.442999",
     "start_time": "2018-12-10T18:01:01.111242"
    },
    "collapsed": false
   },
=======
   "metadata": {},
   "outputs": [],
   "source": []
  },
  {
   "cell_type": "code",
   "execution_count": 39,
   "metadata": {},
>>>>>>> ed9a8ab7e01cac1a0e671156b90922a58ace8826
   "outputs": [
    {
     "name": "stderr",
     "output_type": "stream",
     "text": [
<<<<<<< HEAD
      "//anaconda/lib/python3.5/site-packages/ipykernel/__main__.py:6: DeprecationWarning: This function is deprecated. Please call randint(0, 255 + 1) instead\n"
     ]
    },
    {
     "ename": "TypeError",
     "evalue": "Cannot handle this data type",
     "output_type": "error",
     "traceback": [
      "\u001b[0;31m---------------------------------------------------------------------------\u001b[0m",
      "\u001b[0;31mKeyError\u001b[0m                                  Traceback (most recent call last)",
      "\u001b[0;32m//anaconda/lib/python3.5/site-packages/PIL/Image.py\u001b[0m in \u001b[0;36mfromarray\u001b[0;34m(obj, mode)\u001b[0m\n\u001b[1;32m   2166\u001b[0m             \u001b[0mtypekey\u001b[0m \u001b[0;34m=\u001b[0m \u001b[0;34m(\u001b[0m\u001b[0;36m1\u001b[0m\u001b[0;34m,\u001b[0m \u001b[0;36m1\u001b[0m\u001b[0;34m)\u001b[0m \u001b[0;34m+\u001b[0m \u001b[0mshape\u001b[0m\u001b[0;34m[\u001b[0m\u001b[0;36m2\u001b[0m\u001b[0;34m:\u001b[0m\u001b[0;34m]\u001b[0m\u001b[0;34m,\u001b[0m \u001b[0marr\u001b[0m\u001b[0;34m[\u001b[0m\u001b[0;34m'typestr'\u001b[0m\u001b[0;34m]\u001b[0m\u001b[0;34m\u001b[0m\u001b[0m\n\u001b[0;32m-> 2167\u001b[0;31m             \u001b[0mmode\u001b[0m\u001b[0;34m,\u001b[0m \u001b[0mrawmode\u001b[0m \u001b[0;34m=\u001b[0m \u001b[0m_fromarray_typemap\u001b[0m\u001b[0;34m[\u001b[0m\u001b[0mtypekey\u001b[0m\u001b[0;34m]\u001b[0m\u001b[0;34m\u001b[0m\u001b[0m\n\u001b[0m\u001b[1;32m   2168\u001b[0m         \u001b[0;32mexcept\u001b[0m \u001b[0mKeyError\u001b[0m\u001b[0;34m:\u001b[0m\u001b[0;34m\u001b[0m\u001b[0m\n",
      "\u001b[0;31mKeyError\u001b[0m: ((1, 1, 1), '|u1')",
      "\nDuring handling of the above exception, another exception occurred:\n",
      "\u001b[0;31mTypeError\u001b[0m                                 Traceback (most recent call last)",
      "\u001b[0;32m<ipython-input-12-6bfd8a07abc0>\u001b[0m in \u001b[0;36m<module>\u001b[0;34m()\u001b[0m\n\u001b[1;32m     11\u001b[0m \u001b[0;34m\u001b[0m\u001b[0m\n\u001b[1;32m     12\u001b[0m \u001b[0;34m\u001b[0m\u001b[0m\n\u001b[0;32m---> 13\u001b[0;31m \u001b[0mr\u001b[0m \u001b[0;34m=\u001b[0m \u001b[0mrandom_img\u001b[0m\u001b[0;34m(\u001b[0m\u001b[0;34m'random.png'\u001b[0m\u001b[0;34m,\u001b[0m \u001b[0;36m5000\u001b[0m\u001b[0;34m,\u001b[0m \u001b[0;36m5000\u001b[0m\u001b[0;34m)\u001b[0m\u001b[0;34m\u001b[0m\u001b[0m\n\u001b[0m",
      "\u001b[0;32m<ipython-input-12-6bfd8a07abc0>\u001b[0m in \u001b[0;36mrandom_img\u001b[0;34m(output, width, height)\u001b[0m\n\u001b[1;32m      7\u001b[0m \u001b[0;34m\u001b[0m\u001b[0m\n\u001b[1;32m      8\u001b[0m     \u001b[0marray\u001b[0m \u001b[0;34m=\u001b[0m \u001b[0mnp\u001b[0m\u001b[0;34m.\u001b[0m\u001b[0marray\u001b[0m\u001b[0;34m(\u001b[0m\u001b[0marray\u001b[0m\u001b[0;34m,\u001b[0m \u001b[0mdtype\u001b[0m\u001b[0;34m=\u001b[0m\u001b[0mnp\u001b[0m\u001b[0;34m.\u001b[0m\u001b[0muint8\u001b[0m\u001b[0;34m)\u001b[0m\u001b[0;34m\u001b[0m\u001b[0m\n\u001b[0;32m----> 9\u001b[0;31m     \u001b[0mimg\u001b[0m \u001b[0;34m=\u001b[0m \u001b[0mImage\u001b[0m\u001b[0;34m.\u001b[0m\u001b[0mfromarray\u001b[0m\u001b[0;34m(\u001b[0m\u001b[0marray\u001b[0m\u001b[0;34m)\u001b[0m\u001b[0;34m\u001b[0m\u001b[0m\n\u001b[0m\u001b[1;32m     10\u001b[0m     \u001b[0mimg\u001b[0m\u001b[0;34m.\u001b[0m\u001b[0msave\u001b[0m\u001b[0;34m(\u001b[0m\u001b[0moutput\u001b[0m\u001b[0;34m)\u001b[0m\u001b[0;34m\u001b[0m\u001b[0m\n\u001b[1;32m     11\u001b[0m \u001b[0;34m\u001b[0m\u001b[0m\n",
      "\u001b[0;32m//anaconda/lib/python3.5/site-packages/PIL/Image.py\u001b[0m in \u001b[0;36mfromarray\u001b[0;34m(obj, mode)\u001b[0m\n\u001b[1;32m   2168\u001b[0m         \u001b[0;32mexcept\u001b[0m \u001b[0mKeyError\u001b[0m\u001b[0;34m:\u001b[0m\u001b[0;34m\u001b[0m\u001b[0m\n\u001b[1;32m   2169\u001b[0m             \u001b[0;31m# print typekey\u001b[0m\u001b[0;34m\u001b[0m\u001b[0;34m\u001b[0m\u001b[0m\n\u001b[0;32m-> 2170\u001b[0;31m             \u001b[0;32mraise\u001b[0m \u001b[0mTypeError\u001b[0m\u001b[0;34m(\u001b[0m\u001b[0;34m\"Cannot handle this data type\"\u001b[0m\u001b[0;34m)\u001b[0m\u001b[0;34m\u001b[0m\u001b[0m\n\u001b[0m\u001b[1;32m   2171\u001b[0m     \u001b[0;32melse\u001b[0m\u001b[0;34m:\u001b[0m\u001b[0;34m\u001b[0m\u001b[0m\n\u001b[1;32m   2172\u001b[0m         \u001b[0mrawmode\u001b[0m \u001b[0;34m=\u001b[0m \u001b[0mmode\u001b[0m\u001b[0;34m\u001b[0m\u001b[0m\n",
      "\u001b[0;31mTypeError\u001b[0m: Cannot handle this data type"
=======
      "/anaconda3/lib/python3.6/site-packages/ipykernel_launcher.py:6: DeprecationWarning: `toimage` is deprecated!\n",
      "`toimage` is deprecated in SciPy 1.0.0, and will be removed in 1.2.0.\n",
      "Use Pillow's ``Image.fromarray`` directly instead.\n",
      "  \n"
     ]
    },
    {
     "ename": "OverflowError",
     "evalue": "size does not fit in an int",
     "output_type": "error",
     "traceback": [
      "\u001b[0;31m---------------------------------------------------------------------------\u001b[0m",
      "\u001b[0;31mOverflowError\u001b[0m                             Traceback (most recent call last)",
      "\u001b[0;32m<ipython-input-39-509c70d1ccd6>\u001b[0m in \u001b[0;36m<module>\u001b[0;34m()\u001b[0m\n\u001b[1;32m      4\u001b[0m     \u001b[0mdata\u001b[0m\u001b[0;34m[\u001b[0m\u001b[0mdf\u001b[0m\u001b[0;34m[\u001b[0m\u001b[0;34m'x'\u001b[0m\u001b[0;34m]\u001b[0m\u001b[0;34m[\u001b[0m\u001b[0mi\u001b[0m\u001b[0;34m]\u001b[0m\u001b[0;34m]\u001b[0m\u001b[0;34m[\u001b[0m\u001b[0mdf\u001b[0m\u001b[0;34m[\u001b[0m\u001b[0;34m'y'\u001b[0m\u001b[0;34m]\u001b[0m\u001b[0;34m[\u001b[0m\u001b[0mi\u001b[0m\u001b[0;34m]\u001b[0m\u001b[0;34m]\u001b[0m \u001b[0;34m=\u001b[0m \u001b[0;36m200\u001b[0m\u001b[0;34m\u001b[0m\u001b[0m\n\u001b[1;32m      5\u001b[0m \u001b[0;34m\u001b[0m\u001b[0m\n\u001b[0;32m----> 6\u001b[0;31m \u001b[0mimg\u001b[0m \u001b[0;34m=\u001b[0m \u001b[0msmp\u001b[0m\u001b[0;34m.\u001b[0m\u001b[0mtoimage\u001b[0m\u001b[0;34m(\u001b[0m \u001b[0mdata\u001b[0m \u001b[0;34m)\u001b[0m       \u001b[0;31m# Create a PIL image\u001b[0m\u001b[0;34m\u001b[0m\u001b[0m\n\u001b[0m\u001b[1;32m      7\u001b[0m \u001b[0mimg\u001b[0m\u001b[0;34m.\u001b[0m\u001b[0mshow\u001b[0m\u001b[0;34m(\u001b[0m\u001b[0;34m)\u001b[0m                      \u001b[0;31m# View in default viewer\u001b[0m\u001b[0;34m\u001b[0m\u001b[0m\n",
      "\u001b[0;32m/anaconda3/lib/python3.6/site-packages/numpy/lib/utils.py\u001b[0m in \u001b[0;36mnewfunc\u001b[0;34m(*args, **kwds)\u001b[0m\n\u001b[1;32m     99\u001b[0m             \u001b[0;34m\"\"\"`arrayrange` is deprecated, use `arange` instead!\"\"\"\u001b[0m\u001b[0;34m\u001b[0m\u001b[0m\n\u001b[1;32m    100\u001b[0m             \u001b[0mwarnings\u001b[0m\u001b[0;34m.\u001b[0m\u001b[0mwarn\u001b[0m\u001b[0;34m(\u001b[0m\u001b[0mdepdoc\u001b[0m\u001b[0;34m,\u001b[0m \u001b[0mDeprecationWarning\u001b[0m\u001b[0;34m,\u001b[0m \u001b[0mstacklevel\u001b[0m\u001b[0;34m=\u001b[0m\u001b[0;36m2\u001b[0m\u001b[0;34m)\u001b[0m\u001b[0;34m\u001b[0m\u001b[0m\n\u001b[0;32m--> 101\u001b[0;31m             \u001b[0;32mreturn\u001b[0m \u001b[0mfunc\u001b[0m\u001b[0;34m(\u001b[0m\u001b[0;34m*\u001b[0m\u001b[0margs\u001b[0m\u001b[0;34m,\u001b[0m \u001b[0;34m**\u001b[0m\u001b[0mkwds\u001b[0m\u001b[0;34m)\u001b[0m\u001b[0;34m\u001b[0m\u001b[0m\n\u001b[0m\u001b[1;32m    102\u001b[0m \u001b[0;34m\u001b[0m\u001b[0m\n\u001b[1;32m    103\u001b[0m         \u001b[0mnewfunc\u001b[0m \u001b[0;34m=\u001b[0m \u001b[0m_set_function_name\u001b[0m\u001b[0;34m(\u001b[0m\u001b[0mnewfunc\u001b[0m\u001b[0;34m,\u001b[0m \u001b[0mold_name\u001b[0m\u001b[0;34m)\u001b[0m\u001b[0;34m\u001b[0m\u001b[0m\n",
      "\u001b[0;32m/anaconda3/lib/python3.6/site-packages/scipy/misc/pilutil.py\u001b[0m in \u001b[0;36mtoimage\u001b[0;34m(arr, high, low, cmin, cmax, pal, mode, channel_axis)\u001b[0m\n\u001b[1;32m    336\u001b[0m             bytedata = bytescale(data, high=high, low=low,\n\u001b[1;32m    337\u001b[0m                                  cmin=cmin, cmax=cmax)\n\u001b[0;32m--> 338\u001b[0;31m             \u001b[0mimage\u001b[0m \u001b[0;34m=\u001b[0m \u001b[0mImage\u001b[0m\u001b[0;34m.\u001b[0m\u001b[0mfrombytes\u001b[0m\u001b[0;34m(\u001b[0m\u001b[0;34m'L'\u001b[0m\u001b[0;34m,\u001b[0m \u001b[0mshape\u001b[0m\u001b[0;34m,\u001b[0m \u001b[0mbytedata\u001b[0m\u001b[0;34m.\u001b[0m\u001b[0mtostring\u001b[0m\u001b[0;34m(\u001b[0m\u001b[0;34m)\u001b[0m\u001b[0;34m)\u001b[0m\u001b[0;34m\u001b[0m\u001b[0m\n\u001b[0m\u001b[1;32m    339\u001b[0m             \u001b[0;32mif\u001b[0m \u001b[0mpal\u001b[0m \u001b[0;32mis\u001b[0m \u001b[0;32mnot\u001b[0m \u001b[0;32mNone\u001b[0m\u001b[0;34m:\u001b[0m\u001b[0;34m\u001b[0m\u001b[0m\n\u001b[1;32m    340\u001b[0m                 \u001b[0mimage\u001b[0m\u001b[0;34m.\u001b[0m\u001b[0mputpalette\u001b[0m\u001b[0;34m(\u001b[0m\u001b[0masarray\u001b[0m\u001b[0;34m(\u001b[0m\u001b[0mpal\u001b[0m\u001b[0;34m,\u001b[0m \u001b[0mdtype\u001b[0m\u001b[0;34m=\u001b[0m\u001b[0muint8\u001b[0m\u001b[0;34m)\u001b[0m\u001b[0;34m.\u001b[0m\u001b[0mtostring\u001b[0m\u001b[0;34m(\u001b[0m\u001b[0;34m)\u001b[0m\u001b[0;34m)\u001b[0m\u001b[0;34m\u001b[0m\u001b[0m\n",
      "\u001b[0;32m/anaconda3/lib/python3.6/site-packages/PIL/Image.py\u001b[0m in \u001b[0;36mfrombytes\u001b[0;34m(mode, size, data, decoder_name, *args)\u001b[0m\n\u001b[1;32m   2334\u001b[0m \u001b[0;34m\u001b[0m\u001b[0m\n\u001b[1;32m   2335\u001b[0m     \u001b[0mim\u001b[0m \u001b[0;34m=\u001b[0m \u001b[0mnew\u001b[0m\u001b[0;34m(\u001b[0m\u001b[0mmode\u001b[0m\u001b[0;34m,\u001b[0m \u001b[0msize\u001b[0m\u001b[0;34m)\u001b[0m\u001b[0;34m\u001b[0m\u001b[0m\n\u001b[0;32m-> 2336\u001b[0;31m     \u001b[0mim\u001b[0m\u001b[0;34m.\u001b[0m\u001b[0mfrombytes\u001b[0m\u001b[0;34m(\u001b[0m\u001b[0mdata\u001b[0m\u001b[0;34m,\u001b[0m \u001b[0mdecoder_name\u001b[0m\u001b[0;34m,\u001b[0m \u001b[0margs\u001b[0m\u001b[0;34m)\u001b[0m\u001b[0;34m\u001b[0m\u001b[0m\n\u001b[0m\u001b[1;32m   2337\u001b[0m     \u001b[0;32mreturn\u001b[0m \u001b[0mim\u001b[0m\u001b[0;34m\u001b[0m\u001b[0m\n\u001b[1;32m   2338\u001b[0m \u001b[0;34m\u001b[0m\u001b[0m\n",
      "\u001b[0;32m/anaconda3/lib/python3.6/site-packages/PIL/Image.py\u001b[0m in \u001b[0;36mfrombytes\u001b[0;34m(self, data, decoder_name, *args)\u001b[0m\n\u001b[1;32m    783\u001b[0m         \u001b[0md\u001b[0m \u001b[0;34m=\u001b[0m \u001b[0m_getdecoder\u001b[0m\u001b[0;34m(\u001b[0m\u001b[0mself\u001b[0m\u001b[0;34m.\u001b[0m\u001b[0mmode\u001b[0m\u001b[0;34m,\u001b[0m \u001b[0mdecoder_name\u001b[0m\u001b[0;34m,\u001b[0m \u001b[0margs\u001b[0m\u001b[0;34m)\u001b[0m\u001b[0;34m\u001b[0m\u001b[0m\n\u001b[1;32m    784\u001b[0m         \u001b[0md\u001b[0m\u001b[0;34m.\u001b[0m\u001b[0msetimage\u001b[0m\u001b[0;34m(\u001b[0m\u001b[0mself\u001b[0m\u001b[0;34m.\u001b[0m\u001b[0mim\u001b[0m\u001b[0;34m)\u001b[0m\u001b[0;34m\u001b[0m\u001b[0m\n\u001b[0;32m--> 785\u001b[0;31m         \u001b[0ms\u001b[0m \u001b[0;34m=\u001b[0m \u001b[0md\u001b[0m\u001b[0;34m.\u001b[0m\u001b[0mdecode\u001b[0m\u001b[0;34m(\u001b[0m\u001b[0mdata\u001b[0m\u001b[0;34m)\u001b[0m\u001b[0;34m\u001b[0m\u001b[0m\n\u001b[0m\u001b[1;32m    786\u001b[0m \u001b[0;34m\u001b[0m\u001b[0m\n\u001b[1;32m    787\u001b[0m         \u001b[0;32mif\u001b[0m \u001b[0ms\u001b[0m\u001b[0;34m[\u001b[0m\u001b[0;36m0\u001b[0m\u001b[0;34m]\u001b[0m \u001b[0;34m>=\u001b[0m \u001b[0;36m0\u001b[0m\u001b[0;34m:\u001b[0m\u001b[0;34m\u001b[0m\u001b[0m\n",
      "\u001b[0;31mOverflowError\u001b[0m: size does not fit in an int"
>>>>>>> ed9a8ab7e01cac1a0e671156b90922a58ace8826
     ]
    }
   ],
   "source": [
<<<<<<< HEAD
    "from PIL import Image\n",
    "import numpy as np\n",
    "\n",
    "def random_img(output, width, height):\n",
    "\n",
    "    array = np.random.random_integers(0,255, (width,height,3))  \n",
    "\n",
    "    array = np.array(array, dtype=np.uint8)\n",
    "    img = Image.fromarray(array)\n",
    "    img.save(output)\n",
    "\n",
    "\n",
    "r = random_img('random.png', 5000, 5000)"
   ]
  },
  {
   "cell_type": "code",
   "execution_count": 8,
   "metadata": {
    "ExecuteTime": {
     "end_time": "2018-12-10T17:59:49.191241",
     "start_time": "2018-12-10T17:59:49.187073"
    },
    "collapsed": false
   },
   "outputs": [
    {
     "data": {
      "text/plain": [
       "NoneType"
      ]
     },
     "execution_count": 8,
     "metadata": {},
     "output_type": "execute_result"
    }
   ],
   "source": [
    "type(r)"
=======
    "\n",
    "data = np.zeros( (105269,105219), dtype=np.uint8 )\n",
    "for i in range(len(df)):\n",
    "    data[df['x'][i]][df['y'][i]] = 200\n",
    "\n",
    "img = smp.toimage( data )       # Create a PIL image\n",
    "img.show()                      # View in default viewer"
>>>>>>> ed9a8ab7e01cac1a0e671156b90922a58ace8826
   ]
  }
 ],
 "metadata": {
<<<<<<< HEAD
  "anaconda-cloud": {},
  "kernelspec": {
   "display_name": "Python [default]",
=======
  "kernelspec": {
   "display_name": "Python 3",
>>>>>>> ed9a8ab7e01cac1a0e671156b90922a58ace8826
   "language": "python",
   "name": "python3"
  },
  "language_info": {
   "codemirror_mode": {
    "name": "ipython",
    "version": 3
   },
   "file_extension": ".py",
   "mimetype": "text/x-python",
   "name": "python",
   "nbconvert_exporter": "python",
   "pygments_lexer": "ipython3",
<<<<<<< HEAD
   "version": "3.5.4"
  },
  "toc": {
   "colors": {
    "hover_highlight": "#DAA520",
    "running_highlight": "#FF0000",
    "selected_highlight": "#FFD700"
   },
   "moveMenuLeft": true,
   "nav_menu": {
    "height": "12px",
    "width": "252px"
   },
   "navigate_menu": true,
   "number_sections": true,
   "sideBar": true,
   "threshold": 4,
   "toc_cell": false,
   "toc_section_display": "block",
   "toc_window_display": false
=======
   "version": "3.6.5"
>>>>>>> ed9a8ab7e01cac1a0e671156b90922a58ace8826
  }
 },
 "nbformat": 4,
 "nbformat_minor": 2
}
