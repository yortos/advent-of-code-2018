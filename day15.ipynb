{
 "cells": [
  {
   "cell_type": "code",
   "execution_count": 1,
   "metadata": {
    "ExecuteTime": {
     "end_time": "2018-12-24T16:14:56.356645",
     "start_time": "2018-12-24T16:14:56.338999"
    },
    "collapsed": false
   },
   "outputs": [
    {
     "data": {
      "text/plain": [
       "['################################',\n",
       " '#################.....##########',\n",
       " '#################..#.###########',\n",
       " '#################.........######',\n",
       " '##################......########',\n",
       " '#################G.GG###########',\n",
       " '###############...#..###########',\n",
       " '###############......G..########',\n",
       " '############..G.........########',\n",
       " '##########.G.....G......########',\n",
       " '##########......#.........#..###',\n",
       " '##########...................###',\n",
       " '#########G..G.#####....E.G.E..##',\n",
       " '######..G....#######...........#',\n",
       " '#######.....#########.........##',\n",
       " '#######..#..#########.....#.####',\n",
       " '##########..#########..G.##..###',\n",
       " '###########G#########...E...E.##',\n",
       " '#########.G.#########..........#',\n",
       " '#########GG..#######.......##.E#',\n",
       " '######.G......#####...##########',\n",
       " '#...##..G..............#########',\n",
       " '#...#...........###..E.#########',\n",
       " '#.G.............###...##########',\n",
       " '#................###############',\n",
       " '##.........E.....###############',\n",
       " '###.#..............#############',\n",
       " '###..G........E.....############',\n",
       " '###......E..........############',\n",
       " '###......#....#E#...############',\n",
       " '###....####.#...##.#############',\n",
       " '################################']"
      ]
     },
     "execution_count": 1,
     "metadata": {},
     "output_type": "execute_result"
    }
   ],
   "source": [
    "area = [x.replace('\\n','') for x in open('quiz15.txt').readlines()]\n",
    "area"
   ]
  },
  {
   "cell_type": "code",
   "execution_count": 3,
   "metadata": {
    "ExecuteTime": {
     "end_time": "2018-12-24T16:15:38.014689",
     "start_time": "2018-12-24T16:15:38.008728"
    },
    "collapsed": false
   },
   "outputs": [
    {
     "name": "stdout",
     "output_type": "stream",
     "text": [
      "#######\n",
      "#.G...#\n",
      "#...EG#\n",
      "#.#.#G#\n",
      "#..G#E#\n",
      "#.....#\n",
      "#######\n"
     ]
    }
   ],
   "source": [
    "area_test = [x.replace('\\n','') for x in open('quiz15_test.txt').readlines()]\n",
    "for line in area_test:\n",
    "    print(line)"
   ]
  },
  {
   "cell_type": "code",
   "execution_count": 4,
   "metadata": {
    "ExecuteTime": {
     "end_time": "2018-12-24T16:17:52.845103",
     "start_time": "2018-12-24T16:17:52.718598"
    },
    "collapsed": false
   },
   "outputs": [
    {
     "ename": "NameError",
     "evalue": "name 'empty_spots_near_enemies' is not defined",
     "output_type": "error",
     "traceback": [
      "\u001b[0;31m---------------------------------------------------------------------------\u001b[0m",
      "\u001b[0;31mNameError\u001b[0m                                 Traceback (most recent call last)",
      "\u001b[0;32m<ipython-input-4-430112a31a11>\u001b[0m in \u001b[0;36m<module>\u001b[0;34m()\u001b[0m\n\u001b[1;32m     29\u001b[0m         \u001b[0mcurrent_enemies\u001b[0m \u001b[0;34m=\u001b[0m \u001b[0;34m[\u001b[0m\u001b[0mx\u001b[0m \u001b[0;32mfor\u001b[0m \u001b[0mx\u001b[0m \u001b[0;32min\u001b[0m \u001b[0mgoblins\u001b[0m\u001b[0;34m]\u001b[0m\u001b[0;34m\u001b[0m\u001b[0m\n\u001b[1;32m     30\u001b[0m \u001b[0;34m\u001b[0m\u001b[0m\n\u001b[0;32m---> 31\u001b[0;31m \u001b[0mempty_spots\u001b[0m \u001b[0;34m=\u001b[0m \u001b[0mempty_spots_near_enemies\u001b[0m\u001b[0;34m(\u001b[0m\u001b[0mcurrent_enemies\u001b[0m\u001b[0;34m,\u001b[0m \u001b[0mdots\u001b[0m\u001b[0;34m)\u001b[0m\u001b[0;34m\u001b[0m\u001b[0m\n\u001b[0m\u001b[1;32m     32\u001b[0m \u001b[0mreachable_spots\u001b[0m \u001b[0;34m=\u001b[0m \u001b[0mreachable_spots\u001b[0m\u001b[0;34m(\u001b[0m\u001b[0mempty_spots\u001b[0m\u001b[0;34m,\u001b[0m \u001b[0mcurrent_player\u001b[0m\u001b[0;34m)\u001b[0m\u001b[0;34m\u001b[0m\u001b[0m\n\u001b[1;32m     33\u001b[0m \u001b[0;34m\u001b[0m\u001b[0m\n",
      "\u001b[0;31mNameError\u001b[0m: name 'empty_spots_near_enemies' is not defined"
     ]
    }
   ],
   "source": [
    "def positions(area):\n",
    "    goblins = []\n",
    "    elves = []\n",
    "    dots = []\n",
    "    for i in range(len(area)):\n",
    "        for j in range(len(area[i])):\n",
    "            if area[i][j] == 'G':\n",
    "                goblins.append((i,j))\n",
    "            if area[i][j] == 'E':\n",
    "                elves.append((i,j))\n",
    "            if area[i][j] == '.':\n",
    "                dots.append((i,j))\n",
    "    return sorted(goblins), sorted(elves), sorted(elves+goblins), sorted(dots)\n",
    "\n",
    "goblins, elves, all, dots = positions(area_test)\n",
    "\n",
    "current_player = all[0]\n",
    "if current_player in goblins:\n",
    "    if len(elves) == 0 :\n",
    "        print('goblins won')\n",
    "        #break\n",
    "    else:\n",
    "        current_enemies = [x for x in elves]\n",
    "else:\n",
    "    if len(goblins) == 0:\n",
    "        print('elves won')\n",
    "        #break\n",
    "    else:\n",
    "        current_enemies = [x for x in goblins]\n",
    "\n",
    "empty_spots = empty_spots_near_enemies(current_enemies, dots)\n",
    "reachable_spots = reachable_spots(empty_spots, current_player)\n",
    "\n",
    "if len(reachable_spots) ==0:\n",
    "    print('no moves')\n",
    "    #continue\n",
    "else:\n",
    "    spot_to_move = reachable_spots[0]\n",
    "    area[spot_to_move[0][spot_to_move[1]]] = area[current_player[0]][current_player[1]] #move the current player to the enemy\n",
    "    area[current_player[0]][current_player[1]] = '.' #leave empty space behind\n",
    "\n"
   ]
  },
  {
   "cell_type": "code",
   "execution_count": null,
   "metadata": {
    "collapsed": true
   },
   "outputs": [],
   "source": [
    "def empty_spots_near_enemies(enemies, dots):\n",
    "    \n",
    "    \n",
    "    \n",
    "def reachable_by_current_player(empty_spots, current_player):\n",
    "    \n",
    "    return sorted(spots)"
   ]
  }
 ],
 "metadata": {
  "anaconda-cloud": {},
  "kernelspec": {
   "display_name": "Python [default]",
   "language": "python",
   "name": "python3"
  },
  "language_info": {
   "codemirror_mode": {
    "name": "ipython",
    "version": 3
   },
   "file_extension": ".py",
   "mimetype": "text/x-python",
   "name": "python",
   "nbconvert_exporter": "python",
   "pygments_lexer": "ipython3",
   "version": "3.5.4"
  },
  "toc": {
   "colors": {
    "hover_highlight": "#DAA520",
    "running_highlight": "#FF0000",
    "selected_highlight": "#FFD700"
   },
   "moveMenuLeft": true,
   "nav_menu": {
    "height": "11px",
    "width": "252px"
   },
   "navigate_menu": true,
   "number_sections": true,
   "sideBar": true,
   "threshold": 4,
   "toc_cell": false,
   "toc_section_display": "block",
   "toc_window_display": false
  }
 },
 "nbformat": 4,
 "nbformat_minor": 2
}
