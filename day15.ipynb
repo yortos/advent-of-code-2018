{
 "cells": [
  {
   "cell_type": "code",
   "execution_count": 3,
   "metadata": {},
   "outputs": [
    {
     "data": {
      "text/plain": [
       "['################################',\n",
       " '#################.....##########',\n",
       " '#################..#.###########',\n",
       " '#################.........######',\n",
       " '##################......########',\n",
       " '#################G.GG###########',\n",
       " '###############...#..###########',\n",
       " '###############......G..########',\n",
       " '############..G.........########',\n",
       " '##########.G.....G......########',\n",
       " '##########......#.........#..###',\n",
       " '##########...................###',\n",
       " '#########G..G.#####....E.G.E..##',\n",
       " '######..G....#######...........#',\n",
       " '#######.....#########.........##',\n",
       " '#######..#..#########.....#.####',\n",
       " '##########..#########..G.##..###',\n",
       " '###########G#########...E...E.##',\n",
       " '#########.G.#########..........#',\n",
       " '#########GG..#######.......##.E#',\n",
       " '######.G......#####...##########',\n",
       " '#...##..G..............#########',\n",
       " '#...#...........###..E.#########',\n",
       " '#.G.............###...##########',\n",
       " '#................###############',\n",
       " '##.........E.....###############',\n",
       " '###.#..............#############',\n",
       " '###..G........E.....############',\n",
       " '###......E..........############',\n",
       " '###......#....#E#...############',\n",
       " '###....####.#...##.#############',\n",
       " '################################']"
      ]
     },
     "execution_count": 3,
     "metadata": {},
     "output_type": "execute_result"
    }
   ],
   "source": [
    "area = [x.replace('\\n','') for x in open('quiz15.txt').readlines()]\n",
    "area"
   ]
  },
  {
   "cell_type": "code",
   "execution_count": 4,
   "metadata": {},
   "outputs": [
    {
     "data": {
      "text/plain": [
       "['#######', '#.G...#', '#...EG#', '#.#.#G#', '#..G#E#', '#.....#', '#######']"
      ]
     },
     "execution_count": 4,
     "metadata": {},
     "output_type": "execute_result"
    }
   ],
   "source": [
    "area_test = [x.replace('\\n','') for x in open('quiz15_test.txt').readlines()]\n",
    "area_test"
   ]
  },
  {
   "cell_type": "code",
   "execution_count": 17,
   "metadata": {},
   "outputs": [
    {
     "data": {
      "text/plain": [
       "((1, 2), [(2, 4), (4, 5)])"
      ]
     },
     "execution_count": 17,
     "metadata": {},
     "output_type": "execute_result"
    }
   ],
   "source": [
    "def positions(area):\n",
    "    goblins = []\n",
    "    elves = []\n",
    "    dots = []\n",
    "    for i in range(len(area)):\n",
    "        for j in range(len(area[i])):\n",
    "            if area[i][j] == 'G':\n",
    "                goblins.append((i,j))\n",
    "            if area[i][j] == 'E':\n",
    "                elves.append((i,j))\n",
    "            if area[i][j] == '.':\n",
    "                dots.append((i,j))\n",
    "    return sorted(goblins), sorted(elves), sorted(elves+goblins), sorted(dots)\n",
    "\n",
    "goblins, elves, all, dots = positions(area_test)\n",
    "\n",
    "current_player = all[0]\n",
    "if current_player in goblins:\n",
    "    if len(elves) == 0 :\n",
    "        print('goblins won')\n",
    "        #break\n",
    "    else:\n",
    "        current_enemies = [x for x in elves]\n",
    "else:\n",
    "    if len(goblins) == 0:\n",
    "        print('elves won')\n",
    "        #break\n",
    "    else:\n",
    "        current_enemies = [x for x in goblins]\n",
    "\n",
    "empty_spots = empty_spots_near_enemies(current_enemies, dots)\n",
    "reachable_spots = reachable_spots(empty_spots, current_player)\n",
    "\n",
    "if len(reachable_spots) ==0:\n",
    "    print('no moves')\n",
    "    #continue\n",
    "else:\n",
    "    spot_to_move = reachable_spots[0]\n",
    "    area[spot_to_move[0][spot_to_move[1]]] = area[current_player[0]][current_player[1]] #move the current player to the enemy\n",
    "    area[current_player[0]][current_player[1]] = '.' #leave empty space behind\n",
    "\n"
   ]
  },
  {
   "cell_type": "code",
   "execution_count": null,
   "metadata": {},
   "outputs": [],
   "source": [
    "def empty_spots_near_enemies(enemies, dots):\n",
    "    \n",
    "    \n",
    "    \n",
    "def reachable_by_current_player(empty_spots, current_player):\n",
    "    \n",
    "    return sorted(spots)"
   ]
  }
 ],
 "metadata": {
  "kernelspec": {
   "display_name": "Python 3",
   "language": "python",
   "name": "python3"
  },
  "language_info": {
   "codemirror_mode": {
    "name": "ipython",
    "version": 3
   },
   "file_extension": ".py",
   "mimetype": "text/x-python",
   "name": "python",
   "nbconvert_exporter": "python",
   "pygments_lexer": "ipython3",
   "version": "3.6.5"
  }
 },
 "nbformat": 4,
 "nbformat_minor": 2
}
