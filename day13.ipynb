{
 "cells": [
  {
   "cell_type": "code",
   "execution_count": 188,
   "metadata": {
    "ExecuteTime": {
     "end_time": "2018-12-13T17:57:26.527740",
     "start_time": "2018-12-13T17:57:25.943513"
    }
   },
   "outputs": [],
   "source": [
    "import pandas as pd\n",
    "import numpy as np\n",
    "import string\n",
    "alphabet = string.ascii_uppercase"
   ]
  },
  {
   "cell_type": "code",
   "execution_count": 212,
   "metadata": {
    "ExecuteTime": {
     "end_time": "2018-12-13T19:29:51.025065",
     "start_time": "2018-12-13T19:29:50.895148"
    }
   },
   "outputs": [],
   "source": [
    "f=open('quiz13.txt', 'r')\n",
    "lines_str = f.read().splitlines()\n",
    "\n",
    "m = len(lines_str)\n",
    "\n",
    "lines = []\n",
    "\n",
    "for i in range(len(lines_str)):\n",
    "    temp_line = []\n",
    "    for j in range(len(lines_str[i])):\n",
    "        temp_line.append(lines_str[i][j])\n",
    "    lines.append(temp_line)\n",
    "\n",
    "train_location = dict() ##hold the location of each train\n",
    "train_move = dict()\n",
    "previous_arrow = dict()\n",
    "previous_loc = dict()\n",
    "alive = dict()\n",
    "\n",
    "##name the trains and initiliaze their locations. The name is the location\n",
    "count = 0\n",
    "for i in range(len(lines)):\n",
    "    for j in range(len(lines[i])):\n",
    "        character = str(lines[i][j]).replace(\"'\",'').replace('b','')\n",
    "        if character in ['>', '<', '^', 'v']:\n",
    "            train_location[str([i,j])] = character\n",
    "            train_move[str([i,j])] = 0\n",
    "            previous_arrow[str([i,j])] = ''\n",
    "            previous_loc[str([i,j])]= ''\n",
    "            alive[str([i,j])] = True\n",
    "            count+=1\n"
   ]
  },
  {
   "cell_type": "code",
   "execution_count": null,
   "metadata": {},
   "outputs": [],
   "source": []
  },
  {
   "cell_type": "code",
   "execution_count": 213,
   "metadata": {
    "ExecuteTime": {
     "end_time": "2018-12-13T19:30:52.664854",
     "start_time": "2018-12-13T19:30:52.629222"
    }
   },
   "outputs": [
    {
     "ename": "IndexError",
     "evalue": "list index out of range",
     "output_type": "error",
     "traceback": [
      "\u001b[0;31m---------------------------------------------------------------------------\u001b[0m",
      "\u001b[0;31mIndexError\u001b[0m                                Traceback (most recent call last)",
      "\u001b[0;32m<ipython-input-213-5480fa4ea3e9>\u001b[0m in \u001b[0;36m<module>\u001b[0;34m()\u001b[0m\n\u001b[1;32m     32\u001b[0m         \u001b[0marrow_now\u001b[0m \u001b[0;34m=\u001b[0m \u001b[0mtrain_location\u001b[0m\u001b[0;34m[\u001b[0m\u001b[0mstr\u001b[0m\u001b[0;34m(\u001b[0m\u001b[0mtrain\u001b[0m\u001b[0;34m)\u001b[0m\u001b[0;34m]\u001b[0m\u001b[0;34m.\u001b[0m\u001b[0mreplace\u001b[0m\u001b[0;34m(\u001b[0m\u001b[0;34m\"'\"\u001b[0m\u001b[0;34m,\u001b[0m\u001b[0;34m''\u001b[0m\u001b[0;34m)\u001b[0m\u001b[0;34m.\u001b[0m\u001b[0mreplace\u001b[0m\u001b[0;34m(\u001b[0m\u001b[0;34m'b'\u001b[0m\u001b[0;34m,\u001b[0m\u001b[0;34m''\u001b[0m\u001b[0;34m)\u001b[0m \u001b[0;31m##type of arrow\u001b[0m\u001b[0;34m\u001b[0m\u001b[0m\n\u001b[1;32m     33\u001b[0m         \u001b[0mright_ahead_x\u001b[0m\u001b[0;34m,\u001b[0m \u001b[0mright_ahead_y\u001b[0m \u001b[0;34m=\u001b[0m \u001b[0mright_ahead\u001b[0m\u001b[0;34m(\u001b[0m\u001b[0marrow_now\u001b[0m\u001b[0;34m,\u001b[0m \u001b[0mtrain\u001b[0m\u001b[0;34m[\u001b[0m\u001b[0;36m0\u001b[0m\u001b[0;34m]\u001b[0m\u001b[0;34m,\u001b[0m \u001b[0mtrain\u001b[0m\u001b[0;34m[\u001b[0m\u001b[0;36m1\u001b[0m\u001b[0;34m]\u001b[0m\u001b[0;34m)\u001b[0m\u001b[0;34m\u001b[0m\u001b[0m\n\u001b[0;32m---> 34\u001b[0;31m         \u001b[0marrow_ahead\u001b[0m \u001b[0;34m=\u001b[0m \u001b[0mlines\u001b[0m\u001b[0;34m[\u001b[0m\u001b[0mright_ahead_x\u001b[0m\u001b[0;34m]\u001b[0m\u001b[0;34m[\u001b[0m\u001b[0mright_ahead_y\u001b[0m\u001b[0;34m]\u001b[0m\u001b[0;34m\u001b[0m\u001b[0m\n\u001b[0m\u001b[1;32m     35\u001b[0m         \u001b[0;31m#print(arrow_now, arrow_ahead)\u001b[0m\u001b[0;34m\u001b[0m\u001b[0;34m\u001b[0m\u001b[0m\n\u001b[1;32m     36\u001b[0m \u001b[0;34m\u001b[0m\u001b[0m\n",
      "\u001b[0;31mIndexError\u001b[0m: list index out of range"
     ]
    }
   ],
   "source": [
    "import ast\n",
    "for train in sorted([ast.literal_eval(x) for x in list(train_location.keys())]):\n",
    "    arrow_now = train_location[str(train)].replace(\"'\",'').replace('b','') ##type of arrow\n",
    "    \n",
    "    if arrow_now == 'v':\n",
    "        previous_arrow[str([train[0]-1, train[1]])] = '|'\n",
    "        previous_loc[str([train[0],train[1]])] = str([train[0]-1, train[1]])\n",
    "    elif arrow_now == '^':\n",
    "        previous_arrow[str([train[0]+1, train[1]])] = '|'\n",
    "        previous_loc[str([train[0],train[1]])] = str([train[0]+1, train[1]])\n",
    "    elif arrow_now == '>':\n",
    "        previous_arrow[str([train[0], train[1]-1])] = '-'\n",
    "        previous_loc[str([train[0],train[1]])] = str([train[0], train[1]-1])\n",
    "    else:\n",
    "        previous_arrow[str([train[0], train[1]+1])] = '-'\n",
    "        previous_loc[str([train[0],train[1]])] = str([train[0], train[1]+1])\n",
    "\n",
    "# print(train_location)\n",
    "# print(train_move)\n",
    "# print(previous_arrow)\n",
    "# print(previous_loc)\n",
    "\n",
    "flag = 0\n",
    "count = 0\n",
    "\n",
    "while flag == 0:\n",
    "    if sum(alive.values()) == 1:\n",
    "        flag = 1\n",
    "        break\n",
    "\n",
    "    for train in sorted([ast.literal_eval(x) for x in list(train_location.keys())]):\n",
    "        arrow_now = train_location[str(train)].replace(\"'\",'').replace('b','') ##type of arrow\n",
    "        right_ahead_x, right_ahead_y = right_ahead(arrow_now, train[0], train[1])\n",
    "        arrow_ahead = lines[right_ahead_x][right_ahead_y]\n",
    "        #print(arrow_now, arrow_ahead)\n",
    "\n",
    "\n",
    "        if str(train) in previous_loc.keys() and previous_loc[str(train)]!='' and previous_arrow[previous_loc[str(train)]] != '':\n",
    "            lines[train[0]][train[1]] = previous_arrow[previous_loc[str(train)]] ##put on this track what was here before the arrow moved in here\n",
    "            ##delete the record for this stored location\n",
    "\n",
    "        #previous_arrow.pop(str(train))\n",
    "            ##add the new next arrow\n",
    "        #previous_arrow[str([right_ahead_x, right_ahead_y])] = arrow_ahead\n",
    "        previous_arrow[str(train)] = arrow_ahead\n",
    "\n",
    "        next_loc_x = right_ahead_x\n",
    "        next_loc_y = right_ahead_y\n",
    "\n",
    "        previous_loc[str([next_loc_x, next_loc_y])] = str(train) ##the previous of the next location is this location!\n",
    "\n",
    "        if lines[next_loc_x][next_loc_y] not in ['-', '/', \"\\\\\", \"+\", '|', '']:\n",
    "            alive[str([next_loc_x, next_loc_y])] = False\n",
    "            #alive[str(train)] = False\n",
    "        else:\n",
    "            alive[str([next_loc_x, next_loc_y])] = True\n",
    "            \n",
    "        turn_direction, there_was_an_intersection = get_turn_direction(arrow_ahead, arrow_now, train[0], train[1])\n",
    "        next_arrow_shape = next_arrow_shape_function(arrow_now, turn_direction)\n",
    "\n",
    "\n",
    "        ##move the arrow, we already moved whatever was previously on this arrows spot in lines\n",
    "        lines[next_loc_x][next_loc_y] = next_arrow_shape\n",
    "\n",
    "\n",
    "        ##save new location\n",
    "        train_location[str([next_loc_x, next_loc_y])] = next_arrow_shape ##new arrow\n",
    "        ## delete old location\n",
    "        train_location.pop(str([train[0], train[1]]))\n",
    "\n",
    "        ##if there was an intersection\n",
    "        ##save new move\n",
    "        if there_was_an_intersection:\n",
    "            train_move[str([next_loc_x, next_loc_y])] = (train_move[str([train[0], train[1]])]+1)%3 \n",
    "        #delete old move\n",
    "            train_move.pop(str([train[0], train[1]]))\n",
    "        else:\n",
    "            train_move[str([next_loc_x, next_loc_y])] = train_move[str([train[0], train[1]])]\n",
    "            train_move.pop(str([train[0], train[1]]))\n",
    "    count+=1"
   ]
  },
  {
   "cell_type": "code",
   "execution_count": 58,
   "metadata": {
    "ExecuteTime": {
     "end_time": "2018-12-13T19:19:04.584995",
     "start_time": "2018-12-13T19:19:04.574464"
    }
   },
   "outputs": [],
   "source": [
    "def get_turn_direction(arrow_ahead, arrow_now, i, j):\n",
    "    \n",
    "    if arrow_ahead =='+':\n",
    "        move_number = train_move[str([i,j])]\n",
    "        \n",
    "        if move_number==0:\n",
    "            return 'left',1\n",
    "        elif move_number ==1:\n",
    "            return 'straight',1\n",
    "        else:\n",
    "            return 'right',1\n",
    "\n",
    "    elif arrow_ahead == '-' or arrow_ahead == '|':\n",
    "        return 'straight',0\n",
    "    \n",
    "    elif arrow_ahead == '/':\n",
    "        if arrow_now =='<' or arrow_now =='>':\n",
    "            return 'left',0\n",
    "        if arrow_now=='v' or arrow_now =='^':\n",
    "            return 'right',0\n",
    "    else: ### arrow_head = '\\'\n",
    "        if arrow_now =='<' or arrow_now=='>':\n",
    "            return 'right',0\n",
    "        elif arrow_now == 'v' or arrow_now=='^':\n",
    "            return 'left',0\n",
    "        else:\n",
    "            print(arrow_ahead, arrow_now)\n",
    "            return None"
   ]
  },
  {
   "cell_type": "code",
   "execution_count": 11,
   "metadata": {
    "ExecuteTime": {
     "end_time": "2018-12-13T19:09:58.476723",
     "start_time": "2018-12-13T19:09:58.460588"
    }
   },
   "outputs": [],
   "source": [
    "\n",
    "def next_arrow_shape_function(arrow, turn_direction):\n",
    "    if turn_direction=='left': ##turn left\n",
    "        if arrow=='>':\n",
    "            return '^'\n",
    "        elif arrow =='^':\n",
    "            return '<'\n",
    "        elif arrow == 'v':\n",
    "            return '>'\n",
    "        elif arrow =='<':\n",
    "            return 'v'\n",
    "        else:\n",
    "            return None\n",
    "    \n",
    "    if turn_direction =='right': ##turn right\n",
    "        if arrow=='>':\n",
    "            return 'v'\n",
    "        elif arrow =='^':\n",
    "            return '>'\n",
    "        elif arrow == 'v':\n",
    "            return '<'\n",
    "        elif arrow =='<':\n",
    "            return '^'\n",
    "        else:\n",
    "            return None\n",
    "            \n",
    "    if turn_direction =='straight': ## go straight\n",
    "        return arrow\n",
    "        \n",
    "    \n",
    "def right_ahead(arrow, i,j):\n",
    "    if arrow == '^':\n",
    "        return i-1,j\n",
    "    elif arrow =='>':\n",
    "        return i,j+1\n",
    "    elif arrow=='<':\n",
    "        return i,j-1\n",
    "    elif arrow =='v':\n",
    "        return i+1,j\n",
    "    else:\n",
    "        print(arrow, i, j, 'problem')\n",
    "        return None"
   ]
  },
  {
   "cell_type": "markdown",
   "metadata": {},
   "source": [
    "## part 2"
   ]
  },
  {
   "cell_type": "code",
   "execution_count": 205,
   "metadata": {},
   "outputs": [],
   "source": [
    "def num_carts(lines):\n",
    "    count_carts = 0\n",
    "    for i in range(len(lines)):\n",
    "        for j in range(len(lines[i])):\n",
    "            if lines[i][j] in ['^', 'v', '<', '>']:\n",
    "                count_carts+=1\n",
    "                loc_x = i\n",
    "                loc_y=j\n",
    "    if count_carts==1:\n",
    "        return loc_x, loc_y\n",
    "    else:\n",
    "        return None"
   ]
  },
  {
   "cell_type": "code",
   "execution_count": 206,
   "metadata": {},
   "outputs": [],
   "source": [
    "num_carts(lines)"
   ]
  },
  {
   "cell_type": "markdown",
   "metadata": {},
   "source": [
    "## test"
   ]
  },
  {
   "cell_type": "code",
   "execution_count": 185,
   "metadata": {},
   "outputs": [],
   "source": [
    "f=open('day13_test_2.txt', 'r')\n",
    "lines_str = f.read().splitlines()\n",
    "\n",
    "m = len(lines_str)\n",
    "\n",
    "lines = []\n",
    "\n",
    "for i in range(len(lines_str)):\n",
    "    temp_line = []\n",
    "    for j in range(len(lines_str[i])):\n",
    "        temp_line.append(lines_str[i][j])\n",
    "    lines.append(temp_line)\n",
    "\n",
    "train_location = dict() ##hold the location of each train\n",
    "train_move = dict()\n",
    "previous_arrow = dict()\n",
    "previous_loc = dict()\n",
    "\n",
    "##name the trains and initiliaze their locations. The name is the location\n",
    "count = 0\n",
    "for i in range(len(lines)):\n",
    "    for j in range(len(lines[i])):\n",
    "        character = str(lines[i][j]).replace(\"'\",'').replace('b','')\n",
    "        if character in ['>', '<', '^', 'v']:\n",
    "            train_location[str([i,j])] = character\n",
    "            train_move[str([i,j])] = 0\n",
    "            previous_arrow[str([i,j])] = ''\n",
    "            previous_loc[str([i,j])]= ''\n",
    "            count+=1\n"
   ]
  },
  {
   "cell_type": "code",
   "execution_count": 186,
   "metadata": {},
   "outputs": [
    {
     "name": "stdout",
     "output_type": "stream",
     "text": [
      "3 7 13\n"
     ]
    }
   ],
   "source": [
    "import ast\n",
    "for train in sorted([ast.literal_eval(x) for x in list(train_location.keys())]):\n",
    "    arrow_now = train_location[str(train)].replace(\"'\",'').replace('b','') ##type of arrow\n",
    "    \n",
    "    if arrow_now == 'v':\n",
    "        previous_arrow[str([train[0]-1, train[1]])] = '|'\n",
    "        previous_loc[str([train[0],train[1]])] = str([train[0]-1, train[1]])\n",
    "    elif arrow_now == '^':\n",
    "        previous_arrow[str([train[0]+1, train[1]])] = '|'\n",
    "        previous_loc[str([train[0],train[1]])] = str([train[0]+1, train[1]])\n",
    "    elif arrow_now == '>':\n",
    "        previous_arrow[str([train[0], train[1]-1])] = '-'\n",
    "        previous_loc[str([train[0],train[1]])] = str([train[0], train[1]-1])\n",
    "    else:\n",
    "        previous_arrow[str([train[0], train[1]+1])] = '-'\n",
    "        previous_loc[str([train[0],train[1]])] = str([train[0], train[1]+1])\n",
    "\n",
    "# print(train_location)\n",
    "# print(train_move)\n",
    "# print(previous_arrow)\n",
    "# print(previous_loc)\n",
    "\n",
    "flag = 0\n",
    "count = 0\n",
    "\n",
    "while flag == 0:\n",
    "    for train in sorted([ast.literal_eval(x) for x in list(train_location.keys())]):\n",
    "        arrow_now = train_location[str(train)].replace(\"'\",'').replace('b','') ##type of arrow\n",
    "        right_ahead_x, right_ahead_y = right_ahead(arrow_now, train[0], train[1])\n",
    "        arrow_ahead = lines[right_ahead_x][right_ahead_y]\n",
    "        #print(arrow_now, arrow_ahead)\n",
    "\n",
    "\n",
    "        if str(train) in previous_loc.keys() and previous_loc[str(train)]!='' and previous_arrow[previous_loc[str(train)]] != '':\n",
    "            lines[train[0]][train[1]] = previous_arrow[previous_loc[str(train)]] ##put on this track what was here before the arrow moved in here\n",
    "            ##delete the record for this stored location\n",
    "\n",
    "        #previous_arrow.pop(str(train))\n",
    "            ##add the new next arrow\n",
    "        #previous_arrow[str([right_ahead_x, right_ahead_y])] = arrow_ahead\n",
    "        previous_arrow[str(train)] = arrow_ahead   \n",
    "\n",
    "        next_loc_x = right_ahead_x\n",
    "        next_loc_y = right_ahead_y\n",
    "\n",
    "        previous_loc[str([next_loc_x, next_loc_y])] = str(train) ##the previous of the next location is this location!\n",
    "\n",
    "        if lines[next_loc_x][next_loc_y] not in ['-', '/', \"\\\\\", \"+\", '|', '']:\n",
    "            print(next_loc_x, next_loc_y, count)\n",
    "            flag = 1\n",
    "            break\n",
    "\n",
    "        turn_direction, there_was_an_intersection = get_turn_direction(arrow_ahead, arrow_now, train[0], train[1])\n",
    "        next_arrow_shape = next_arrow_shape_function(arrow_now, turn_direction)\n",
    "\n",
    "\n",
    "        ##move the arrow, we already moved whatever was previously on this arrows spot in lines\n",
    "        lines[next_loc_x][next_loc_y] = next_arrow_shape\n",
    "\n",
    "\n",
    "        ##save new location\n",
    "        train_location[str([next_loc_x, next_loc_y])] = next_arrow_shape ##new arrow\n",
    "        ## delete old location\n",
    "        train_location.pop(str([train[0], train[1]]))\n",
    "\n",
    "        ##if there was an intersection\n",
    "        ##save new move\n",
    "        if there_was_an_intersection:\n",
    "            train_move[str([next_loc_x, next_loc_y])] = (train_move[str([train[0], train[1]])]+1)%3 \n",
    "        #delete old move\n",
    "            train_move.pop(str([train[0], train[1]]))\n",
    "        else:\n",
    "            train_move[str([next_loc_x, next_loc_y])] = train_move[str([train[0], train[1]])]\n",
    "            train_move.pop(str([train[0], train[1]]))\n",
    "    count+=1"
   ]
  },
  {
   "cell_type": "code",
   "execution_count": null,
   "metadata": {},
   "outputs": [],
   "source": []
  },
  {
   "cell_type": "code",
   "execution_count": null,
   "metadata": {},
   "outputs": [],
   "source": []
  }
 ],
 "metadata": {
  "anaconda-cloud": {},
  "kernelspec": {
   "display_name": "Python 3",
   "language": "python",
   "name": "python3"
  },
  "language_info": {
   "codemirror_mode": {
    "name": "ipython",
    "version": 3
   },
   "file_extension": ".py",
   "mimetype": "text/x-python",
   "name": "python",
   "nbconvert_exporter": "python",
   "pygments_lexer": "ipython3",
   "version": "3.6.5"
  },
  "toc": {
   "colors": {
    "hover_highlight": "#DAA520",
    "running_highlight": "#FF0000",
    "selected_highlight": "#FFD700"
   },
   "moveMenuLeft": true,
   "nav_menu": {
    "height": "11px",
    "width": "252px"
   },
   "navigate_menu": true,
   "number_sections": true,
   "sideBar": true,
   "threshold": 4,
   "toc_cell": false,
   "toc_section_display": "block",
   "toc_window_display": false
  }
 },
 "nbformat": 4,
 "nbformat_minor": 2
}
