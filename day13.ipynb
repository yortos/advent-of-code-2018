{
 "cells": [
  {
   "cell_type": "code",
   "execution_count": 3,
   "metadata": {
    "ExecuteTime": {
     "end_time": "2018-12-13T12:17:01.077003",
     "start_time": "2018-12-13T12:17:01.073768"
    },
    "collapsed": false
   },
   "outputs": [],
   "source": [
    "import pandas as pd\n",
    "import numpy as np\n",
    "import string\n",
    "alphabet = string.ascii_uppercase"
   ]
  },
  {
   "cell_type": "code",
   "execution_count": 12,
   "metadata": {
    "ExecuteTime": {
     "end_time": "2018-12-13T12:23:40.657225",
     "start_time": "2018-12-13T12:23:40.643668"
    },
    "collapsed": false
   },
   "outputs": [],
   "source": [
    "f=open('quiz13.txt', 'r')\n",
    "lines = f.read().splitlines()\n",
    "\n",
    "train_location = dict() ##hold the location of each train\n",
    "\n",
    "##name the trains and initiliaze their locations\n",
    "count = 0\n",
    "for i in range(len(lines)):\n",
    "    for j in range(len(lines[i])):\n",
    "        if lines[i][j] in ['>', '<', '^', 'v']:\n",
    "            train_location[str([i,j])] = lines[i][j]\n",
    "            count+=1\n",
    "        \n",
    "    "
   ]
  },
  {
   "cell_type": "code",
   "execution_count": 37,
   "metadata": {
    "ExecuteTime": {
     "end_time": "2018-12-13T12:29:57.667902",
     "start_time": "2018-12-13T12:29:57.664735"
    },
    "collapsed": false
   },
   "outputs": [],
   "source": [
    "import ast\n",
    "for train in sorted([ast.literal_eval(x) for x in list(train_location.keys())]):\n",
    "    arrow = train_location[str(train)]\n",
    "    next"
   ]
  },
  {
   "cell_type": "code",
   "execution_count": null,
   "metadata": {
    "ExecuteTime": {
     "end_time": "2018-12-13T12:27:02.994224",
     "start_time": "2018-12-13T12:27:02.989601"
    },
    "collapsed": false
   },
   "outputs": [],
   "source": []
  },
  {
   "cell_type": "code",
   "execution_count": 8,
   "metadata": {
    "ExecuteTime": {
     "end_time": "2018-12-13T12:21:21.074472",
     "start_time": "2018-12-13T12:21:21.069761"
    },
    "collapsed": false
   },
   "outputs": [
    {
     "data": {
      "text/plain": [
       "[[18, 100],\n",
       " [24, 132],\n",
       " [25, 73],\n",
       " [43, 87],\n",
       " [48, 141],\n",
       " [59, 132],\n",
       " [62, 114],\n",
       " [73, 27],\n",
       " [80, 109],\n",
       " [85, 14],\n",
       " [89, 86],\n",
       " [90, 86],\n",
       " [92, 117],\n",
       " [102, 118],\n",
       " [108, 129],\n",
       " [112, 44],\n",
       " [118, 70]]"
      ]
     },
     "execution_count": 8,
     "metadata": {},
     "output_type": "execute_result"
    }
   ],
   "source": [
    "for train in sorted(train_location.values()):\n",
    "    move()"
   ]
  },
  {
   "cell_type": "code",
   "execution_count": 11,
   "metadata": {
    "ExecuteTime": {
     "end_time": "2018-12-13T12:21:59.518651",
     "start_time": "2018-12-13T12:21:59.514104"
    },
    "collapsed": false
   },
   "outputs": [
    {
     "data": {
      "text/plain": [
       "[[1, 2], [2, 1], [2, 3], [2, 4], [3, 1]]"
      ]
     },
     "execution_count": 11,
     "metadata": {},
     "output_type": "execute_result"
    }
   ],
   "source": []
  },
  {
   "cell_type": "code",
   "execution_count": 61,
   "metadata": {
    "ExecuteTime": {
     "end_time": "2018-12-13T10:16:17.599335",
     "start_time": "2018-12-13T10:16:17.594063"
    },
    "collapsed": false
   },
   "outputs": [
    {
     "data": {
      "text/plain": [
       "str"
      ]
     },
     "execution_count": 61,
     "metadata": {},
     "output_type": "execute_result"
    }
   ],
   "source": [
    "tick = 0\n",
    "collision = 0\n",
    "\n",
    "while ~collision:\n",
    "    \n",
    "    for \n",
    "    \n",
    "    "
   ]
  },
  {
   "cell_type": "code",
   "execution_count": 64,
   "metadata": {
    "ExecuteTime": {
     "end_time": "2018-12-13T10:18:14.579394",
     "start_time": "2018-12-13T10:18:14.575852"
    },
    "collapsed": false
   },
   "outputs": [],
   "source": [
    "def is_there_collision(lines):\n",
    "    for i in range(len(lines)):\n",
    "        if 'x' in lines[0]:\n",
    "            return 1\n",
    "    return 0\n",
    "\n",
    "\n",
    "\n",
    "def train_location()\n",
    "\n",
    "# def move_piece(arrow, next_track):\n",
    "#     if \n"
   ]
  },
  {
   "cell_type": "code",
   "execution_count": 65,
   "metadata": {
    "ExecuteTime": {
     "end_time": "2018-12-13T10:18:15.860768",
     "start_time": "2018-12-13T10:18:15.856970"
    },
    "collapsed": false
   },
   "outputs": [
    {
     "data": {
      "text/plain": [
       "0"
      ]
     },
     "execution_count": 65,
     "metadata": {},
     "output_type": "execute_result"
    }
   ],
   "source": []
  }
 ],
 "metadata": {
  "anaconda-cloud": {},
  "kernelspec": {
   "display_name": "Python [default]",
   "language": "python",
   "name": "python3"
  },
  "language_info": {
   "codemirror_mode": {
    "name": "ipython",
    "version": 3
   },
   "file_extension": ".py",
   "mimetype": "text/x-python",
   "name": "python",
   "nbconvert_exporter": "python",
   "pygments_lexer": "ipython3",
   "version": "3.5.4"
  },
  "toc": {
   "colors": {
    "hover_highlight": "#DAA520",
    "running_highlight": "#FF0000",
    "selected_highlight": "#FFD700"
   },
   "moveMenuLeft": true,
   "nav_menu": {
    "height": "11px",
    "width": "252px"
   },
   "navigate_menu": true,
   "number_sections": true,
   "sideBar": true,
   "threshold": 4,
   "toc_cell": false,
   "toc_section_display": "block",
   "toc_window_display": false
  }
 },
 "nbformat": 4,
 "nbformat_minor": 2
}
