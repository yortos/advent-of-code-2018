{
 "cells": [
  {
   "cell_type": "code",
   "execution_count": 1,
   "metadata": {
    "ExecuteTime": {
     "end_time": "2018-12-13T17:57:26.527740",
     "start_time": "2018-12-13T17:57:25.943513"
    },
    "collapsed": false
   },
   "outputs": [],
   "source": [
    "import pandas as pd\n",
    "import numpy as np\n",
    "import string\n",
    "alphabet = string.ascii_uppercase"
   ]
  },
  {
   "cell_type": "code",
   "execution_count": 95,
   "metadata": {
    "ExecuteTime": {
     "end_time": "2018-12-13T19:29:51.025065",
     "start_time": "2018-12-13T19:29:50.895148"
    },
    "collapsed": false
   },
   "outputs": [],
   "source": [
    "f=open('quiz13.txt', 'r')\n",
    "lines_str = f.read().splitlines()\n",
    "\n",
    "lines = np.chararray((150, 150))\n",
    "\n",
    "for i in range(len(lines_str)):\n",
    "    for j in range(len(lines_str[i])):\n",
    "        lines[i][j] = lines_str[i][j]\n",
    "\n",
    "train_location = dict() ##hold the location of each train\n",
    "train_move = dict()\n",
    "previous_arrow = dict()\n",
    "\n",
    "##name the trains and initiliaze their locations. The name is the location\n",
    "count = 0\n",
    "for i in range(len(lines)):\n",
    "    for j in range(len(lines[i])):\n",
    "        character = str(lines[i][j]).replace(\"'\",'').replace('b','')\n",
    "        if character in ['>', '<', '^', 'v']:\n",
    "            train_location[str([i,j])] = character\n",
    "            train_move[str([i,j])] = 1\n",
    "            previous_arrow[str([i,j])] = ''\n",
    "            count+=1\n"
   ]
  },
  {
   "cell_type": "code",
   "execution_count": 100,
   "metadata": {
    "ExecuteTime": {
     "end_time": "2018-12-13T19:30:52.664854",
     "start_time": "2018-12-13T19:30:52.629222"
    },
    "collapsed": false
   },
   "outputs": [
    {
     "name": "stdout",
     "output_type": "stream",
     "text": [
      "18 101\n"
     ]
    }
   ],
   "source": [
    "import ast\n",
    "for train in sorted([ast.literal_eval(x) for x in list(train_location.keys())]):\n",
    "    arrow_now = train_location[str(train)].replace(\"'\",'').replace('b','') ##type of arrow\n",
    "    right_ahead_x, right_ahead_y = right_ahead(arrow_now, train[0], train[1])\n",
    "    arrow_ahead = lines[right_ahead_x][right_ahead_y]\n",
    "    \n",
    "    if previous_arrow[str(train)] != '':\n",
    "        lines[train[0]][train[1]] = previous_arrow[str([train[0]][train[1]])] ##put on this track what was here before the arrow moved in here\n",
    "        ##delete the record for this stored location\n",
    "        previous_arrow.pop(str([train[0]][train[1]]))\n",
    "        ##add the new next arrow\n",
    "        previous_arrow[str([right_ahead_x, right_ahead_y])] = arrow_ahead\n",
    "        \n",
    "        \n",
    "    next_loc_x = right_ahead_x\n",
    "    next_loc_y = right_ahead_y\n",
    "    if lines[next_loc_x][next_loc_y] not in ['-','/',\"\\\",\"+\"\"]:\n",
    "        print(next_loc_x, next_loc_y)\n",
    "        break\n",
    "        \n",
    "        \n",
    "    next_arrow_shape = next_arrow_shape(arrow_now, get_turn_direcation(arrow_ahead, arrow_now, train[0], train[1]))\n",
    "\n",
    "\n",
    "    ##move the arrow, we already moved whatever was previously on this arrows spot in lines\n",
    "    lines[next_loc_x][next_loc_y] = next_arrow_shape\n",
    "\n",
    "\n",
    "    ##save new location\n",
    "    train_location[str([next_loc_x, next_loc_y])] = next_arrow_shape ##new arrow\n",
    "    ## delete old location\n",
    "    train_location.pop(str([train[0], train[1]]))\n",
    "\n",
    "    ##save new move\n",
    "    train_move[str([next_loc_x, next_loc_y])] = (train_move[str([train[0], train[1]])]+1)%3 \n",
    "    #delete old move\n",
    "    train_move.pop([str(train[0], train[1])])\n"
   ]
  },
  {
   "cell_type": "code",
   "execution_count": 34,
   "metadata": {
    "ExecuteTime": {
     "end_time": "2018-12-13T19:19:04.584995",
     "start_time": "2018-12-13T19:19:04.574464"
    },
    "collapsed": false
   },
   "outputs": [],
   "source": [
    "def get_turn_direcation(arrow_ahead, arrow_now, i, j):\n",
    "    \n",
    "    if arrow_ahead =='+':\n",
    "        move_number = train[str([i,j])]\n",
    "        \n",
    "        if move_number==0:\n",
    "            return 'left'\n",
    "        elif move_number ==1:\n",
    "            return 'straight'\n",
    "        else:\n",
    "            return 'right'\n",
    "\n",
    "    elif arrow_ahead == '-':\n",
    "        return 'straight'\n",
    "    \n",
    "    elif arrow_ahead == '/':\n",
    "        if arrow_now =='<' or arrow_now =='>':\n",
    "            return 'left'\n",
    "        if arrow_now=='v' or arrow_now =='^':\n",
    "            return 'right'\n",
    "    else: ### arrow_head = '\\'\n",
    "        if arrow_now =='<' or arrow_now=='>':\n",
    "            return 'right'\n",
    "        elif arrow_now == 'v' or arrow_now=='^':\n",
    "            return 'left'\n",
    "        else:\n",
    "            print(arrow_ahead, arrow_now)\n",
    "            return None"
   ]
  },
  {
   "cell_type": "code",
   "execution_count": 27,
   "metadata": {
    "ExecuteTime": {
     "end_time": "2018-12-13T19:09:58.476723",
     "start_time": "2018-12-13T19:09:58.460588"
    },
    "collapsed": false
   },
   "outputs": [],
   "source": [
    "\n",
    "def next_arrow_shape(arrow, turn_direction):\n",
    "    if turn_direction=='left': ##turn left\n",
    "        if arrow=='>':\n",
    "            return '^'\n",
    "        elif arrow =='^':\n",
    "            return '<'\n",
    "        elif arrow == 'v':\n",
    "            return '>'\n",
    "        elif arrow =='<':\n",
    "            return 'v'\n",
    "        else:\n",
    "            return None\n",
    "    \n",
    "    if turn_direction =='right': ##turn right\n",
    "        if arrow=='>':\n",
    "            return 'v'\n",
    "        elif arrow =='^':\n",
    "            return '>'\n",
    "        elif arrow == 'v':\n",
    "            return '<'\n",
    "        elif arrow =='<':\n",
    "            return '^'\n",
    "        else:\n",
    "            return None\n",
    "            \n",
    "    if turn_direction =='straight': ## go straight\n",
    "        return arrow\n",
    "        \n",
    "    \n",
    "def right_ahead(arrow, i,j):\n",
    "    if arrow == '^':\n",
    "        return i-1,j\n",
    "    elif arrow =='>':\n",
    "        return i,j+1\n",
    "    elif arrow=='<':\n",
    "        return i,j-1\n",
    "    elif arrow =='v':\n",
    "        return i+1,j\n",
    "    else:\n",
    "        print(arrow, i, j, 'problem')\n",
    "        return None"
   ]
  }
 ],
 "metadata": {
  "anaconda-cloud": {},
  "kernelspec": {
   "display_name": "Python [default]",
   "language": "python",
   "name": "python3"
  },
  "language_info": {
   "codemirror_mode": {
    "name": "ipython",
    "version": 3
   },
   "file_extension": ".py",
   "mimetype": "text/x-python",
   "name": "python",
   "nbconvert_exporter": "python",
   "pygments_lexer": "ipython3",
   "version": "3.5.4"
  },
  "toc": {
   "colors": {
    "hover_highlight": "#DAA520",
    "running_highlight": "#FF0000",
    "selected_highlight": "#FFD700"
   },
   "moveMenuLeft": true,
   "nav_menu": {
    "height": "11px",
    "width": "252px"
   },
   "navigate_menu": true,
   "number_sections": true,
   "sideBar": true,
   "threshold": 4,
   "toc_cell": false,
   "toc_section_display": "block",
   "toc_window_display": false
  }
 },
 "nbformat": 4,
 "nbformat_minor": 2
}
