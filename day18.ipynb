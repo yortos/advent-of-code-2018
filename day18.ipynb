{
 "cells": [
  {
   "cell_type": "code",
   "execution_count": 3,
   "metadata": {},
   "outputs": [],
   "source": [
    "import matplotlib.pylab as plt\n",
    "%matplotlib inline"
   ]
  },
  {
   "cell_type": "code",
   "execution_count": 89,
   "metadata": {},
   "outputs": [],
   "source": [
    "def num_neighbors(i,j, l):\n",
    "    neighbors_coords = [(i+1,j+1),\n",
    "                (i+1,j-1),\n",
    "                (i+1,j),\n",
    "                (i-1,j),\n",
    "                (i-1,j+1),\n",
    "                (i-1,j-1),\n",
    "                (i,j-1),\n",
    "                (i,j+1)]\n",
    "    \n",
    "    neighbors = []\n",
    "    for x in neighbors_coords:\n",
    "        if x[0]<0 or x[1]<0:\n",
    "            continue\n",
    "        try:\n",
    "            neighbors.append(l[x[0]][x[1]])\n",
    "        except:\n",
    "            continue\n",
    "    return neighbors\n",
    "\n",
    "\n",
    "def new_ground(i,j, lines):\n",
    "    neighbors = num_neighbors(i,j, lines)\n",
    "    num_trees = neighbors.count('|')\n",
    "    num_lumber = neighbors.count('#')\n",
    "    num_ground = neighbors.count('.')\n",
    "    \n",
    "    if lines[i][j] == '.' and num_trees>=3:\n",
    "        return '|'\n",
    "    if lines[i][j] == '|' and num_lumber>=3:\n",
    "        return '#'\n",
    "    if lines[i][j] == '#':\n",
    "        if num_trees>=1 and num_lumber>=1:\n",
    "            return '#'\n",
    "        else:\n",
    "            return '.'\n",
    "    return lines[i][j]\n",
    "\n",
    "def get_resource_values(lines):\n",
    "    lumber = 0\n",
    "    trees = 0\n",
    "    for x in lines:\n",
    "        lumber = lumber+list(x).count('#')\n",
    "        trees = trees + list(x).count('|')\n",
    "    return lumber*trees"
   ]
  },
  {
   "cell_type": "code",
   "execution_count": 94,
   "metadata": {},
   "outputs": [
    {
     "name": "stdout",
     "output_type": "stream",
     "text": [
      "456225\n"
     ]
    }
   ],
   "source": [
    "#lines = [x.replace('\\n','') for x in open('quiz18_test.txt').readlines()]\n",
    "lines = [x.replace('\\n','') for x in open('quiz18.txt').readlines()]\n",
    "m = len(lines)\n",
    "n=len(lines[1])\n",
    "count = 0\n",
    "\n",
    "while count<10:\n",
    "    new_lines = np.chararray((m,n))\n",
    "\n",
    "    for i in range(len(lines)):\n",
    "        for j in range(len(lines[i])):\n",
    "            new_lines[i][j] = new_ground(i,j, lines).replace(\"'\",'').replace('b','')\n",
    "    lines = new_lines\n",
    "    lines = lines.decode('UTF-8')\n",
    "    count +=1\n",
    "print(get_resource_values(lines))"
   ]
  },
  {
   "cell_type": "code",
   "execution_count": 102,
   "metadata": {},
   "outputs": [],
   "source": [
    "import pandas\n",
    "\n",
    "df = pandas.DataFrame(columns = ['num_years', 'recource_value'])\n",
    "\n",
    "num = 1000\n",
    "\n",
    "lines = [x.replace('\\n','') for x in open('quiz18.txt').readlines()]\n",
    "m = len(lines)\n",
    "n=len(lines[1])\n",
    "count = 0\n",
    "\n",
    "while count<num:\n",
    "    new_lines = np.chararray((m,n))\n",
    "\n",
    "    for i in range(len(lines)):\n",
    "        for j in range(len(lines[i])):\n",
    "            new_lines[i][j] = new_ground(i,j, lines).replace(\"'\",'').replace('b','')\n",
    "    lines = new_lines\n",
    "    lines = lines.decode('UTF-8')\n",
    "    count +=1\n",
    "    df.loc[len(df)] = [count, get_resource_values(lines)]\n",
    "#print(get_resource_values(lines))"
   ]
  },
  {
   "cell_type": "code",
   "execution_count": 105,
   "metadata": {},
   "outputs": [],
   "source": [
    "diff = [None]\n",
    "for i in range(1,len(df)):\n",
    "    diff.append(df['recource_value'][i] - df['recource_value'][i-1])\n",
    "\n",
    "df['diff'] = diff"
   ]
  },
  {
   "cell_type": "code",
   "execution_count": 119,
   "metadata": {},
   "outputs": [],
   "source": [
    "possible_values = list(df['recource_value'][-28:])"
   ]
  },
  {
   "cell_type": "code",
   "execution_count": 120,
   "metadata": {},
   "outputs": [
    {
     "data": {
      "text/plain": [
       "[192676,\n",
       " 194955,\n",
       " 200625,\n",
       " 206064,\n",
       " 212850,\n",
       " 219387,\n",
       " 221958,\n",
       " 223468,\n",
       " 224436,\n",
       " 223920,\n",
       " 218631,\n",
       " 207776,\n",
       " 207060,\n",
       " 201872,\n",
       " 193050,\n",
       " 192556,\n",
       " 191151,\n",
       " 193980,\n",
       " 196185,\n",
       " 199341,\n",
       " 198968,\n",
       " 198645,\n",
       " 199752,\n",
       " 199374,\n",
       " 199532,\n",
       " 197071,\n",
       " 200434,\n",
       " 190164]"
      ]
     },
     "execution_count": 120,
     "metadata": {},
     "output_type": "execute_result"
    }
   ],
   "source": [
    "possible_values"
   ]
  },
  {
   "cell_type": "code",
   "execution_count": 121,
   "metadata": {},
   "outputs": [
    {
     "data": {
      "text/plain": [
       "0      302736\n",
       "1      378508\n",
       "2      484330\n",
       "3      602175\n",
       "4      693482\n",
       "5      698250\n",
       "6      667584\n",
       "7      608760\n",
       "8      560859\n",
       "9      456225\n",
       "10     373592\n",
       "11     297018\n",
       "12     205145\n",
       "13     139120\n",
       "14      90846\n",
       "15      62356\n",
       "16      47961\n",
       "17      34596\n",
       "18      25905\n",
       "19      20433\n",
       "20      15515\n",
       "21      12814\n",
       "22      12560\n",
       "23      13612\n",
       "24      14952\n",
       "25      17654\n",
       "26      18816\n",
       "27      21424\n",
       "28      24725\n",
       "29      27552\n",
       "        ...  \n",
       "970    200434\n",
       "971    190164\n",
       "972    192676\n",
       "973    194955\n",
       "974    200625\n",
       "975    206064\n",
       "976    212850\n",
       "977    219387\n",
       "978    221958\n",
       "979    223468\n",
       "980    224436\n",
       "981    223920\n",
       "982    218631\n",
       "983    207776\n",
       "984    207060\n",
       "985    201872\n",
       "986    193050\n",
       "987    192556\n",
       "988    191151\n",
       "989    193980\n",
       "990    196185\n",
       "991    199341\n",
       "992    198968\n",
       "993    198645\n",
       "994    199752\n",
       "995    199374\n",
       "996    199532\n",
       "997    197071\n",
       "998    200434\n",
       "999    190164\n",
       "Name: recource_value, Length: 1000, dtype: object"
      ]
     },
     "execution_count": 121,
     "metadata": {},
     "output_type": "execute_result"
    }
   ],
   "source": [
    "df['recource_value']"
   ]
  },
  {
   "cell_type": "code",
   "execution_count": 107,
   "metadata": {},
   "outputs": [
    {
     "data": {
      "text/plain": [
       "[<matplotlib.lines.Line2D at 0x120c90a90>]"
      ]
     },
     "execution_count": 107,
     "metadata": {},
     "output_type": "execute_result"
    },
    {
     "data": {
      "image/png": "[encoded data removed]",
      "text/plain": [
       "<Figure size 432x288 with 1 Axes>"
      ]
     },
     "metadata": {},
     "output_type": "display_data"
    }
   ],
   "source": [
    "plt.plot(df['diff'])"
   ]
  },
  {
   "cell_type": "code",
   "execution_count": null,
   "metadata": {},
   "outputs": [],
   "source": []
  },
  {
   "cell_type": "code",
   "execution_count": null,
   "metadata": {},
   "outputs": [],
   "source": []
  }
 ],
 "metadata": {
  "kernelspec": {
   "display_name": "Python 3",
   "language": "python",
   "name": "python3"
  },
  "language_info": {
   "codemirror_mode": {
    "name": "ipython",
    "version": 3
   },
   "file_extension": ".py",
   "mimetype": "text/x-python",
   "name": "python",
   "nbconvert_exporter": "python",
   "pygments_lexer": "ipython3",
   "version": "3.6.5"
  }
 },
 "nbformat": 4,
 "nbformat_minor": 2
}
