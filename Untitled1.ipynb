{
 "cells": [
  {
   "cell_type": "code",
   "execution_count": 39,
   "metadata": {
    "ExecuteTime": {
     "end_time": "2018-12-14T15:10:40.084365",
     "start_time": "2018-12-14T15:10:40.060713"
    },
    "collapsed": false
   },
   "outputs": [
    {
     "name": "stdout",
     "output_type": "stream",
     "text": [
      "18\n"
     ]
    }
   ],
   "source": [
    "def new_recipes(num1, num2):\n",
    "    num = num1+num2\n",
    "    #return deque([int(x[0]) for x in str(num)])\n",
    "    return str(num)\n",
    "\n",
    "def get_new_recipe(current_index, current_score, m):\n",
    "    new_index = (current_index + current_score+1)%len(m)\n",
    "    return int(m[new_index]), new_index\n",
    "\n",
    "\n",
    "recipes = '37'\n",
    "\n",
    "current_score = dict({'elv1': 3, 'elv2': 7})\n",
    "current_index = dict({'elv1': 0, 'elv2': 1})\n",
    "\n",
    "\n",
    "#n = '920831' # --2018\n",
    "n = '92510' #--18\n",
    "num=0\n",
    "\n",
    "\n",
    "import time\n",
    "start = time.time()\n",
    "\n",
    "while True:\n",
    "    #num+=1\n",
    "    \n",
    "    recipes = recipes + new_recipes(current_score['elv1'], current_score['elv2'])\n",
    "    if n in recipes:\n",
    "        #print(num)\n",
    "        break\n",
    "        \n",
    "    for elv in current_score.keys():\n",
    "        new_score, new_index = get_new_recipe(current_index[elv], current_score[elv], recipes)\n",
    "        current_score[elv] = new_score\n",
    "        current_index[elv] = new_index\n",
    "        \n",
    "    \n",
    "print(len(recipes)-len(n))"
   ]
  },
  {
   "cell_type": "code",
   "execution_count": 33,
   "metadata": {
    "ExecuteTime": {
     "end_time": "2018-12-14T15:10:37.352308",
     "start_time": "2018-12-14T15:10:37.319460"
    },
    "collapsed": false
   },
   "outputs": [
    {
     "name": "stdout",
     "output_type": "stream",
     "text": [
      "18\n"
     ]
    }
   ],
   "source": [
    "def new_recipes(num1, num2):\n",
    "    num = num1+num2\n",
    "    #return deque([int(x[0]) for x in str(num)])\n",
    "    return str(num)\n",
    "\n",
    "def get_new_recipe(current_index, current_score, m):\n",
    "    new_index = (current_index + current_score+1)%len(m)\n",
    "    return int(m[new_index]), new_index\n",
    "\n",
    "\n",
    "recipes = '37'\n",
    "\n",
    "current_score = dict({'elv1': 3, 'elv2': 7})\n",
    "current_index = dict({'elv1': 0, 'elv2': 1})\n",
    "\n",
    "\n",
    "#n = '920831' # --2018\n",
    "n = '92510' #--18\n",
    "num=0\n",
    "set_ = set()\n",
    "\n",
    "\n",
    "import time\n",
    "start = time.time()\n",
    "\n",
    "while True:\n",
    "    #num+=1\n",
    "    \n",
    "    recipes = recipes + new_recipes(current_score['elv1'], current_score['elv2'])\n",
    "    set_.add(recipes[-5:])\n",
    "    if n in set_:\n",
    "        #print(num)\n",
    "        break\n",
    "        \n",
    "    for elv in current_score.keys():\n",
    "        new_score, new_index = get_new_recipe(current_index[elv], current_score[elv], recipes)\n",
    "        current_score[elv] = new_score\n",
    "        current_index[elv] = new_index\n",
    "        \n",
    "    \n",
    "print(len(recipes)-len(n))"
   ]
  },
  {
   "cell_type": "code",
   "execution_count": 46,
   "metadata": {
    "ExecuteTime": {
     "end_time": "2018-12-14T15:10:44.100270",
     "start_time": "2018-12-14T15:10:44.065562"
    },
    "collapsed": false
   },
   "outputs": [
    {
     "name": "stdout",
     "output_type": "stream",
     "text": [
      "18\n"
     ]
    }
   ],
   "source": [
    "def new_recipes(num1, num2):\n",
    "    num = num1+num2\n",
    "    #return deque([int(x[0]) for x in str(num)])\n",
    "    return str(num)\n",
    "\n",
    "def get_new_recipe(current_index, current_score, m):\n",
    "    new_index = (current_index + current_score+1)%len(m)\n",
    "    return int(m[new_index]), new_index\n",
    "\n",
    "\n",
    "recipes = '37'\n",
    "\n",
    "current_score = dict({'elv1': 3, 'elv2': 7})\n",
    "current_index = dict({'elv1': 0, 'elv2': 1})\n",
    "\n",
    "\n",
    "#n = '920831' # --2018\n",
    "n = '92510' #--18\n",
    "num=0\n",
    "set_ = set()\n",
    "\n",
    "\n",
    "import time\n",
    "start = time.time()\n",
    "\n",
    "while True:\n",
    "    #num+=1\n",
    "    \n",
    "    recipes = recipes + new_recipes(current_score['elv1'], current_score['elv2'])\n",
    "    #set_.add(recipes[-5:])\n",
    "    if n in recipes[-6:]:\n",
    "        #print(num)\n",
    "        break\n",
    "        \n",
    "    for elv in current_score.keys():\n",
    "        new_score, new_index = get_new_recipe(current_index[elv], current_score[elv], recipes)\n",
    "        current_score[elv] = new_score\n",
    "        current_index[elv] = new_index\n",
    "        \n",
    "    \n",
    "print(len(recipes)-len(n))"
   ]
  }
 ],
 "metadata": {
  "anaconda-cloud": {},
  "kernelspec": {
   "display_name": "Python [conda root]",
   "language": "python",
   "name": "conda-root-py"
  },
  "language_info": {
   "codemirror_mode": {
    "name": "ipython",
    "version": 3
   },
   "file_extension": ".py",
   "mimetype": "text/x-python",
   "name": "python",
   "nbconvert_exporter": "python",
   "pygments_lexer": "ipython3",
   "version": "3.5.4"
  },
  "toc": {
   "colors": {
    "hover_highlight": "#DAA520",
    "running_highlight": "#FF0000",
    "selected_highlight": "#FFD700"
   },
   "moveMenuLeft": true,
   "nav_menu": {
    "height": "11px",
    "width": "252px"
   },
   "navigate_menu": true,
   "number_sections": true,
   "sideBar": true,
   "threshold": 4,
   "toc_cell": false,
   "toc_section_display": "block",
   "toc_window_display": false
  }
 },
 "nbformat": 4,
 "nbformat_minor": 2
}
