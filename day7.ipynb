{
 "cells": [
  {
   "cell_type": "code",
   "execution_count": 2,
   "metadata": {
    "ExecuteTime": {
     "end_time": "2018-12-07T17:07:34.493810",
     "start_time": "2018-12-07T17:07:34.483748"
    }
   },
   "outputs": [],
   "source": [
    "import networkx as nx\n",
    "import pandas\n",
    "import matplotlib.pylab as plt\n",
    "%matplotlib inline"
   ]
  },
  {
   "cell_type": "markdown",
   "metadata": {},
   "source": [
    "## part 1"
   ]
  },
  {
   "cell_type": "code",
   "execution_count": 3,
   "metadata": {
    "ExecuteTime": {
     "end_time": "2018-12-07T16:59:38.717243",
     "start_time": "2018-12-07T16:59:38.668159"
    }
   },
   "outputs": [
    {
     "data": {
      "text/html": [
       "<div>\n",
       "<style scoped>\n",
       "    .dataframe tbody tr th:only-of-type {\n",
       "        vertical-align: middle;\n",
       "    }\n",
       "\n",
       "    .dataframe tbody tr th {\n",
       "        vertical-align: top;\n",
       "    }\n",
       "\n",
       "    .dataframe thead th {\n",
       "        text-align: right;\n",
       "    }\n",
       "</style>\n",
       "<table border=\"1\" class=\"dataframe\">\n",
       "  <thead>\n",
       "    <tr style=\"text-align: right;\">\n",
       "      <th></th>\n",
       "      <th>input</th>\n",
       "    </tr>\n",
       "  </thead>\n",
       "  <tbody>\n",
       "    <tr>\n",
       "      <th>0</th>\n",
       "      <td>Step M must be finished before step D can begin.</td>\n",
       "    </tr>\n",
       "    <tr>\n",
       "      <th>1</th>\n",
       "      <td>Step E must be finished before step Z can begin.</td>\n",
       "    </tr>\n",
       "    <tr>\n",
       "      <th>2</th>\n",
       "      <td>Step F must be finished before step W can begin.</td>\n",
       "    </tr>\n",
       "    <tr>\n",
       "      <th>3</th>\n",
       "      <td>Step T must be finished before step K can begin.</td>\n",
       "    </tr>\n",
       "    <tr>\n",
       "      <th>4</th>\n",
       "      <td>Step L must be finished before step Z can begin.</td>\n",
       "    </tr>\n",
       "  </tbody>\n",
       "</table>\n",
       "</div>"
      ],
      "text/plain": [
       "                                              input\n",
       "0  Step M must be finished before step D can begin.\n",
       "1  Step E must be finished before step Z can begin.\n",
       "2  Step F must be finished before step W can begin.\n",
       "3  Step T must be finished before step K can begin.\n",
       "4  Step L must be finished before step Z can begin."
      ]
     },
     "execution_count": 3,
     "metadata": {},
     "output_type": "execute_result"
    }
   ],
   "source": [
    "t = pandas.read_csv('quiz7.txt', names=['input'])\n",
    "t.head()"
   ]
  },
  {
   "cell_type": "code",
   "execution_count": 5,
   "metadata": {
    "ExecuteTime": {
     "end_time": "2018-12-07T17:01:29.218677",
     "start_time": "2018-12-07T17:01:29.214609"
    }
   },
   "outputs": [],
   "source": [
    "def get_step(string):\n",
    "    previous_step = string[5]\n",
    "    next_step = string[36]\n",
    "    return previous_step, next_step"
   ]
  },
  {
   "cell_type": "code",
   "execution_count": 7,
   "metadata": {
    "ExecuteTime": {
     "end_time": "2018-12-07T17:16:48.483203",
     "start_time": "2018-12-07T17:16:48.467065"
    }
   },
   "outputs": [],
   "source": [
    "G = nx.DiGraph()\n",
    "\n",
    "for previous_step, next_step in t['input'].apply(lambda x: get_step(x)):\n",
    "    G.add_edge(previous_step, next_step)\n",
    "\n",
    "string = ''\n",
    "\n",
    "# while len(G.nodes())>0:\n",
    "#     list_of_nodes = []\n",
    "#     for node in G.nodes():\n",
    "#         if G.in_degree(node) == 0:\n",
    "#             list_of_nodes.append(node)\n",
    "            \n",
    "#     node = sorted(list_of_nodes)[0]\n",
    "#     string = string+node\n",
    "#     G.remove_node(node)\n",
    "# print(string)"
   ]
  },
  {
   "cell_type": "code",
   "execution_count": 13,
   "metadata": {
    "ExecuteTime": {
     "end_time": "2018-12-07T17:04:09.589653",
     "start_time": "2018-12-07T17:04:09.577062"
    }
   },
   "outputs": [
    {
     "data": {
      "text/html": [
       "<div>\n",
       "<style scoped>\n",
       "    .dataframe tbody tr th:only-of-type {\n",
       "        vertical-align: middle;\n",
       "    }\n",
       "\n",
       "    .dataframe tbody tr th {\n",
       "        vertical-align: top;\n",
       "    }\n",
       "\n",
       "    .dataframe thead th {\n",
       "        text-align: right;\n",
       "    }\n",
       "</style>\n",
       "<table border=\"1\" class=\"dataframe\">\n",
       "  <thead>\n",
       "    <tr style=\"text-align: right;\">\n",
       "      <th></th>\n",
       "      <th>input</th>\n",
       "    </tr>\n",
       "  </thead>\n",
       "  <tbody>\n",
       "    <tr>\n",
       "      <th>0</th>\n",
       "      <td>Step C must be finished before step A can begin.</td>\n",
       "    </tr>\n",
       "    <tr>\n",
       "      <th>1</th>\n",
       "      <td>Step C must be finished before step F can begin.</td>\n",
       "    </tr>\n",
       "    <tr>\n",
       "      <th>2</th>\n",
       "      <td>Step A must be finished before step B can begin.</td>\n",
       "    </tr>\n",
       "    <tr>\n",
       "      <th>3</th>\n",
       "      <td>Step A must be finished before step D can begin.</td>\n",
       "    </tr>\n",
       "    <tr>\n",
       "      <th>4</th>\n",
       "      <td>Step B must be finished before step E can begin.</td>\n",
       "    </tr>\n",
       "    <tr>\n",
       "      <th>5</th>\n",
       "      <td>Step D must be finished before step E can begin.</td>\n",
       "    </tr>\n",
       "    <tr>\n",
       "      <th>6</th>\n",
       "      <td>Step F must be finished before step E can begin.</td>\n",
       "    </tr>\n",
       "  </tbody>\n",
       "</table>\n",
       "</div>"
      ],
      "text/plain": [
       "                                              input\n",
       "0  Step C must be finished before step A can begin.\n",
       "1  Step C must be finished before step F can begin.\n",
       "2  Step A must be finished before step B can begin.\n",
       "3  Step A must be finished before step D can begin.\n",
       "4  Step B must be finished before step E can begin.\n",
       "5  Step D must be finished before step E can begin.\n",
       "6  Step F must be finished before step E can begin."
      ]
     },
     "execution_count": 13,
     "metadata": {},
     "output_type": "execute_result"
    }
   ],
   "source": [
    "test_t = pandas.DataFrame({'input': ['Step C must be finished before step A can begin.',\n",
    "                                    'Step C must be finished before step F can begin.',\n",
    "                                    'Step A must be finished before step B can begin.',\n",
    "                                    'Step A must be finished before step D can begin.',\n",
    "                                    'Step B must be finished before step E can begin.',\n",
    "                                    'Step D must be finished before step E can begin.',\n",
    "                                    'Step F must be finished before step E can begin.']})\n",
    "test_t"
   ]
  },
  {
   "cell_type": "code",
   "execution_count": 15,
   "metadata": {
    "ExecuteTime": {
     "end_time": "2018-12-07T18:09:45.123457",
     "start_time": "2018-12-07T18:09:45.115654"
    }
   },
   "outputs": [
    {
     "name": "stdout",
     "output_type": "stream",
     "text": [
      "\n"
     ]
    }
   ],
   "source": [
    "G_test = nx.DiGraph()\n",
    "\n",
    "for previous_step, next_step in test_t['input'].apply(lambda x: get_step(x)):\n",
    "    G_test.add_edge(previous_step, next_step)\n",
    "\n",
    "string = ''\n",
    "\n",
    "# while len(G_test.nodes())>0:\n",
    "#     list_of_nodes = []\n",
    "#     for node in G_test.nodes():\n",
    "#         if G_test.in_degree(node) == 0:\n",
    "#             list_of_nodes.append(node)\n",
    "            \n",
    "#     node = sorted(list_of_nodes)[0]\n",
    "#     string = string+node\n",
    "#     G_test.remove_node(node)\n",
    "print(string)"
   ]
  },
  {
   "cell_type": "markdown",
   "metadata": {},
   "source": [
    "## part 2"
   ]
  },
  {
   "cell_type": "code",
   "execution_count": 64,
   "metadata": {
    "ExecuteTime": {
     "end_time": "2018-12-07T18:14:10.951284",
     "start_time": "2018-12-07T18:14:10.947478"
    }
   },
   "outputs": [
    {
     "name": "stdout",
     "output_type": "stream",
     "text": [
      "[]\n",
      "{'worker1': None, 'worker2': None}\n",
      "['C']\n",
      "[]\n",
      "{'worker1': 'C', 'worker2': None}\n",
      "[]\n",
      "{'worker1': 'C', 'worker2': None}\n",
      "[]\n",
      "{'worker1': 'C', 'worker2': None}\n",
      "['A', 'F']\n",
      "['F']\n",
      "{'worker1': 'A', 'worker2': 'F'}\n",
      "['B', 'D']\n",
      "{'worker1': 'B', 'worker2': 'F'}\n",
      "{'worker1': 'B', 'worker2': 'F'}\n",
      "['D']\n",
      "{'worker1': 'D', 'worker2': 'F'}\n",
      "{'worker1': 'D', 'worker2': 'F'}\n",
      "{'worker1': 'D', 'worker2': 'F'}\n",
      "[]\n",
      "{'worker1': 'D', 'worker2': 'F'}\n",
      "['E']\n",
      "[]\n",
      "{'worker1': 'E', 'worker2': 'F'}\n",
      "[]\n",
      "{'worker1': 'E', 'worker2': 'F'}\n",
      "[]\n",
      "{'worker1': 'E', 'worker2': 'F'}\n",
      "[]\n",
      "{'worker1': 'E', 'worker2': 'F'}\n",
      "[]\n",
      "{'worker1': 'E', 'worker2': 'F'}\n",
      "[]\n",
      "[]\n",
      "16\n"
     ]
    }
   ],
   "source": [
    "##test\n",
    "G_test = nx.DiGraph()\n",
    "\n",
    "for previous_step, next_step in test_t['input'].apply(lambda x: get_step(x)):\n",
    "    G_test.add_edge(previous_step, next_step)\n",
    "\n",
    "\n",
    "workers = ['worker1', 'worker2']\n",
    "\n",
    "work_assigned = dict()\n",
    "time_remaining = dict()\n",
    "\n",
    "for worker in workers: #all workers are starting with 0 time left\n",
    "    time_remaining[worker] = 0\n",
    "    work_assigned[worker] = None\n",
    "import string\n",
    "\n",
    "duration = dict()\n",
    "for char in string.ascii_lowercase:\n",
    "    duration[char] = (ord(char)-96)\n",
    "\n",
    "#time = pandas.DataFrame(columns = ['worker1', 'worker2', 'worker3', 'worker4','worker5'])\n",
    "\n",
    "def get_next_nodes(G, work_assigned):\n",
    "    list_of_nodes = []\n",
    "    G_temp = G.copy()\n",
    "    for node in G_temp.nodes():\n",
    "        if G_temp.in_degree(node) == 0 and node not in work_assigned.values():\n",
    "            list_of_nodes.append(node)\n",
    "    return list_of_nodes\n",
    "\n",
    "\n",
    "## test G\n",
    "\n",
    "#tasks = get_next_nodes(G_test, work_assigned)\n",
    "tasks = []\n",
    "count = 0\n",
    "print(tasks)\n",
    "\n",
    "while len(G_test.nodes())>0:\n",
    "    print(work_assigned)\n",
    "    count = count+1\n",
    "    for worker in workers:\n",
    "        if time_remaining[worker]>1: ##keep working\n",
    "            time_remaining[worker] = time_remaining[worker] - 1\n",
    "            \n",
    "        else: ##this worker has finished\n",
    "            finished_task = work_assigned[worker]\n",
    "            if finished_task is not None and finished_task in G_test.nodes():\n",
    "                G_test.remove_node(finished_task) ##remove this task\n",
    "\n",
    "            tasks = sorted(list(set(tasks + get_next_nodes(G_test, work_assigned)))) ##and get all the avaiulable tasks, append to previous already available tasks\n",
    "            print(tasks)\n",
    "            if len(tasks)>0: ##if there is work to be done\n",
    "\n",
    "                work_assigned[worker]=tasks[0] ## assigne the first element of the list\n",
    "                tasks.remove(tasks[0]) ##remove the first element of the list\n",
    "                time_remaining[worker] = duration[work_assigned[worker].lower()]\n",
    "print(count)"
   ]
  },
  {
   "cell_type": "code",
   "execution_count": 96,
   "metadata": {},
   "outputs": [
    {
     "name": "stdout",
     "output_type": "stream",
     "text": [
      "1057\n"
     ]
    }
   ],
   "source": [
    "## actual run\n",
    "\n",
    "##test\n",
    "G = nx.DiGraph()\n",
    "\n",
    "for previous_step, next_step in t['input'].apply(lambda x: get_step(x)):\n",
    "    G.add_edge(previous_step, next_step)\n",
    "\n",
    "\n",
    "workers = ['worker1', 'worker2', 'worker3', 'worker4', 'worker5']\n",
    "\n",
    "work_assigned = dict()\n",
    "time_remaining = dict()\n",
    "\n",
    "for worker in workers: #all workers are starting with 0 time left\n",
    "    time_remaining[worker] = 0\n",
    "    work_assigned[worker] = None\n",
    "import string\n",
    "\n",
    "duration = dict()\n",
    "for char in string.ascii_lowercase:\n",
    "    duration[char] = 60 + (ord(char)-96)\n",
    "\n",
    "#time = pandas.DataFrame(columns = ['worker1', 'worker2', 'worker3', 'worker4','worker5'])\n",
    "\n",
    "def get_next_nodes(G, work_assigned):\n",
    "    list_of_nodes = []\n",
    "    G_temp = G.copy()\n",
    "    for node in G_temp.nodes():\n",
    "        if G_temp.in_degree(node) == 0 and node not in work_assigned.values():\n",
    "            list_of_nodes.append(node)\n",
    "    return list_of_nodes\n",
    "\n",
    "\n",
    "## test G\n",
    "\n",
    "#tasks = get_next_nodes(G_test, work_assigned)\n",
    "tasks = []\n",
    "count = 0\n",
    "#print(tasks)\n",
    "\n",
    "while len(G.nodes())>0:\n",
    "    #print(time_remaining['worker4'])\n",
    "    #print(work_assigned)\n",
    "    #print(tasks)\n",
    "    \n",
    "    count = count+1\n",
    "    for worker in workers:\n",
    "        if time_remaining[worker]>1: ##keep working\n",
    "            time_remaining[worker] = time_remaining[worker] - 1\n",
    "            \n",
    "        else: ##this worker has finished\n",
    "            finished_task = work_assigned[worker]\n",
    "            work_assigned[worker] = None\n",
    "            \n",
    "#             if worker == 'worker3':\n",
    "#                 print(finished_task)\n",
    "\n",
    "            if finished_task is not None:\n",
    "                if finished_task in G.nodes():\n",
    "                    G.remove_node(finished_task) ##remove this task\n",
    "\n",
    "            tasks = sorted(list(set(tasks + get_next_nodes(G, work_assigned)))) ##and get all the avaiulable tasks, append to previous already available tasks\n",
    "            #print(tasks)\n",
    "    for worker in workers:\n",
    "        if work_assigned[worker] is None:\n",
    "            if len(tasks)>0: ##if there is work to be done\n",
    "                work_assigned[worker]=tasks[0] ## assigne the first element of the list\n",
    "                tasks.remove(tasks[0]) ##remove the first element of the list\n",
    "                time_remaining[worker] = duration[work_assigned[worker].lower()]\n",
    "print(count)"
   ]
  },
  {
   "cell_type": "code",
   "execution_count": 79,
   "metadata": {},
   "outputs": [
    {
     "data": {
      "text/plain": [
       "71"
      ]
     },
     "execution_count": 79,
     "metadata": {},
     "output_type": "execute_result"
    }
   ],
   "source": [
    "duration['k']"
   ]
  }
 ],
 "metadata": {
  "anaconda-cloud": {},
  "kernelspec": {
   "display_name": "Python 3",
   "language": "python",
   "name": "python3"
  },
  "language_info": {
   "codemirror_mode": {
    "name": "ipython",
    "version": 3
   },
   "file_extension": ".py",
   "mimetype": "text/x-python",
   "name": "python",
   "nbconvert_exporter": "python",
   "pygments_lexer": "ipython3",
   "version": "3.6.5"
  },
  "toc": {
   "colors": {
    "hover_highlight": "#DAA520",
    "running_highlight": "#FF0000",
    "selected_highlight": "#FFD700"
   },
   "moveMenuLeft": true,
   "nav_menu": {
    "height": "48px",
    "width": "252px"
   },
   "navigate_menu": true,
   "number_sections": true,
   "sideBar": true,
   "threshold": 4,
   "toc_cell": false,
   "toc_section_display": "block",
   "toc_window_display": false
  }
 },
 "nbformat": 4,
 "nbformat_minor": 2
}
