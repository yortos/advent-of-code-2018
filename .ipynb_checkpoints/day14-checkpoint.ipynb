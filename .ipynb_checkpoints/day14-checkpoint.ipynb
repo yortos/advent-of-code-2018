{
 "cells": [
  {
   "cell_type": "code",
   "execution_count": 43,
   "metadata": {
    "ExecuteTime": {
     "end_time": "2018-12-14T12:47:32.603525",
     "start_time": "2018-12-14T12:47:32.601037"
    },
    "collapsed": true
   },
   "outputs": [],
   "source": [
    "from collections import deque"
   ]
  },
  {
   "cell_type": "code",
   "execution_count": 66,
   "metadata": {
    "ExecuteTime": {
     "end_time": "2018-12-14T14:14:09.786987",
     "start_time": "2018-12-14T14:14:09.782019"
    },
    "collapsed": true
   },
   "outputs": [],
   "source": [
    "def new_recipes(num1, num2):\n",
    "    num = num1+num2\n",
    "    #return deque([int(x[0]) for x in str(num)])\n",
    "    return [int(x[0]) for x in str(num)]\n",
    "def get_new_recipe(current_index, current_score, m, offset):\n",
    "    new_index = (offset + current_index + current_score+1)%len(m)\n",
    "    return m[new_index], new_index"
   ]
  },
  {
   "cell_type": "code",
   "execution_count": 81,
   "metadata": {
    "ExecuteTime": {
     "end_time": "2018-12-14T14:19:06.279472",
     "start_time": "2018-12-14T14:19:06.202685"
    },
    "collapsed": false
   },
   "outputs": [
    {
     "name": "stdout",
     "output_type": "stream",
     "text": [
      "0.06476306915283203\n",
      "[5, 9, 4, 1, 4, 2, 9, 8, 8, 2]\n"
     ]
    }
   ],
   "source": [
    "#recipes = deque([3, 7])\n",
    "recipes = [3,7]\n",
    "\n",
    "current_score = dict({'elv1': 3, 'elv2': 7})\n",
    "current_index = dict({'elv1': 0, 'elv2': 1})\n",
    "\n",
    "\n",
    "n = 2018\n",
    "num=0\n",
    "offset = 0\n",
    "import time\n",
    "start = time.time()\n",
    "\n",
    "while num<2*n:\n",
    "\n",
    "    recipes = recipes + new_recipes(current_score['elv1'], current_score['elv2'])\n",
    "    for elv in current_score.keys():\n",
    "        new_score, new_index = get_new_recipe(current_index[elv], current_score[elv], recipes, offset)\n",
    "        current_score[elv] = new_score\n",
    "        current_index[elv] = new_index\n",
    "        \n",
    "    \n",
    "    num+=1\n",
    "    \n",
    "print(time.time()-start)\n",
    "print(recipes[n:n+10])    "
   ]
  },
  {
   "cell_type": "markdown",
   "metadata": {},
   "source": [
    "##string approach"
   ]
  },
  {
   "cell_type": "code",
   "execution_count": 162,
   "metadata": {
    "ExecuteTime": {
     "end_time": "2018-12-14T15:33:42.669014",
     "start_time": "2018-12-14T15:33:42.638629"
    },
    "collapsed": false
   },
   "outputs": [
    {
     "name": "stdout",
     "output_type": "stream",
     "text": [
      "18\n"
     ]
    }
   ],
   "source": [
    "def new_recipes(num1, num2):\n",
    "    num = num1+num2\n",
    "    #return deque([int(x[0]) for x in str(num)])\n",
    "    return str(num)\n",
    "\n",
    "def get_new_recipe(current_index, current_score, m):\n",
    "    new_index = (current_index + current_score+1)%len(m)\n",
    "    return int(m[new_index]), new_index\n",
    "\n",
    "\n",
    "recipes = '37'\n",
    "\n",
    "current_score = dict({'elv1': 3, 'elv2': 7})\n",
    "current_index = dict({'elv1': 0, 'elv2': 1})\n",
    "#set_ = set()\n",
    "\n",
    "\n",
    "n = '92510' #--18\n",
    "#n = '920831' # --2018\n",
    "len_ = len(n)\n",
    "\n",
    "num=0\n",
    "\n",
    "\n",
    "import time\n",
    "start = time.time()\n",
    "\n",
    "while True:\n",
    "    #num+=1\n",
    "    \n",
    "    recipes = recipes + new_recipes(current_score['elv1'], current_score['elv2'])\n",
    "    #set_.add(recipes[-6:])\n",
    "    if n in recipes[-len_:]:\n",
    "        break\n",
    "        \n",
    "    for elv in current_score.keys():\n",
    "        new_score, new_index = get_new_recipe(current_index[elv], current_score[elv], recipes)\n",
    "        current_score[elv] = new_score\n",
    "        current_index[elv] = new_index\n",
    "        \n",
    "    \n",
    "print(len(recipes)-len(n))"
   ]
  },
  {
   "cell_type": "markdown",
   "metadata": {},
   "source": [
    "## part 2"
   ]
  },
  {
   "cell_type": "code",
   "execution_count": 38,
   "metadata": {
    "ExecuteTime": {
     "end_time": "2018-12-14T15:54:23.719729",
     "start_time": "2018-12-14T15:54:17.918895"
    },
    "collapsed": false
   },
   "outputs": [
    {
     "ename": "KeyboardInterrupt",
     "evalue": "",
     "output_type": "error",
     "traceback": [
      "\u001b[0;31m---------------------------------------------------------------------------\u001b[0m",
      "\u001b[0;31mKeyboardInterrupt\u001b[0m                         Traceback (most recent call last)",
      "\u001b[0;32m<ipython-input-38-ddb587fed361>\u001b[0m in \u001b[0;36m<module>\u001b[0;34m()\u001b[0m\n\u001b[1;32m     26\u001b[0m \u001b[0mstart\u001b[0m \u001b[0;34m=\u001b[0m \u001b[0mtime\u001b[0m\u001b[0;34m.\u001b[0m\u001b[0mtime\u001b[0m\u001b[0;34m(\u001b[0m\u001b[0;34m)\u001b[0m\u001b[0;34m\u001b[0m\u001b[0m\n\u001b[1;32m     27\u001b[0m \u001b[0;34m\u001b[0m\u001b[0m\n\u001b[0;32m---> 28\u001b[0;31m \u001b[0;32mwhile\u001b[0m \u001b[0mn\u001b[0m \u001b[0;32mnot\u001b[0m \u001b[0;32min\u001b[0m \u001b[0mrecipes\u001b[0m\u001b[0;34m:\u001b[0m\u001b[0;34m\u001b[0m\u001b[0m\n\u001b[0m\u001b[1;32m     29\u001b[0m \u001b[0;34m\u001b[0m\u001b[0m\n\u001b[1;32m     30\u001b[0m     \u001b[0mrecipes\u001b[0m \u001b[0;34m=\u001b[0m \u001b[0mrecipes\u001b[0m \u001b[0;34m+\u001b[0m \u001b[0mstr\u001b[0m\u001b[0;34m(\u001b[0m\u001b[0mint\u001b[0m\u001b[0;34m(\u001b[0m\u001b[0mrecipes\u001b[0m\u001b[0;34m[\u001b[0m\u001b[0melv1\u001b[0m\u001b[0;34m]\u001b[0m\u001b[0;34m)\u001b[0m\u001b[0;34m+\u001b[0m\u001b[0mint\u001b[0m\u001b[0;34m(\u001b[0m\u001b[0mrecipes\u001b[0m\u001b[0;34m[\u001b[0m\u001b[0melv2\u001b[0m\u001b[0;34m]\u001b[0m\u001b[0;34m)\u001b[0m\u001b[0;34m)\u001b[0m\u001b[0;34m\u001b[0m\u001b[0m\n",
      "\u001b[0;31mKeyboardInterrupt\u001b[0m: "
     ]
    }
   ],
   "source": [
    "def new_recipes(num1, num2):\n",
    "    num = num1+num2\n",
    "    #return deque([int(x[0]) for x in str(num)])\n",
    "    return str(num)\n",
    "\n",
    "def get_new_recipe(current_index, current_score, m):\n",
    "    new_index = (current_index + current_score+1)%len(m)\n",
    "    return int(m[new_index]), new_index\n",
    "\n",
    "\n",
    "# recipes = '37'\n",
    "\n",
    "# elv1 = 0\n",
    "# elv2 = 1\n",
    "\n",
    "\n",
    "#n = '92510' #--18\n",
    "n = '920831' # --2018\n",
    "n = '920831'\n",
    "len_ = len(n)\n",
    "\n",
    "num=0\n",
    "\n",
    "\n",
    "import time\n",
    "start = time.time()\n",
    "\n",
    "while n not in recipes:\n",
    "    \n",
    "    recipes = recipes + str(int(recipes[elv1])+int(recipes[elv2]))\n",
    "    elv1 = (elv1 + int(recipes[elv1])+1)%len(recipes)\n",
    "    elv2 = (elv2 + int(recipes[elv2])+1)%len(recipes)\n",
    "        \n",
    "print(len(recipes)-len(n))"
   ]
  },
  {
   "cell_type": "code",
   "execution_count": 43,
   "metadata": {
    "ExecuteTime": {
     "end_time": "2018-12-14T15:54:40.543016",
     "start_time": "2018-12-14T15:54:40.539025"
    },
    "collapsed": false
   },
   "outputs": [
    {
     "data": {
      "text/plain": [
       "392437"
      ]
     },
     "execution_count": 43,
     "metadata": {},
     "output_type": "execute_result"
    }
   ],
   "source": [
    "len(recipes)"
   ]
  },
  {
   "cell_type": "code",
   "execution_count": 24,
   "metadata": {
    "ExecuteTime": {
     "end_time": "2018-12-14T15:49:28.489221",
     "start_time": "2018-12-14T15:49:28.422519"
    },
    "collapsed": false
   },
   "outputs": [
    {
     "data": {
      "text/plain": [
       "20236441"
      ]
     },
     "execution_count": 24,
     "metadata": {},
     "output_type": "execute_result"
    }
   ],
   "source": [
    "recipes.find(n)"
   ]
  },
  {
   "cell_type": "code",
   "execution_count": 20,
   "metadata": {
    "ExecuteTime": {
     "end_time": "2018-12-14T15:48:35.483984",
     "start_time": "2018-12-14T15:48:35.436419"
    },
    "collapsed": false
   },
   "outputs": [
    {
     "data": {
      "text/plain": [
       "True"
      ]
     },
     "execution_count": 20,
     "metadata": {},
     "output_type": "execute_result"
    }
   ],
   "source": [
    "n[:6] in recipes"
   ]
  },
  {
   "cell_type": "code",
   "execution_count": 12,
   "metadata": {
    "ExecuteTime": {
     "end_time": "2018-12-14T15:45:58.863704",
     "start_time": "2018-12-14T15:45:58.853776"
    },
    "collapsed": false
   },
   "outputs": [
    {
     "data": {
      "text/plain": [
       "False"
      ]
     },
     "execution_count": 12,
     "metadata": {},
     "output_type": "execute_result"
    }
   ],
   "source": [
    "n[:5] in recipes"
   ]
  }
 ],
 "metadata": {
  "anaconda-cloud": {},
  "kernelspec": {
   "display_name": "Python [default]",
   "language": "python",
   "name": "python3"
  },
  "language_info": {
   "codemirror_mode": {
    "name": "ipython",
    "version": 3
   },
   "file_extension": ".py",
   "mimetype": "text/x-python",
   "name": "python",
   "nbconvert_exporter": "python",
   "pygments_lexer": "ipython3",
   "version": "3.5.4"
  },
  "toc": {
   "colors": {
    "hover_highlight": "#DAA520",
    "running_highlight": "#FF0000",
    "selected_highlight": "#FFD700"
   },
   "moveMenuLeft": true,
   "nav_menu": {
    "height": "29px",
    "width": "252px"
   },
   "navigate_menu": true,
   "number_sections": true,
   "sideBar": true,
   "threshold": 4,
   "toc_cell": false,
   "toc_section_display": "block",
   "toc_window_display": false
  }
 },
 "nbformat": 4,
 "nbformat_minor": 2
}
