{
 "cells": [
  {
   "cell_type": "code",
   "execution_count": 1,
   "metadata": {
    "ExecuteTime": {
     "end_time": "2018-12-06T10:56:09.069355",
     "start_time": "2018-12-06T10:56:08.488926"
    },
    "collapsed": true
   },
   "outputs": [],
   "source": [
    "import pandas"
   ]
  },
  {
   "cell_type": "code",
   "execution_count": 2,
   "metadata": {
    "ExecuteTime": {
     "end_time": "2018-12-06T10:56:10.772192",
     "start_time": "2018-12-06T10:56:10.765991"
    },
    "collapsed": true
   },
   "outputs": [],
   "source": [
    "def get_manhattan_dis(x1,x2,y1,y2):\n",
    "    return abs(x2-x1)+abs(y2-y1)\n",
    "\n",
    "# def find_closest(df, x1,y1):\n",
    "#     min_distance = 10**7\n",
    "#     min_index= None\n",
    "    \n",
    "#     for index in df.index:\n",
    "#         #print(index, min_distance)\n",
    "#         x2 = df.loc[index]['x']\n",
    "#         y2 = df.loc[index]['y']\n",
    "#         #print(x2,y2)\n",
    "#         temp = get_manhattan_dis(x1,x2,y1,y2)\n",
    "#         #print(temp)\n",
    "#         if temp < min_distance:\n",
    "#             min_distance = temp\n",
    "#             min_index = index\n",
    "#     return min_index"
   ]
  },
  {
   "cell_type": "code",
   "execution_count": 52,
   "metadata": {
    "ExecuteTime": {
     "end_time": "2018-12-06T12:53:36.365969",
     "start_time": "2018-12-06T12:53:36.139637"
    },
    "collapsed": false
   },
   "outputs": [
    {
     "name": "stdout",
     "output_type": "stream",
     "text": [
      "0.20204687118530273\n"
     ]
    },
    {
     "name": "stderr",
     "output_type": "stream",
     "text": [
      "//anaconda/lib/python3.5/site-packages/ipykernel/__main__.py:9: FutureWarning: 'argmin' is deprecated, use 'idxmin' instead. The behavior of 'argmin'\n",
      "will be corrected to return the positional minimum in the future.\n",
      "Use 'series.values.argmin' to get the position of the minimum now.\n"
     ]
    }
   ],
   "source": [
    "test = pandas.DataFrame({'x':[1,1,8,3,5,8], 'y':[1,6,3,4,5,9]})\n",
    "#test.apply(lambda x: find_closest(test, x['x'],x['y']), axis=1)\n",
    "\n",
    "coords_test = pandas.DataFrame(columns = ['x','y'])\n",
    "\n",
    "x_ = []\n",
    "y_ = []\n",
    "for x in range(test['x'].min()+1, test['x'].max()):\n",
    "    for y in range(test['y'].min()+1, test['y'].max()):\n",
    "        x_.append(x)\n",
    "        y_.append(y)\n",
    "        \n",
    "coords_test['x']=x_\n",
    "coords_test['y']=y_\n",
    "\n",
    "\n",
    "import time\n",
    "start = time.time()\n",
    "\n",
    "coords_test['closest_index'] = coords_test.apply(lambda x: find_closest(test, x['x'],x['y']), axis=1)\n",
    "coords_test['sum_distance'] = coords_test.apply(lambda x: get_sum_distance(test, x['x'],x['y']), axis=1)\n",
    "\n",
    "print(time.time() - start)"
   ]
  },
  {
   "cell_type": "code",
   "execution_count": 55,
   "metadata": {
    "ExecuteTime": {
     "end_time": "2018-12-06T12:54:17.865472",
     "start_time": "2018-12-06T12:54:17.858933"
    },
    "collapsed": false
   },
   "outputs": [
    {
     "data": {
      "text/plain": [
       "16"
      ]
     },
     "execution_count": 55,
     "metadata": {},
     "output_type": "execute_result"
    }
   ],
   "source": [
    "len(coords_test[coords_test['sum_distance']<32])"
   ]
  },
  {
   "cell_type": "code",
   "execution_count": 9,
   "metadata": {
    "ExecuteTime": {
     "end_time": "2018-12-06T10:56:48.090262",
     "start_time": "2018-12-06T10:56:48.083776"
    },
    "collapsed": false
   },
   "outputs": [
    {
     "data": {
      "text/plain": [
       "closest_index\n",
       "0     1\n",
       "1     7\n",
       "2     5\n",
       "3     9\n",
       "4    17\n",
       "5     3\n",
       "dtype: int64"
      ]
     },
     "execution_count": 9,
     "metadata": {},
     "output_type": "execute_result"
    }
   ],
   "source": [
    "coords_test.groupby('closest_index').size()"
   ]
  },
  {
   "cell_type": "code",
   "execution_count": 32,
   "metadata": {
    "ExecuteTime": {
     "end_time": "2018-12-06T11:11:29.396973",
     "start_time": "2018-12-06T11:11:29.391975"
    },
    "collapsed": false
   },
   "outputs": [
    {
     "data": {
      "text/plain": [
       "[1, 1]"
      ]
     },
     "execution_count": 32,
     "metadata": {},
     "output_type": "execute_result"
    }
   ],
   "source": [
    "import heapq\n",
    "heapq.nsmallest(2, pandas.DataFrame({'t':[1,1,2,24]})['t'])[0]"
   ]
  },
  {
   "cell_type": "code",
   "execution_count": 49,
   "metadata": {
    "ExecuteTime": {
     "end_time": "2018-12-06T12:52:42.655096",
     "start_time": "2018-12-06T12:52:42.641530"
    },
    "collapsed": false
   },
   "outputs": [
    {
     "name": "stdout",
     "output_type": "stream",
     "text": [
      "0     1\n",
      "1     1\n",
      "2     2\n",
      "3    24\n",
      "Name: t, dtype: int64\n"
     ]
    },
    {
     "name": "stderr",
     "output_type": "stream",
     "text": [
      "//anaconda/lib/python3.5/site-packages/ipykernel/__main__.py:2: FutureWarning: 'argmin' is deprecated, use 'idxmin' instead. The behavior of 'argmin'\n",
      "will be corrected to return the positional minimum in the future.\n",
      "Use 'series.values.argmin' to get the position of the minimum now.\n",
      "  from ipykernel import kernelapp as app\n"
     ]
    },
    {
     "data": {
      "text/plain": [
       "0"
      ]
     },
     "execution_count": 49,
     "metadata": {},
     "output_type": "execute_result"
    }
   ],
   "source": [
    "print(pandas.DataFrame({'t':[1,1,2,24]})['t'])\n",
    "pandas.DataFrame({'t':[1,1,2,24]})['t'].argmin()"
   ]
  },
  {
   "cell_type": "code",
   "execution_count": 33,
   "metadata": {
    "ExecuteTime": {
     "end_time": "2018-12-06T11:12:27.132136",
     "start_time": "2018-12-06T11:12:27.125867"
    },
    "collapsed": true
   },
   "outputs": [],
   "source": [
    "def find_closest(df, x1,y1):\n",
    "    df_copy = df.copy()\n",
    "    \n",
    "    df_copy['distance']=df_copy.apply(lambda x: get_manhattan_dis(x['x'], x1, x['y'], y1) , axis=1)\n",
    "    two_smallest = heapq.nsmallest(2, df_copy['distance'])\n",
    "    if two_smallest[0]==two_smallest[1]:\n",
    "        return None\n",
    "    else:\n",
    "        return df_copy['distance'].argmin()"
   ]
  },
  {
   "cell_type": "code",
   "execution_count": null,
   "metadata": {
    "collapsed": true
   },
   "outputs": [],
   "source": [
    "get_manhattan_dis(x['x'], x1, x['y'], y1)"
   ]
  },
  {
   "cell_type": "code",
   "execution_count": null,
   "metadata": {
    "collapsed": true
   },
   "outputs": [],
   "source": []
  },
  {
   "cell_type": "code",
   "execution_count": 11,
   "metadata": {
    "ExecuteTime": {
     "end_time": "2018-12-06T10:57:01.945512",
     "start_time": "2018-12-06T10:57:01.879826"
    },
    "collapsed": true
   },
   "outputs": [],
   "source": [
    "quiz6 = pandas.read_csv('quiz6.txt', names=['x', 'y'])"
   ]
  },
  {
   "cell_type": "code",
   "execution_count": 12,
   "metadata": {
    "ExecuteTime": {
     "end_time": "2018-12-06T10:57:02.784730",
     "start_time": "2018-12-06T10:57:02.568916"
    },
    "collapsed": false
   },
   "outputs": [],
   "source": [
    "coords = pandas.DataFrame(columns = ['x','y'])\n",
    "\n",
    "x_ = []\n",
    "y_ = []\n",
    "for x in range(quiz6['x'].min()+1, quiz6['x'].max()):\n",
    "    for y in range(quiz6['y'].min()+1, quiz6['y'].max()):\n",
    "        x_.append(x)\n",
    "        y_.append(y)\n",
    "        \n",
    "coords['x']=x_\n",
    "coords['y']=y_"
   ]
  },
  {
   "cell_type": "code",
   "execution_count": 38,
   "metadata": {
    "collapsed": false
   },
   "outputs": [
    {
     "data": {
      "text/html": [
       "<div>\n",
       "<style scoped>\n",
       "    .dataframe tbody tr th:only-of-type {\n",
       "        vertical-align: middle;\n",
       "    }\n",
       "\n",
       "    .dataframe tbody tr th {\n",
       "        vertical-align: top;\n",
       "    }\n",
       "\n",
       "    .dataframe thead th {\n",
       "        text-align: right;\n",
       "    }\n",
       "</style>\n",
       "<table border=\"1\" class=\"dataframe\">\n",
       "  <thead>\n",
       "    <tr style=\"text-align: right;\">\n",
       "      <th></th>\n",
       "      <th>x</th>\n",
       "      <th>y</th>\n",
       "    </tr>\n",
       "  </thead>\n",
       "  <tbody>\n",
       "    <tr>\n",
       "      <th>0</th>\n",
       "      <td>350</td>\n",
       "      <td>353</td>\n",
       "    </tr>\n",
       "  </tbody>\n",
       "</table>\n",
       "</div>"
      ],
      "text/plain": [
       "     x    y\n",
       "0  350  353"
      ]
     },
     "execution_count": 38,
     "metadata": {},
     "output_type": "execute_result"
    }
   ],
   "source": [
    "quiz6[quiz6['x']==quiz6['x'].min()]\n",
    "quiz6[quiz6['x']==quiz6['x'].max()]\n",
    "quiz6[quiz6['y']==quiz6['y'].min()]\n",
    "quiz6[quiz6['y']==quiz6['y'].max()]"
   ]
  },
  {
   "cell_type": "code",
   "execution_count": 20,
   "metadata": {
    "collapsed": false
   },
   "outputs": [
    {
     "data": {
      "text/plain": [
       "92630"
      ]
     },
     "execution_count": 20,
     "metadata": {},
     "output_type": "execute_result"
    }
   ],
   "source": [
    "len(coords)"
   ]
  },
  {
   "cell_type": "code",
   "execution_count": 34,
   "metadata": {
    "ExecuteTime": {
     "end_time": "2018-12-06T11:17:25.193546",
     "start_time": "2018-12-06T11:12:34.276180"
    },
    "collapsed": false
   },
   "outputs": [
    {
     "name": "stderr",
     "output_type": "stream",
     "text": [
      "//anaconda/lib/python3.5/site-packages/ipykernel/__main__.py:9: FutureWarning: 'argmin' is deprecated, use 'idxmin' instead. The behavior of 'argmin'\n",
      "will be corrected to return the positional minimum in the future.\n",
      "Use 'series.values.argmin' to get the position of the minimum now.\n"
     ]
    },
    {
     "name": "stdout",
     "output_type": "stream",
     "text": [
      "290.91348600387573\n"
     ]
    }
   ],
   "source": [
    "import time\n",
    "start = time.time()\n",
    "\n",
    "coords['closest_index'] = coords.apply(lambda x: find_closest(quiz6, x['x'],x['y']), axis=1)\n",
    "\n",
    "print(time.time() - start)"
   ]
  },
  {
   "cell_type": "code",
   "execution_count": 35,
   "metadata": {
    "ExecuteTime": {
     "end_time": "2018-12-06T11:40:17.296379",
     "start_time": "2018-12-06T11:40:17.284808"
    },
    "collapsed": false
   },
   "outputs": [
    {
     "data": {
      "text/plain": [
       "closest_index\n",
       "0.0      628\n",
       "32.0     671\n",
       "21.0     803\n",
       "9.0      837\n",
       "37.0     842\n",
       "17.0     850\n",
       "26.0     868\n",
       "13.0     919\n",
       "49.0     994\n",
       "33.0     999\n",
       "8.0     1017\n",
       "11.0    1111\n",
       "43.0    1146\n",
       "35.0    1160\n",
       "36.0    1192\n",
       "45.0    1194\n",
       "41.0    1228\n",
       "18.0    1382\n",
       "3.0     1387\n",
       "25.0    1403\n",
       "44.0    1471\n",
       "40.0    1493\n",
       "23.0    1700\n",
       "30.0    1729\n",
       "47.0    1729\n",
       "14.0    1823\n",
       "42.0    1836\n",
       "31.0    1961\n",
       "12.0    1971\n",
       "38.0    1973\n",
       "16.0    2019\n",
       "48.0    2021\n",
       "29.0    2085\n",
       "39.0    2097\n",
       "10.0    2180\n",
       "20.0    2216\n",
       "2.0     2251\n",
       "15.0    2266\n",
       "34.0    2325\n",
       "4.0     2336\n",
       "28.0    2468\n",
       "1.0     2480\n",
       "22.0    2516\n",
       "27.0    2692\n",
       "46.0    2957\n",
       "19.0    3010\n",
       "24.0    3264\n",
       "7.0     3547\n",
       "6.0     3693\n",
       "5.0     3851\n",
       "dtype: int64"
      ]
     },
     "execution_count": 35,
     "metadata": {},
     "output_type": "execute_result"
    }
   ],
   "source": [
    "coords.groupby('closest_index').size().sort_values()"
   ]
  },
  {
   "cell_type": "code",
   "execution_count": 14,
   "metadata": {
    "ExecuteTime": {
     "end_time": "2018-12-06T11:03:01.502369",
     "start_time": "2018-12-06T11:03:01.489991"
    },
    "collapsed": false
   },
   "outputs": [
    {
     "data": {
      "text/plain": [
       "closest_index\n",
       "0      677\n",
       "32     707\n",
       "37     842\n",
       "17     850\n",
       "21     866\n",
       "9      885\n",
       "26     894\n",
       "13     978\n",
       "49     994\n",
       "33    1000\n",
       "8     1028\n",
       "11    1135\n",
       "43    1146\n",
       "45    1194\n",
       "36    1198\n",
       "35    1215\n",
       "41    1228\n",
       "3     1387\n",
       "18    1443\n",
       "44    1471\n",
       "25    1477\n",
       "40    1493\n",
       "23    1700\n",
       "47    1729\n",
       "30    1748\n",
       "42    1850\n",
       "14    1890\n",
       "31    1961\n",
       "38    1973\n",
       "12    2007\n",
       "48    2021\n",
       "29    2085\n",
       "16    2096\n",
       "39    2124\n",
       "20    2216\n",
       "10    2274\n",
       "34    2325\n",
       "15    2364\n",
       "2     2386\n",
       "4     2436\n",
       "28    2508\n",
       "22    2526\n",
       "1     2572\n",
       "27    2695\n",
       "46    2957\n",
       "19    3017\n",
       "24    3292\n",
       "7     3563\n",
       "6     3693\n",
       "5     3906\n",
       "dtype: int64"
      ]
     },
     "execution_count": 14,
     "metadata": {},
     "output_type": "execute_result"
    }
   ],
   "source": [
    "coords.groupby('closest_index').size().sort_values()"
   ]
  },
  {
   "cell_type": "code",
   "execution_count": 25,
   "metadata": {
    "collapsed": false
   },
   "outputs": [
    {
     "data": {
      "text/plain": [
       "closest_index\n",
       "0      677\n",
       "32     707\n",
       "37     842\n",
       "17     850\n",
       "9      885\n",
       "26     894\n",
       "21     897\n",
       "49     994\n",
       "33    1000\n",
       "13    1024\n",
       "8     1028\n",
       "11    1135\n",
       "45    1194\n",
       "36    1198\n",
       "43    1214\n",
       "41    1228\n",
       "35    1283\n",
       "3     1387\n",
       "18    1443\n",
       "44    1471\n",
       "40    1512\n",
       "25    1521\n",
       "23    1700\n",
       "47    1729\n",
       "30    1748\n",
       "42    1850\n",
       "14    1890\n",
       "31    1961\n",
       "38    1973\n",
       "12    2007\n",
       "48    2021\n",
       "16    2096\n",
       "39    2124\n",
       "29    2174\n",
       "20    2273\n",
       "10    2274\n",
       "34    2325\n",
       "15    2364\n",
       "2     2386\n",
       "4     2436\n",
       "28    2508\n",
       "22    2526\n",
       "1     2572\n",
       "27    2716\n",
       "46    2957\n",
       "19    3017\n",
       "24    3403\n",
       "7     3563\n",
       "6     3747\n",
       "5     3906\n",
       "dtype: int64"
      ]
     },
     "execution_count": 25,
     "metadata": {},
     "output_type": "execute_result"
    }
   ],
   "source": [
    "coords.groupby('closest_index').size().sort_values()"
   ]
  },
  {
   "cell_type": "code",
   "execution_count": null,
   "metadata": {
    "collapsed": true
   },
   "outputs": [],
   "source": []
  },
  {
   "cell_type": "markdown",
   "metadata": {},
   "source": [
    "### part 2"
   ]
  },
  {
   "cell_type": "code",
   "execution_count": 36,
   "metadata": {
    "ExecuteTime": {
     "end_time": "2018-12-06T12:42:24.139495",
     "start_time": "2018-12-06T12:42:24.131381"
    },
    "collapsed": true
   },
   "outputs": [],
   "source": [
    "def get_sum_distance(df, x1,y1):\n",
    "    df_copy = df.copy()\n",
    "    \n",
    "    df_copy['distance']=df_copy.apply(lambda x: get_manhattan_dis(x['x'], x1, x['y'], y1) , axis=1)\n",
    "    \n",
    "#     two_smallest = heapq.nsmallest(2, df_copy['distance'])\n",
    "#     if two_smallest[0]==two_smallest[1]:\n",
    "#         return None\n",
    "#     else:\n",
    "#         return df_copy['distance'].argmin()\n",
    "    return df_copy['distance'].sum()"
   ]
  },
  {
   "cell_type": "code",
   "execution_count": null,
   "metadata": {
    "collapsed": true
   },
   "outputs": [],
   "source": [
    "coords = pandas.DataFrame(columns = ['x','y'])\n",
    "\n",
    "x_ = []\n",
    "y_ = []\n",
    "for x in range(quiz6['x'].min()+1, quiz6['x'].max()):\n",
    "    for y in range(quiz6['y'].min()+1, quiz6['y'].max()):\n",
    "        x_.append(x)\n",
    "        y_.append(y)\n",
    "        \n",
    "coords['x']=x_\n",
    "coords['y']=y_"
   ]
  },
  {
   "cell_type": "code",
   "execution_count": 41,
   "metadata": {
    "ExecuteTime": {
     "end_time": "2018-12-06T12:50:40.785700",
     "start_time": "2018-12-06T12:50:40.774334"
    },
    "collapsed": false
   },
   "outputs": [
    {
     "ename": "NameError",
     "evalue": "name 'x_max' is not defined",
     "output_type": "error",
     "traceback": [
      "\u001b[0;31m---------------------------------------------------------------------------\u001b[0m",
      "\u001b[0;31mNameError\u001b[0m                                 Traceback (most recent call last)",
      "\u001b[0;32m<ipython-input-41-46ab58e7113f>\u001b[0m in \u001b[0;36m<module>\u001b[0;34m()\u001b[0m\n\u001b[0;32m----> 1\u001b[0;31m \u001b[0;36m1000\u001b[0m \u001b[0;34m-\u001b[0m \u001b[0;34m(\u001b[0m\u001b[0mx_max\u001b[0m\u001b[0;34m(\u001b[0m\u001b[0;34m)\u001b[0m\u001b[0;34m-\u001b[0m \u001b[0mx_min\u001b[0m\u001b[0;34m(\u001b[0m\u001b[0;34m)\u001b[0m\u001b[0;34m)\u001b[0m\u001b[0;34m,\u001b[0m\u001b[0;34m\u001b[0m\u001b[0m\n\u001b[0m\u001b[1;32m      2\u001b[0m \u001b[0;36m1000\u001b[0m \u001b[0;34m-\u001b[0m \u001b[0;34m(\u001b[0m\u001b[0my_max\u001b[0m\u001b[0;34m(\u001b[0m\u001b[0;34m)\u001b[0m\u001b[0;34m-\u001b[0m \u001b[0my_min\u001b[0m\u001b[0;34m(\u001b[0m\u001b[0;34m)\u001b[0m\u001b[0;34m)\u001b[0m\u001b[0;34m,\u001b[0m\u001b[0;34m\u001b[0m\u001b[0m\n",
      "\u001b[0;31mNameError\u001b[0m: name 'x_max' is not defined"
     ]
    }
   ],
   "source": [
    "1000 - \n",
    "1000 - (y_max()- y_min()),\n"
   ]
  },
  {
   "cell_type": "code",
   "execution_count": 37,
   "metadata": {
    "ExecuteTime": {
     "end_time": "2018-12-06T12:48:45.612843",
     "start_time": "2018-12-06T12:43:06.986348"
    },
    "collapsed": false
   },
   "outputs": [
    {
     "name": "stdout",
     "output_type": "stream",
     "text": [
      "338.6210958957672\n"
     ]
    }
   ],
   "source": [
    "import time\n",
    "start = time.time()\n",
    "\n",
    "coords['sum_distance'] = coords.apply(lambda x: get_sum_distance(quiz6, x['x'],x['y']), axis=1)\n",
    "\n",
    "print(time.time() - start)"
   ]
  },
  {
   "cell_type": "code",
   "execution_count": 48,
   "metadata": {
    "ExecuteTime": {
     "end_time": "2018-12-06T12:52:12.302683",
     "start_time": "2018-12-06T12:52:12.297802"
    },
    "collapsed": false
   },
   "outputs": [
    {
     "data": {
      "text/plain": [
       "16199.0"
      ]
     },
     "execution_count": 48,
     "metadata": {},
     "output_type": "execute_result"
    }
   ],
   "source": [
    "coords['sum_distance'].max()"
   ]
  },
  {
   "cell_type": "code",
   "execution_count": 56,
   "metadata": {
    "ExecuteTime": {
     "end_time": "2018-12-06T12:54:33.132277",
     "start_time": "2018-12-06T12:54:33.121546"
    },
    "collapsed": false
   },
   "outputs": [
    {
     "data": {
      "text/plain": [
       "(48034, 92022)"
      ]
     },
     "execution_count": 56,
     "metadata": {},
     "output_type": "execute_result"
    }
   ],
   "source": [
    "len(coords[coords['sum_distance']<10000]), len(coords)"
   ]
  }
 ],
 "metadata": {
  "anaconda-cloud": {},
  "kernelspec": {
   "display_name": "Python [default]",
   "language": "python",
   "name": "python3"
  },
  "language_info": {
   "codemirror_mode": {
    "name": "ipython",
    "version": 3
   },
   "file_extension": ".py",
   "mimetype": "text/x-python",
   "name": "python",
   "nbconvert_exporter": "python",
   "pygments_lexer": "ipython3",
   "version": "3.5.4"
  },
  "toc": {
   "colors": {
    "hover_highlight": "#DAA520",
    "running_highlight": "#FF0000",
    "selected_highlight": "#FFD700"
   },
   "moveMenuLeft": true,
   "nav_menu": {
    "height": "30px",
    "width": "252px"
   },
   "navigate_menu": true,
   "number_sections": true,
   "sideBar": true,
   "threshold": 4,
   "toc_cell": false,
   "toc_section_display": "block",
   "toc_window_display": false
  }
 },
 "nbformat": 4,
 "nbformat_minor": 2
}
