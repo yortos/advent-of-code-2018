{
 "cells": [
  {
   "cell_type": "code",
   "execution_count": 3,
   "metadata": {},
   "outputs": [],
   "source": [
    "import pandas"
   ]
  },
  {
   "cell_type": "code",
   "execution_count": 1,
   "metadata": {},
   "outputs": [],
   "source": [
    "def get_manhattan_dis(x1,x2,y1,y2):\n",
    "    return abs(x2-x1)+abs(y2-y1)\n",
    "\n",
    "# def find_closest(df, x1,y1):\n",
    "#     min_distance = 10**7\n",
    "#     min_index= None\n",
    "    \n",
    "#     for index in df.index:\n",
    "#         #print(index, min_distance)\n",
    "#         x2 = df.loc[index]['x']\n",
    "#         y2 = df.loc[index]['y']\n",
    "#         #print(x2,y2)\n",
    "#         temp = get_manhattan_dis(x1,x2,y1,y2)\n",
    "#         #print(temp)\n",
    "#         if temp < min_distance:\n",
    "#             min_distance = temp\n",
    "#             min_index = index\n",
    "#     return min_index"
   ]
  },
  {
   "cell_type": "code",
   "execution_count": null,
   "metadata": {},
   "outputs": [],
   "source": []
  },
  {
   "cell_type": "code",
   "execution_count": 28,
   "metadata": {},
   "outputs": [
    {
     "name": "stdout",
     "output_type": "stream",
     "text": [
      "0.18604683876037598\n"
     ]
    },
    {
     "name": "stderr",
     "output_type": "stream",
     "text": [
      "/anaconda3/lib/python3.6/site-packages/ipykernel_launcher.py:6: FutureWarning: 'argmin' is deprecated, use 'idxmin' instead. The behavior of 'argmin'\n",
      "will be corrected to return the positional minimum in the future.\n",
      "Use 'series.values.argmin' to get the position of the minimum now.\n",
      "  \n"
     ]
    }
   ],
   "source": [
    "test = pandas.DataFrame({'x':[1,1,8,3,5,8], 'y':[1,6,3,4,5,9]})\n",
    "#test.apply(lambda x: find_closest(test, x['x'],x['y']), axis=1)\n",
    "\n",
    "coords_test = pandas.DataFrame(columns = ['x','y'])\n",
    "\n",
    "x_ = []\n",
    "y_ = []\n",
    "for x in range(test['x'].min(), test['x'].max()):\n",
    "    for y in range(test['y'].min(), test['y'].max()):\n",
    "        x_.append(x)\n",
    "        y_.append(y)\n",
    "        \n",
    "coords_test['x']=x_\n",
    "coords_test['y']=y_\n",
    "\n",
    "\n",
    "import time\n",
    "start = time.time()\n",
    "\n",
    "coords_test['closest_index'] = coords_test.apply(lambda x: find_closest(test, x['x'],x['y']), axis=1)\n",
    "\n",
    "print(time.time() - start)"
   ]
  },
  {
   "cell_type": "code",
   "execution_count": 30,
   "metadata": {},
   "outputs": [
    {
     "data": {
      "text/plain": [
       "closest_index\n",
       "0     8\n",
       "1    12\n",
       "2     7\n",
       "3     9\n",
       "4    17\n",
       "5     3\n",
       "dtype: int64"
      ]
     },
     "execution_count": 30,
     "metadata": {},
     "output_type": "execute_result"
    }
   ],
   "source": [
    "coords_test.groupby('closest_index').size()"
   ]
  },
  {
   "cell_type": "code",
   "execution_count": null,
   "metadata": {},
   "outputs": [],
   "source": []
  },
  {
   "cell_type": "code",
   "execution_count": 13,
   "metadata": {},
   "outputs": [],
   "source": [
    "def find_closest(df, x1,y1):\n",
    "    df_copy = df.copy()\n",
    "    \n",
    "    df_copy['distance']=df_copy.apply(lambda x: get_manhattan_dis(x['x'], x1, x['y'], y1) , axis=1)\n",
    "    \n",
    "    return df_copy['distance'].argmin()"
   ]
  },
  {
   "cell_type": "code",
   "execution_count": null,
   "metadata": {},
   "outputs": [],
   "source": []
  },
  {
   "cell_type": "code",
   "execution_count": null,
   "metadata": {},
   "outputs": [],
   "source": []
  },
  {
   "cell_type": "code",
   "execution_count": 16,
   "metadata": {},
   "outputs": [],
   "source": [
    "quiz6 = pandas.read_csv('quiz6.txt', names=['x', 'y'])"
   ]
  },
  {
   "cell_type": "code",
   "execution_count": 17,
   "metadata": {},
   "outputs": [],
   "source": [
    "coords = pandas.DataFrame(columns = ['x','y'])\n",
    "\n",
    "x_ = []\n",
    "y_ = []\n",
    "for x in range(quiz6['x'].min(), quiz6['x'].max()):\n",
    "    for y in range(quiz6['y'].min(), quiz6['y'].max()):\n",
    "        x_.append(x)\n",
    "        y_.append(y)\n",
    "        \n",
    "coords['x']=x_\n",
    "coords['y']=y_"
   ]
  },
  {
   "cell_type": "code",
   "execution_count": 38,
   "metadata": {},
   "outputs": [
    {
     "data": {
      "text/html": [
       "<div>\n",
       "<style scoped>\n",
       "    .dataframe tbody tr th:only-of-type {\n",
       "        vertical-align: middle;\n",
       "    }\n",
       "\n",
       "    .dataframe tbody tr th {\n",
       "        vertical-align: top;\n",
       "    }\n",
       "\n",
       "    .dataframe thead th {\n",
       "        text-align: right;\n",
       "    }\n",
       "</style>\n",
       "<table border=\"1\" class=\"dataframe\">\n",
       "  <thead>\n",
       "    <tr style=\"text-align: right;\">\n",
       "      <th></th>\n",
       "      <th>x</th>\n",
       "      <th>y</th>\n",
       "    </tr>\n",
       "  </thead>\n",
       "  <tbody>\n",
       "    <tr>\n",
       "      <th>0</th>\n",
       "      <td>350</td>\n",
       "      <td>353</td>\n",
       "    </tr>\n",
       "  </tbody>\n",
       "</table>\n",
       "</div>"
      ],
      "text/plain": [
       "     x    y\n",
       "0  350  353"
      ]
     },
     "execution_count": 38,
     "metadata": {},
     "output_type": "execute_result"
    }
   ],
   "source": [
    "quiz6[quiz6['x']==quiz6['x'].min()]\n",
    "quiz6[quiz6['x']==quiz6['x'].max()]\n",
    "quiz6[quiz6['y']==quiz6['y'].min()]\n",
    "quiz6[quiz6['y']==quiz6['y'].max()]"
   ]
  },
  {
   "cell_type": "code",
   "execution_count": 20,
   "metadata": {},
   "outputs": [
    {
     "data": {
      "text/plain": [
       "92630"
      ]
     },
     "execution_count": 20,
     "metadata": {},
     "output_type": "execute_result"
    }
   ],
   "source": [
    "len(coords)"
   ]
  },
  {
   "cell_type": "code",
   "execution_count": 22,
   "metadata": {},
   "outputs": [
    {
     "name": "stderr",
     "output_type": "stream",
     "text": [
      "/anaconda3/lib/python3.6/site-packages/ipykernel_launcher.py:6: FutureWarning: 'argmin' is deprecated, use 'idxmin' instead. The behavior of 'argmin'\n",
      "will be corrected to return the positional minimum in the future.\n",
      "Use 'series.values.argmin' to get the position of the minimum now.\n",
      "  \n"
     ]
    },
    {
     "name": "stdout",
     "output_type": "stream",
     "text": [
      "554.5418531894684\n"
     ]
    }
   ],
   "source": [
    "import time\n",
    "start = time.time()\n",
    "\n",
    "coords['closest_index'] = coords.apply(lambda x: find_closest(quiz6, x['x'],x['y']), axis=1)\n",
    "\n",
    "print(time.time() - start)"
   ]
  },
  {
   "cell_type": "code",
   "execution_count": 25,
   "metadata": {},
   "outputs": [
    {
     "data": {
      "text/plain": [
       "closest_index\n",
       "0      677\n",
       "32     707\n",
       "37     842\n",
       "17     850\n",
       "9      885\n",
       "26     894\n",
       "21     897\n",
       "49     994\n",
       "33    1000\n",
       "13    1024\n",
       "8     1028\n",
       "11    1135\n",
       "45    1194\n",
       "36    1198\n",
       "43    1214\n",
       "41    1228\n",
       "35    1283\n",
       "3     1387\n",
       "18    1443\n",
       "44    1471\n",
       "40    1512\n",
       "25    1521\n",
       "23    1700\n",
       "47    1729\n",
       "30    1748\n",
       "42    1850\n",
       "14    1890\n",
       "31    1961\n",
       "38    1973\n",
       "12    2007\n",
       "48    2021\n",
       "16    2096\n",
       "39    2124\n",
       "29    2174\n",
       "20    2273\n",
       "10    2274\n",
       "34    2325\n",
       "15    2364\n",
       "2     2386\n",
       "4     2436\n",
       "28    2508\n",
       "22    2526\n",
       "1     2572\n",
       "27    2716\n",
       "46    2957\n",
       "19    3017\n",
       "24    3403\n",
       "7     3563\n",
       "6     3747\n",
       "5     3906\n",
       "dtype: int64"
      ]
     },
     "execution_count": 25,
     "metadata": {},
     "output_type": "execute_result"
    }
   ],
   "source": [
    "coords.groupby('closest_index').size().sort_values()"
   ]
  },
  {
   "cell_type": "code",
   "execution_count": null,
   "metadata": {},
   "outputs": [],
   "source": [
    "def is_infinite()"
   ]
  }
 ],
 "metadata": {
  "kernelspec": {
   "display_name": "Python 3",
   "language": "python",
   "name": "python3"
  },
  "language_info": {
   "codemirror_mode": {
    "name": "ipython",
    "version": 3
   },
   "file_extension": ".py",
   "mimetype": "text/x-python",
   "name": "python",
   "nbconvert_exporter": "python",
   "pygments_lexer": "ipython3",
   "version": "3.6.5"
  }
 },
 "nbformat": 4,
 "nbformat_minor": 2
}
