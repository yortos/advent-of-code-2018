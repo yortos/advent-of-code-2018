{
 "cells": [
  {
   "cell_type": "code",
   "execution_count": 55,
   "metadata": {},
   "outputs": [],
   "source": [
    "import pandas"
   ]
  },
  {
   "cell_type": "code",
   "execution_count": 46,
   "metadata": {},
   "outputs": [],
   "source": [
    "p = open('quiz8_n.txt', 'w')\n",
    "p.write(text.replace('\\n','').replace(' ','\\n'))\n",
    "p.close()"
   ]
  },
  {
   "cell_type": "code",
   "execution_count": 49,
   "metadata": {},
   "outputs": [],
   "source": [
    "t = pandas.read_csv('quiz8_n.txt', names=['input'])"
   ]
  },
  {
   "cell_type": "code",
   "execution_count": 56,
   "metadata": {},
   "outputs": [
    {
     "data": {
      "text/html": [
       "<div>\n",
       "<style scoped>\n",
       "    .dataframe tbody tr th:only-of-type {\n",
       "        vertical-align: middle;\n",
       "    }\n",
       "\n",
       "    .dataframe tbody tr th {\n",
       "        vertical-align: top;\n",
       "    }\n",
       "\n",
       "    .dataframe thead th {\n",
       "        text-align: right;\n",
       "    }\n",
       "</style>\n",
       "<table border=\"1\" class=\"dataframe\">\n",
       "  <thead>\n",
       "    <tr style=\"text-align: right;\">\n",
       "      <th></th>\n",
       "      <th>input</th>\n",
       "    </tr>\n",
       "  </thead>\n",
       "  <tbody>\n",
       "    <tr>\n",
       "      <th>0</th>\n",
       "      <td>2</td>\n",
       "    </tr>\n",
       "    <tr>\n",
       "      <th>1</th>\n",
       "      <td>3</td>\n",
       "    </tr>\n",
       "    <tr>\n",
       "      <th>2</th>\n",
       "      <td>0</td>\n",
       "    </tr>\n",
       "    <tr>\n",
       "      <th>3</th>\n",
       "      <td>3</td>\n",
       "    </tr>\n",
       "    <tr>\n",
       "      <th>4</th>\n",
       "      <td>10</td>\n",
       "    </tr>\n",
       "  </tbody>\n",
       "</table>\n",
       "</div>"
      ],
      "text/plain": [
       "   input\n",
       "0      2\n",
       "1      3\n",
       "2      0\n",
       "3      3\n",
       "4     10"
      ]
     },
     "execution_count": 56,
     "metadata": {},
     "output_type": "execute_result"
    }
   ],
   "source": [
    "test = pandas.DataFrame({'input': [2, 3, 0, 3, 10, 11, 12, 1, 1, 0, 1, 99, 2, 1, 1, 2]})\n",
    "test.head()"
   ]
  },
  {
   "cell_type": "code",
   "execution_count": 137,
   "metadata": {},
   "outputs": [],
   "source": [
    "def get_metadata(l):\n",
    "    #print(len(l))\n",
    "    metadata = []\n",
    "    \n",
    "    if len(l) == 0:\n",
    "        return []\n",
    "    num_children = l[0]\n",
    "    num_metadata = l[1]\n",
    "    \n",
    "    for i in range(num_children):\n",
    "        \n",
    "    if num_children == 0:\n",
    "        return total, l[2+num_metadata:]\n",
    "    \n",
    "        \n",
    "    else:\n",
    "        metadata = metadata + l[-num_metadata:] ##last num_metadata of the list\n",
    "        l = l[2:len(l)-num_metadata]\n",
    "   \n",
    "    metadata = metadata + get_metadata(l)\n",
    "    return metadata"
   ]
  },
  {
   "cell_type": "code",
   "execution_count": 193,
   "metadata": {},
   "outputs": [],
   "source": []
  },
  {
   "cell_type": "code",
   "execution_count": 229,
   "metadata": {},
   "outputs": [
    {
     "name": "stdout",
     "output_type": "stream",
     "text": [
      "40984\n"
     ]
    }
   ],
   "source": [
    "#l = [2, 3, 1, 3, 1, 2, 0, 1, 6, 7, 8, 10, 11, 12, 1, 1, 0, 1, 99, 2, 1, 1, 2]\n",
    "\n",
    "lis = list(t['input'])\n",
    "\n",
    "metadata = []\n",
    "\n",
    "while 0 in lis:\n",
    "    zero_pos = lis.index(0)\n",
    "    num_metadata = lis[zero_pos+1]\n",
    "\n",
    "    metadata = metadata + lis[zero_pos + 2 : zero_pos + 2 + num_metadata]\n",
    "    \n",
    "    lis[zero_pos-2] = lis[zero_pos-2] - 1\n",
    "    \n",
    "\n",
    "    del lis[zero_pos : zero_pos + 2 + num_metadata]\n",
    "\n",
    "print(sum(metadata))"
   ]
  },
  {
   "cell_type": "code",
   "execution_count": 224,
   "metadata": {},
   "outputs": [
    {
     "data": {
      "text/plain": [
       "159"
      ]
     },
     "execution_count": 224,
     "metadata": {},
     "output_type": "execute_result"
    }
   ],
   "source": []
  },
  {
   "cell_type": "code",
   "execution_count": 178,
   "metadata": {},
   "outputs": [
    {
     "name": "stdout",
     "output_type": "stream",
     "text": [
      "non-zero\n",
      "[1, 3, 1, 2, 0, 1, 6, 7, 8, 10, 11, 12, 1, 1, 0, 1, 99, 2]\n",
      "non-zero\n",
      "[1, 2, 0, 1, 6, 7, 8, 10, 11, 12, 1, 1, 0]\n",
      "non-zero\n",
      "[0, 1, 6, 7, 8, 10, 11, 12, 1]\n",
      "zero\n",
      "[7, 8, 10, 11, 12, 1]\n",
      "non-zero\n",
      "[10, 11]\n",
      "non-zero\n",
      "[]\n",
      "183\n"
     ]
    }
   ],
   "source": [
    "\n",
    "\n",
    "num_children = l[0]\n",
    "num_meta = l[1]\n",
    "\n",
    "if num_children == 0:\n",
    "    metadata = metadata + l[2:2+num_metadata]\n",
    "    \n",
    "    \n",
    "\n",
    "while num_children > 0:\n",
    "    l, metadata = get_metadata(l[2:], num_children -1 )\n",
    "    \n",
    "l = l[2:2+num_metadata]\n",
    "\n",
    "    \n",
    "    metadata = l[2:2+num_metadata]\n",
    "    l = l[2+num_metadata:]\n",
    "else:\n",
    "    for i in range(num_children):\n",
    "        metadata = metadata + get_metadata()"
   ]
  },
  {
   "cell_type": "code",
   "execution_count": 161,
   "metadata": {},
   "outputs": [
    {
     "data": {
      "text/plain": [
       "15798"
      ]
     },
     "execution_count": 161,
     "metadata": {},
     "output_type": "execute_result"
    }
   ],
   "source": [
    "len(list(t['input']))"
   ]
  },
  {
   "cell_type": "code",
   "execution_count": 165,
   "metadata": {
    "scrolled": true
   },
   "outputs": [
    {
     "data": {
      "text/plain": [
       "11"
      ]
     },
     "execution_count": 165,
     "metadata": {},
     "output_type": "execute_result"
    }
   ],
   "source": [
    "t['input'].max()"
   ]
  },
  {
   "cell_type": "code",
   "execution_count": 163,
   "metadata": {},
   "outputs": [
    {
     "data": {
      "text/plain": [
       "136257.75"
      ]
     },
     "execution_count": 163,
     "metadata": {},
     "output_type": "execute_result"
    }
   ],
   "source": [
    "138*15798/16"
   ]
  }
 ],
 "metadata": {
  "kernelspec": {
   "display_name": "Python 3",
   "language": "python",
   "name": "python3"
  },
  "language_info": {
   "codemirror_mode": {
    "name": "ipython",
    "version": 3
   },
   "file_extension": ".py",
   "mimetype": "text/x-python",
   "name": "python",
   "nbconvert_exporter": "python",
   "pygments_lexer": "ipython3",
   "version": "3.6.5"
  }
 },
 "nbformat": 4,
 "nbformat_minor": 2
}
