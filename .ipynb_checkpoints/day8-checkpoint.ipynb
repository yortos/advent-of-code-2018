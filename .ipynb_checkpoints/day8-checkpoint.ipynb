{
 "cells": [
  {
   "cell_type": "code",
   "execution_count": 1,
   "metadata": {
    "ExecuteTime": {
     "end_time": "2018-12-12T15:22:50.483213",
     "start_time": "2018-12-12T15:22:49.911891"
    },
    "collapsed": true
   },
   "outputs": [],
   "source": [
    "import pandas"
   ]
  },
  {
   "cell_type": "code",
   "execution_count": 23,
   "metadata": {
    "ExecuteTime": {
     "end_time": "2018-12-12T15:26:05.884140",
     "start_time": "2018-12-12T15:26:05.879078"
    },
    "collapsed": false
   },
   "outputs": [],
   "source": [
    "p = open('quiz8_n.txt', 'w')\n",
    "f = open('quiz8.txt', 'r')\n",
    "text = f.read()\n",
    "p.write(text.replace('\\n','').replace(' ','\\n'))\n",
    "p.close()"
   ]
  },
  {
   "cell_type": "code",
   "execution_count": 24,
   "metadata": {
    "ExecuteTime": {
     "end_time": "2018-12-12T15:26:07.284473",
     "start_time": "2018-12-12T15:26:07.260985"
    },
    "collapsed": false
   },
   "outputs": [
    {
     "data": {
      "text/html": [
       "<div>\n",
       "<style scoped>\n",
       "    .dataframe tbody tr th:only-of-type {\n",
       "        vertical-align: middle;\n",
       "    }\n",
       "\n",
       "    .dataframe tbody tr th {\n",
       "        vertical-align: top;\n",
       "    }\n",
       "\n",
       "    .dataframe thead th {\n",
       "        text-align: right;\n",
       "    }\n",
       "</style>\n",
       "<table border=\"1\" class=\"dataframe\">\n",
       "  <thead>\n",
       "    <tr style=\"text-align: right;\">\n",
       "      <th></th>\n",
       "      <th>input</th>\n",
       "    </tr>\n",
       "  </thead>\n",
       "  <tbody>\n",
       "    <tr>\n",
       "      <th>0</th>\n",
       "      <td>8</td>\n",
       "    </tr>\n",
       "    <tr>\n",
       "      <th>1</th>\n",
       "      <td>11</td>\n",
       "    </tr>\n",
       "    <tr>\n",
       "      <th>2</th>\n",
       "      <td>6</td>\n",
       "    </tr>\n",
       "    <tr>\n",
       "      <th>3</th>\n",
       "      <td>3</td>\n",
       "    </tr>\n",
       "    <tr>\n",
       "      <th>4</th>\n",
       "      <td>5</td>\n",
       "    </tr>\n",
       "    <tr>\n",
       "      <th>5</th>\n",
       "      <td>5</td>\n",
       "    </tr>\n",
       "    <tr>\n",
       "      <th>6</th>\n",
       "      <td>3</td>\n",
       "    </tr>\n",
       "    <tr>\n",
       "      <th>7</th>\n",
       "      <td>4</td>\n",
       "    </tr>\n",
       "    <tr>\n",
       "      <th>8</th>\n",
       "      <td>1</td>\n",
       "    </tr>\n",
       "    <tr>\n",
       "      <th>9</th>\n",
       "      <td>5</td>\n",
       "    </tr>\n",
       "    <tr>\n",
       "      <th>10</th>\n",
       "      <td>0</td>\n",
       "    </tr>\n",
       "    <tr>\n",
       "      <th>11</th>\n",
       "      <td>9</td>\n",
       "    </tr>\n",
       "    <tr>\n",
       "      <th>12</th>\n",
       "      <td>8</td>\n",
       "    </tr>\n",
       "    <tr>\n",
       "      <th>13</th>\n",
       "      <td>4</td>\n",
       "    </tr>\n",
       "    <tr>\n",
       "      <th>14</th>\n",
       "      <td>8</td>\n",
       "    </tr>\n",
       "    <tr>\n",
       "      <th>15</th>\n",
       "      <td>1</td>\n",
       "    </tr>\n",
       "    <tr>\n",
       "      <th>16</th>\n",
       "      <td>8</td>\n",
       "    </tr>\n",
       "    <tr>\n",
       "      <th>17</th>\n",
       "      <td>1</td>\n",
       "    </tr>\n",
       "    <tr>\n",
       "      <th>18</th>\n",
       "      <td>4</td>\n",
       "    </tr>\n",
       "    <tr>\n",
       "      <th>19</th>\n",
       "      <td>1</td>\n",
       "    </tr>\n",
       "    <tr>\n",
       "      <th>20</th>\n",
       "      <td>9</td>\n",
       "    </tr>\n",
       "    <tr>\n",
       "      <th>21</th>\n",
       "      <td>3</td>\n",
       "    </tr>\n",
       "    <tr>\n",
       "      <th>22</th>\n",
       "      <td>2</td>\n",
       "    </tr>\n",
       "    <tr>\n",
       "      <th>23</th>\n",
       "      <td>1</td>\n",
       "    </tr>\n",
       "    <tr>\n",
       "      <th>24</th>\n",
       "      <td>3</td>\n",
       "    </tr>\n",
       "    <tr>\n",
       "      <th>25</th>\n",
       "      <td>2</td>\n",
       "    </tr>\n",
       "    <tr>\n",
       "      <th>26</th>\n",
       "      <td>1</td>\n",
       "    </tr>\n",
       "    <tr>\n",
       "      <th>27</th>\n",
       "      <td>7</td>\n",
       "    </tr>\n",
       "    <tr>\n",
       "      <th>28</th>\n",
       "      <td>0</td>\n",
       "    </tr>\n",
       "    <tr>\n",
       "      <th>29</th>\n",
       "      <td>11</td>\n",
       "    </tr>\n",
       "    <tr>\n",
       "      <th>...</th>\n",
       "      <td>...</td>\n",
       "    </tr>\n",
       "    <tr>\n",
       "      <th>15768</th>\n",
       "      <td>1</td>\n",
       "    </tr>\n",
       "    <tr>\n",
       "      <th>15769</th>\n",
       "      <td>3</td>\n",
       "    </tr>\n",
       "    <tr>\n",
       "      <th>15770</th>\n",
       "      <td>3</td>\n",
       "    </tr>\n",
       "    <tr>\n",
       "      <th>15771</th>\n",
       "      <td>1</td>\n",
       "    </tr>\n",
       "    <tr>\n",
       "      <th>15772</th>\n",
       "      <td>1</td>\n",
       "    </tr>\n",
       "    <tr>\n",
       "      <th>15773</th>\n",
       "      <td>2</td>\n",
       "    </tr>\n",
       "    <tr>\n",
       "      <th>15774</th>\n",
       "      <td>2</td>\n",
       "    </tr>\n",
       "    <tr>\n",
       "      <th>15775</th>\n",
       "      <td>1</td>\n",
       "    </tr>\n",
       "    <tr>\n",
       "      <th>15776</th>\n",
       "      <td>5</td>\n",
       "    </tr>\n",
       "    <tr>\n",
       "      <th>15777</th>\n",
       "      <td>2</td>\n",
       "    </tr>\n",
       "    <tr>\n",
       "      <th>15778</th>\n",
       "      <td>3</td>\n",
       "    </tr>\n",
       "    <tr>\n",
       "      <th>15779</th>\n",
       "      <td>5</td>\n",
       "    </tr>\n",
       "    <tr>\n",
       "      <th>15780</th>\n",
       "      <td>2</td>\n",
       "    </tr>\n",
       "    <tr>\n",
       "      <th>15781</th>\n",
       "      <td>3</td>\n",
       "    </tr>\n",
       "    <tr>\n",
       "      <th>15782</th>\n",
       "      <td>6</td>\n",
       "    </tr>\n",
       "    <tr>\n",
       "      <th>15783</th>\n",
       "      <td>6</td>\n",
       "    </tr>\n",
       "    <tr>\n",
       "      <th>15784</th>\n",
       "      <td>4</td>\n",
       "    </tr>\n",
       "    <tr>\n",
       "      <th>15785</th>\n",
       "      <td>5</td>\n",
       "    </tr>\n",
       "    <tr>\n",
       "      <th>15786</th>\n",
       "      <td>5</td>\n",
       "    </tr>\n",
       "    <tr>\n",
       "      <th>15787</th>\n",
       "      <td>5</td>\n",
       "    </tr>\n",
       "    <tr>\n",
       "      <th>15788</th>\n",
       "      <td>2</td>\n",
       "    </tr>\n",
       "    <tr>\n",
       "      <th>15789</th>\n",
       "      <td>5</td>\n",
       "    </tr>\n",
       "    <tr>\n",
       "      <th>15790</th>\n",
       "      <td>9</td>\n",
       "    </tr>\n",
       "    <tr>\n",
       "      <th>15791</th>\n",
       "      <td>7</td>\n",
       "    </tr>\n",
       "    <tr>\n",
       "      <th>15792</th>\n",
       "      <td>8</td>\n",
       "    </tr>\n",
       "    <tr>\n",
       "      <th>15793</th>\n",
       "      <td>3</td>\n",
       "    </tr>\n",
       "    <tr>\n",
       "      <th>15794</th>\n",
       "      <td>6</td>\n",
       "    </tr>\n",
       "    <tr>\n",
       "      <th>15795</th>\n",
       "      <td>6</td>\n",
       "    </tr>\n",
       "    <tr>\n",
       "      <th>15796</th>\n",
       "      <td>4</td>\n",
       "    </tr>\n",
       "    <tr>\n",
       "      <th>15797</th>\n",
       "      <td>7</td>\n",
       "    </tr>\n",
       "  </tbody>\n",
       "</table>\n",
       "<p>15798 rows × 1 columns</p>\n",
       "</div>"
      ],
      "text/plain": [
       "       input\n",
       "0          8\n",
       "1         11\n",
       "2          6\n",
       "3          3\n",
       "4          5\n",
       "5          5\n",
       "6          3\n",
       "7          4\n",
       "8          1\n",
       "9          5\n",
       "10         0\n",
       "11         9\n",
       "12         8\n",
       "13         4\n",
       "14         8\n",
       "15         1\n",
       "16         8\n",
       "17         1\n",
       "18         4\n",
       "19         1\n",
       "20         9\n",
       "21         3\n",
       "22         2\n",
       "23         1\n",
       "24         3\n",
       "25         2\n",
       "26         1\n",
       "27         7\n",
       "28         0\n",
       "29        11\n",
       "...      ...\n",
       "15768      1\n",
       "15769      3\n",
       "15770      3\n",
       "15771      1\n",
       "15772      1\n",
       "15773      2\n",
       "15774      2\n",
       "15775      1\n",
       "15776      5\n",
       "15777      2\n",
       "15778      3\n",
       "15779      5\n",
       "15780      2\n",
       "15781      3\n",
       "15782      6\n",
       "15783      6\n",
       "15784      4\n",
       "15785      5\n",
       "15786      5\n",
       "15787      5\n",
       "15788      2\n",
       "15789      5\n",
       "15790      9\n",
       "15791      7\n",
       "15792      8\n",
       "15793      3\n",
       "15794      6\n",
       "15795      6\n",
       "15796      4\n",
       "15797      7\n",
       "\n",
       "[15798 rows x 1 columns]"
      ]
     },
     "execution_count": 24,
     "metadata": {},
     "output_type": "execute_result"
    }
   ],
   "source": [
    "t = pandas.read_csv('quiz8_n.txt', names=['input'])\n",
    "t"
   ]
  },
  {
   "cell_type": "code",
   "execution_count": 8,
   "metadata": {
    "ExecuteTime": {
     "end_time": "2018-12-12T15:23:40.473409",
     "start_time": "2018-12-12T15:23:40.466253"
    },
    "collapsed": true
   },
   "outputs": [],
   "source": [
    "t = pandas.read_csv('quiz8_n.txt', names=['input'], delimiter= '\\n')"
   ]
  },
  {
   "cell_type": "code",
   "execution_count": 4,
   "metadata": {
    "ExecuteTime": {
     "end_time": "2018-12-12T15:23:02.556729",
     "start_time": "2018-12-12T15:23:02.538052"
    },
    "collapsed": false
   },
   "outputs": [
    {
     "data": {
      "text/html": [
       "<div>\n",
       "<style scoped>\n",
       "    .dataframe tbody tr th:only-of-type {\n",
       "        vertical-align: middle;\n",
       "    }\n",
       "\n",
       "    .dataframe tbody tr th {\n",
       "        vertical-align: top;\n",
       "    }\n",
       "\n",
       "    .dataframe thead th {\n",
       "        text-align: right;\n",
       "    }\n",
       "</style>\n",
       "<table border=\"1\" class=\"dataframe\">\n",
       "  <thead>\n",
       "    <tr style=\"text-align: right;\">\n",
       "      <th></th>\n",
       "      <th>input</th>\n",
       "    </tr>\n",
       "  </thead>\n",
       "  <tbody>\n",
       "    <tr>\n",
       "      <th>0</th>\n",
       "      <td>2</td>\n",
       "    </tr>\n",
       "    <tr>\n",
       "      <th>1</th>\n",
       "      <td>3</td>\n",
       "    </tr>\n",
       "    <tr>\n",
       "      <th>2</th>\n",
       "      <td>0</td>\n",
       "    </tr>\n",
       "    <tr>\n",
       "      <th>3</th>\n",
       "      <td>3</td>\n",
       "    </tr>\n",
       "    <tr>\n",
       "      <th>4</th>\n",
       "      <td>10</td>\n",
       "    </tr>\n",
       "  </tbody>\n",
       "</table>\n",
       "</div>"
      ],
      "text/plain": [
       "   input\n",
       "0      2\n",
       "1      3\n",
       "2      0\n",
       "3      3\n",
       "4     10"
      ]
     },
     "execution_count": 4,
     "metadata": {},
     "output_type": "execute_result"
    }
   ],
   "source": [
    "test = pandas.DataFrame({'input': [2, 3, 0, 3, 10, 11, 12, 1, 1, 0, 1, 99, 2, 1, 1, 2]})\n",
    "test.head()"
   ]
  },
  {
   "cell_type": "code",
   "execution_count": 137,
   "metadata": {
    "collapsed": true
   },
   "outputs": [],
   "source": [
    "def get_metadata(l):\n",
    "    #print(len(l))\n",
    "    metadata = []\n",
    "    \n",
    "    if len(l) == 0:\n",
    "        return []\n",
    "    num_children = l[0]\n",
    "    num_metadata = l[1]\n",
    "    \n",
    "    for i in range(num_children):\n",
    "        \n",
    "    if num_children == 0:\n",
    "        return total, l[2+num_metadata:]\n",
    "    \n",
    "        \n",
    "    else:\n",
    "        metadata = metadata + l[-num_metadata:] ##last num_metadata of the list\n",
    "        l = l[2:len(l)-num_metadata]\n",
    "   \n",
    "    metadata = metadata + get_metadata(l)\n",
    "    return metadata"
   ]
  },
  {
   "cell_type": "code",
   "execution_count": 193,
   "metadata": {
    "collapsed": true
   },
   "outputs": [],
   "source": []
  },
  {
   "cell_type": "code",
   "execution_count": 229,
   "metadata": {
    "collapsed": false
   },
   "outputs": [
    {
     "name": "stdout",
     "output_type": "stream",
     "text": [
      "40984\n"
     ]
    }
   ],
   "source": [
    "#l = [2, 3, 1, 3, 1, 2, 0, 1, 6, 7, 8, 10, 11, 12, 1, 1, 0, 1, 99, 2, 1, 1, 2]\n",
    "\n",
    "lis = list(t['input'])\n",
    "\n",
    "metadata = []\n",
    "\n",
    "while 0 in lis:\n",
    "    zero_pos = lis.index(0)\n",
    "    num_metadata = lis[zero_pos+1]\n",
    "\n",
    "    metadata = metadata + lis[zero_pos + 2 : zero_pos + 2 + num_metadata]\n",
    "    \n",
    "    lis[zero_pos-2] = lis[zero_pos-2] - 1\n",
    "    \n",
    "\n",
    "    del lis[zero_pos : zero_pos + 2 + num_metadata]\n",
    "\n",
    "print(sum(metadata))"
   ]
  },
  {
   "cell_type": "markdown",
   "metadata": {},
   "source": [
    "## part 2"
   ]
  },
  {
   "cell_type": "code",
   "execution_count": 234,
   "metadata": {
    "collapsed": false
   },
   "outputs": [
    {
     "name": "stdout",
     "output_type": "stream",
     "text": [
      "40984\n"
     ]
    }
   ],
   "source": [
    "#l = [2, 3, 1, 3, 1, 2, 0, 1, 6, 7, 8, 10, 11, 12, 1, 1, 0, 1, 99, 2, 1, 1, 2]\n",
    "\n",
    "lis = list(t['input'])\n",
    "metadata = []\n",
    "\n",
    "children = dict()\n",
    "values = dict()\n",
    "metadata_dict = dict()\n",
    "count = 0\n",
    "\n",
    "while 0 in lis:\n",
    "    #node_name = str(count)\n",
    "    #count = count+1\n",
    "    \n",
    "    zero_pos = lis.index(0)\n",
    "    num_metadata = lis[zero_pos+1]\n",
    "\n",
    "    metadata = metadata + lis[zero_pos + 2 : zero_pos + 2 + num_metadata]\n",
    "    metadata_dict[str(zero_pos)] = metadata\n",
    "    \n",
    "    lis[zero_pos-2] = lis[zero_pos-2] - 1\n",
    "    \n",
    "    if str(zero_pos-2) in children.values():\n",
    "        temp = children[str(zero_pos-2)].append(str(zero_pos))\n",
    "        children[str(zero_pos-2)] = temp\n",
    "    else:\n",
    "        children[str(zero_pos-2)] = [zero_pos]\n",
    "        \n",
    "\n",
    "    del lis[zero_pos : zero_pos + 2 + num_metadata]\n",
    "\n",
    "print(sum(metadata))"
   ]
  },
  {
   "cell_type": "markdown",
   "metadata": {},
   "source": [
    "## part 2"
   ]
  },
  {
   "cell_type": "code",
   "execution_count": 41,
   "metadata": {
    "ExecuteTime": {
     "end_time": "2018-12-12T15:36:28.882711",
     "start_time": "2018-12-12T15:36:28.872734"
    },
    "collapsed": false
   },
   "outputs": [],
   "source": [
    "def parse(data):\n",
    "    children, metas = data[:2]\n",
    "    data = data[2:]\n",
    "    \n",
    "    scores = []\n",
    "    totals = []\n",
    "    \n",
    "    for i in range(children):\n",
    "        total, score, data = parse(data)\n",
    "        totals+=total\n",
    "        scores.append(score)\n",
    "        \n",
    "    if type(data)==int:\n",
    "         totals += int(data)\n",
    "#     else:\n",
    "#         totals +=sum(data[:metas])\n",
    "    \n",
    "    if children == 0:\n",
    "        return (totals, sum(data[:metas]), data[metas:])\n",
    "    else:\n",
    "        return(\n",
    "        totals,\n",
    "            sum(scores[k-1] for k in data[:metas] if k>0 and k<=len(scores)),\n",
    "            data[metas:]\n",
    "        )"
   ]
  },
  {
   "cell_type": "code",
   "execution_count": 34,
   "metadata": {
    "ExecuteTime": {
     "end_time": "2018-12-12T15:33:33.341431",
     "start_time": "2018-12-12T15:33:33.338239"
    },
    "collapsed": false
   },
   "outputs": [],
   "source": []
  },
  {
   "cell_type": "code",
   "execution_count": 42,
   "metadata": {
    "ExecuteTime": {
     "end_time": "2018-12-12T15:36:30.650820",
     "start_time": "2018-12-12T15:36:30.537864"
    },
    "collapsed": false
   },
   "outputs": [],
   "source": [
    "total, value, remaining = parse(data)"
   ]
  },
  {
   "cell_type": "code",
   "execution_count": 45,
   "metadata": {
    "ExecuteTime": {
     "end_time": "2018-12-12T15:36:42.133808",
     "start_time": "2018-12-12T15:36:42.127566"
    },
    "collapsed": false
   },
   "outputs": [
    {
     "data": {
      "text/plain": [
       "([], 37067, [])"
      ]
     },
     "execution_count": 45,
     "metadata": {},
     "output_type": "execute_result"
    }
   ],
   "source": [
    "total, value, remaining"
   ]
  }
 ],
 "metadata": {
  "anaconda-cloud": {},
  "kernelspec": {
   "display_name": "Python [default]",
   "language": "python",
   "name": "python3"
  },
  "language_info": {
   "codemirror_mode": {
    "name": "ipython",
    "version": 3
   },
   "file_extension": ".py",
   "mimetype": "text/x-python",
   "name": "python",
   "nbconvert_exporter": "python",
   "pygments_lexer": "ipython3",
   "version": "3.5.4"
  },
  "toc": {
   "colors": {
    "hover_highlight": "#DAA520",
    "running_highlight": "#FF0000",
    "selected_highlight": "#FFD700"
   },
   "moveMenuLeft": true,
   "nav_menu": {
    "height": "48px",
    "width": "252px"
   },
   "navigate_menu": true,
   "number_sections": true,
   "sideBar": true,
   "threshold": 4,
   "toc_cell": false,
   "toc_section_display": "block",
   "toc_window_display": false
  }
 },
 "nbformat": 4,
 "nbformat_minor": 2
}
