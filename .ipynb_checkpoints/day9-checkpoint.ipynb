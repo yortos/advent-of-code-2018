{
 "cells": [
  {
   "cell_type": "code",
   "execution_count": 149,
   "metadata": {},
   "outputs": [],
   "source": [
    "import pandas\n",
    "import time"
   ]
  },
  {
   "cell_type": "code",
   "execution_count": null,
   "metadata": {},
   "outputs": [],
   "source": []
  },
  {
   "cell_type": "code",
   "execution_count": 154,
   "metadata": {},
   "outputs": [
    {
     "ename": "KeyboardInterrupt",
     "evalue": "",
     "output_type": "error",
     "traceback": [
      "\u001b[0;31m---------------------------------------------------------------------------\u001b[0m",
      "\u001b[0;31mKeyboardInterrupt\u001b[0m                         Traceback (most recent call last)",
      "\u001b[0;32m<ipython-input-154-4ab9b52cdba7>\u001b[0m in \u001b[0;36m<module>\u001b[0;34m()\u001b[0m\n\u001b[1;32m     15\u001b[0m \u001b[0;34m\u001b[0m\u001b[0m\n\u001b[1;32m     16\u001b[0m     \u001b[0;32mif\u001b[0m \u001b[0mx\u001b[0m\u001b[0;34m%\u001b[0m\u001b[0;36m23\u001b[0m \u001b[0;34m!=\u001b[0m \u001b[0;36m0\u001b[0m\u001b[0;34m:\u001b[0m\u001b[0;34m\u001b[0m\u001b[0m\n\u001b[0;32m---> 17\u001b[0;31m         \u001b[0ml\u001b[0m\u001b[0;34m,\u001b[0m \u001b[0mcurrent\u001b[0m \u001b[0;34m=\u001b[0m \u001b[0minsert\u001b[0m\u001b[0;34m(\u001b[0m\u001b[0ml\u001b[0m\u001b[0;34m,\u001b[0m \u001b[0mcurrent\u001b[0m\u001b[0;34m,\u001b[0m \u001b[0mx\u001b[0m\u001b[0;34m)\u001b[0m\u001b[0;34m\u001b[0m\u001b[0m\n\u001b[0m\u001b[1;32m     18\u001b[0m \u001b[0;34m\u001b[0m\u001b[0m\n\u001b[1;32m     19\u001b[0m     \u001b[0;32melse\u001b[0m\u001b[0;34m:\u001b[0m\u001b[0;34m\u001b[0m\u001b[0m\n",
      "\u001b[0;32m<ipython-input-120-96ce0157235b>\u001b[0m in \u001b[0;36minsert\u001b[0;34m(l, current, x)\u001b[0m\n\u001b[1;32m      6\u001b[0m         \u001b[0;32mreturn\u001b[0m  \u001b[0ml\u001b[0m\u001b[0;34m,\u001b[0m \u001b[0;34m(\u001b[0m\u001b[0mcurrent\u001b[0m\u001b[0;34m+\u001b[0m\u001b[0;36m2\u001b[0m\u001b[0;34m)\u001b[0m\u001b[0;34m%\u001b[0m\u001b[0;36m2\u001b[0m\u001b[0;34m\u001b[0m\u001b[0m\n\u001b[1;32m      7\u001b[0m     \u001b[0;32melse\u001b[0m\u001b[0;34m:\u001b[0m\u001b[0;34m\u001b[0m\u001b[0m\n\u001b[0;32m----> 8\u001b[0;31m         \u001b[0ml\u001b[0m\u001b[0;34m.\u001b[0m\u001b[0minsert\u001b[0m\u001b[0;34m(\u001b[0m\u001b[0;34m(\u001b[0m\u001b[0mcurrent\u001b[0m\u001b[0;34m+\u001b[0m\u001b[0;36m2\u001b[0m\u001b[0;34m)\u001b[0m\u001b[0;34m%\u001b[0m\u001b[0mlen\u001b[0m\u001b[0;34m(\u001b[0m\u001b[0ml\u001b[0m\u001b[0;34m)\u001b[0m\u001b[0;34m,\u001b[0m \u001b[0mx\u001b[0m\u001b[0;34m)\u001b[0m\u001b[0;34m\u001b[0m\u001b[0m\n\u001b[0m\u001b[1;32m      9\u001b[0m         \u001b[0mcurrent\u001b[0m \u001b[0;34m=\u001b[0m \u001b[0;34m(\u001b[0m\u001b[0mcurrent\u001b[0m\u001b[0;34m+\u001b[0m\u001b[0;36m2\u001b[0m\u001b[0;34m)\u001b[0m\u001b[0;34m%\u001b[0m\u001b[0;34m(\u001b[0m\u001b[0mlen\u001b[0m\u001b[0;34m(\u001b[0m\u001b[0ml\u001b[0m\u001b[0;34m)\u001b[0m\u001b[0;34m-\u001b[0m\u001b[0;36m1\u001b[0m\u001b[0;34m)\u001b[0m\u001b[0;34m\u001b[0m\u001b[0m\n\u001b[1;32m     10\u001b[0m         \u001b[0;32mreturn\u001b[0m \u001b[0ml\u001b[0m\u001b[0;34m,\u001b[0m \u001b[0mcurrent\u001b[0m\u001b[0;34m\u001b[0m\u001b[0m\n",
      "\u001b[0;31mKeyboardInterrupt\u001b[0m: "
     ]
    }
   ],
   "source": [
    "start = time.time()\n",
    "\n",
    "num_players = 428\n",
    "n = 70825*100\n",
    "# num_players = 30\n",
    "# n = 5807\n",
    "score = dict()\n",
    "\n",
    "l = [0]\n",
    "current = 0\n",
    "x = 1\n",
    "current_player = 1\n",
    "\n",
    "for x in range(1, n+1):\n",
    "\n",
    "    if x%23 != 0:\n",
    "        l, current = insert(l, current, x)\n",
    "        \n",
    "    else:\n",
    "        if current_player in score.keys():\n",
    "            score[current_player] = score[current_player]+x\n",
    "        else:\n",
    "            score[current_player] = x\n",
    "            \n",
    "        marble_7, index_marble_7 = l[(current-7)%len(l)], (current-7)%len(l)\n",
    "        l.pop(index_marble_7)\n",
    "        score[current_player] = score[current_player]+marble_7\n",
    "        current = (index_marble_7)%len(l)\n",
    "        \n",
    "    current_player = (current_player+1)%num_players\n",
    "sorted(score.values())\n",
    "print(time.time() - start)"
   ]
  },
  {
   "cell_type": "code",
   "execution_count": 159,
   "metadata": {},
   "outputs": [],
   "source": [
    "from collections import deque"
   ]
  },
  {
   "cell_type": "code",
   "execution_count": 162,
   "metadata": {},
   "outputs": [
    {
     "ename": "TypeError",
     "evalue": "pop() takes no arguments (1 given)",
     "output_type": "error",
     "traceback": [
      "\u001b[0;31m---------------------------------------------------------------------------\u001b[0m",
      "\u001b[0;31mTypeError\u001b[0m                                 Traceback (most recent call last)",
      "\u001b[0;32m<ipython-input-162-b53f6111d9e4>\u001b[0m in \u001b[0;36m<module>\u001b[0;34m()\u001b[0m\n\u001b[1;32m     24\u001b[0m \u001b[0;34m\u001b[0m\u001b[0m\n\u001b[1;32m     25\u001b[0m         \u001b[0mmarble_7\u001b[0m\u001b[0;34m,\u001b[0m \u001b[0mindex_marble_7\u001b[0m \u001b[0;34m=\u001b[0m \u001b[0ml\u001b[0m\u001b[0;34m[\u001b[0m\u001b[0;34m(\u001b[0m\u001b[0mcurrent\u001b[0m\u001b[0;34m-\u001b[0m\u001b[0;36m7\u001b[0m\u001b[0;34m)\u001b[0m\u001b[0;34m%\u001b[0m\u001b[0mlen\u001b[0m\u001b[0;34m(\u001b[0m\u001b[0ml\u001b[0m\u001b[0;34m)\u001b[0m\u001b[0;34m]\u001b[0m\u001b[0;34m,\u001b[0m \u001b[0;34m(\u001b[0m\u001b[0mcurrent\u001b[0m\u001b[0;34m-\u001b[0m\u001b[0;36m7\u001b[0m\u001b[0;34m)\u001b[0m\u001b[0;34m%\u001b[0m\u001b[0mlen\u001b[0m\u001b[0;34m(\u001b[0m\u001b[0ml\u001b[0m\u001b[0;34m)\u001b[0m\u001b[0;34m\u001b[0m\u001b[0m\n\u001b[0;32m---> 26\u001b[0;31m         \u001b[0ml\u001b[0m\u001b[0;34m.\u001b[0m\u001b[0mpop\u001b[0m\u001b[0;34m(\u001b[0m\u001b[0mindex_marble_7\u001b[0m\u001b[0;34m)\u001b[0m\u001b[0;34m\u001b[0m\u001b[0m\n\u001b[0m\u001b[1;32m     27\u001b[0m         \u001b[0mscore\u001b[0m\u001b[0;34m[\u001b[0m\u001b[0mcurrent_player\u001b[0m\u001b[0;34m]\u001b[0m \u001b[0;34m=\u001b[0m \u001b[0mscore\u001b[0m\u001b[0;34m[\u001b[0m\u001b[0mcurrent_player\u001b[0m\u001b[0;34m]\u001b[0m\u001b[0;34m+\u001b[0m\u001b[0mmarble_7\u001b[0m\u001b[0;34m\u001b[0m\u001b[0m\n\u001b[1;32m     28\u001b[0m         \u001b[0mcurrent\u001b[0m \u001b[0;34m=\u001b[0m \u001b[0;34m(\u001b[0m\u001b[0mindex_marble_7\u001b[0m\u001b[0;34m)\u001b[0m\u001b[0;34m%\u001b[0m\u001b[0mlen\u001b[0m\u001b[0;34m(\u001b[0m\u001b[0ml\u001b[0m\u001b[0;34m)\u001b[0m\u001b[0;34m\u001b[0m\u001b[0m\n",
      "\u001b[0;31mTypeError\u001b[0m: pop() takes no arguments (1 given)"
     ]
    }
   ],
   "source": [
    "start = time.time()\n",
    "\n",
    "# num_players = 428\n",
    "# n = 70825*100\n",
    "num_players = 30\n",
    "n = 5807\n",
    "score = dict()\n",
    "\n",
    "l = deque([0])\n",
    "current = 0\n",
    "x = 1\n",
    "current_player = 1\n",
    "\n",
    "for x in range(1, n+1):\n",
    "\n",
    "    if x%23 != 0:\n",
    "        l, current = insert(l, current, x)\n",
    "        \n",
    "    else:\n",
    "        if current_player in score.keys():\n",
    "            score[current_player] = score[current_player]+x\n",
    "        else:\n",
    "            score[current_player] = x\n",
    "            \n",
    "        marble_7, index_marble_7 = l[(current-7)%len(l)], (current-7)%len(l)\n",
    "        l.pop(index_marble_7)\n",
    "        score[current_player] = score[current_player]+marble_7\n",
    "        current = (index_marble_7)%len(l)\n",
    "        \n",
    "    current_player = (current_player+1)%num_players\n",
    "sorted(score.values())\n",
    "print(time.time() - start)"
   ]
  },
  {
   "cell_type": "code",
   "execution_count": 161,
   "metadata": {},
   "outputs": [],
   "source": [
    "def insert(l, current, x):\n",
    "    if len(l)==1:\n",
    "        return l+[x], 1\n",
    "    elif len(l)==2:\n",
    "        l.insert((current+2)%2, x)\n",
    "        return  l, (current+2)%2\n",
    "    else:\n",
    "        l.insert((current+2)%len(l), x)\n",
    "        current = (current+2)%(len(l)-1)\n",
    "        return l, current\n"
   ]
  },
  {
   "cell_type": "code",
   "execution_count": null,
   "metadata": {},
   "outputs": [],
   "source": []
  },
  {
   "cell_type": "code",
   "execution_count": 197,
   "metadata": {},
   "outputs": [],
   "source": [
    "def insert_deque(l, current, x):\n",
    "    if len(l)==1:\n",
    "        l.append(x)\n",
    "        return l, 1\n",
    "    \n",
    "    elif len(l)==2:\n",
    "        l.rotate((current+2)%2)\n",
    "        l.append(x)\n",
    "        return  l, 0\n",
    "    \n",
    "    else:\n",
    "        l.rotate((current+2)%(len(l)) )\n",
    "        l.append(x)\n",
    "        current = (current+2)%(len(l)-1)\n",
    "        return l, 0\n"
   ]
  },
  {
   "cell_type": "code",
   "execution_count": 206,
   "metadata": {},
   "outputs": [
    {
     "name": "stdout",
     "output_type": "stream",
     "text": [
      "17.51039695739746\n"
     ]
    },
    {
     "data": {
      "text/plain": [
       "3352920421"
      ]
     },
     "execution_count": 206,
     "metadata": {},
     "output_type": "execute_result"
    }
   ],
   "source": [
    "start = time.time()\n",
    "\n",
    "num_players = 428\n",
    "n = 70825*100\n",
    "\n",
    "# num_players = 5\n",
    "# n = 25\n",
    "\n",
    "# num_players=10\n",
    "# n=1618\n",
    "\n",
    "# num_players=13\n",
    "# n = 7999\n",
    "\n",
    "score = dict()\n",
    "\n",
    "l = deque([0])\n",
    "current = 0\n",
    "x = 1\n",
    "current_player = 1\n",
    "\n",
    "for x in range(1, n+1):\n",
    "\n",
    "    if x%23 != 0:\n",
    "        l, current = insert_deque(l, current, x)\n",
    "        \n",
    "    else:\n",
    "        if current_player in score.keys():\n",
    "            score[current_player] = score[current_player]+x\n",
    "        else:\n",
    "            score[current_player] = x\n",
    "            \n",
    "        index_marble_7 = (current+7)%(len(l))\n",
    "        l.rotate(-index_marble_7)\n",
    "        marble_7 = l.pop()\n",
    "        \n",
    "        score[current_player] = score[current_player]+marble_7\n",
    "        current = 0\n",
    "        \n",
    "    current_player = (current_player+1)%num_players\n",
    "print(time.time() - start)\n",
    "sorted(score.values())[len(score.values())-1]\n"
   ]
  },
  {
   "cell_type": "code",
   "execution_count": 183,
   "metadata": {},
   "outputs": [
    {
     "data": {
      "text/plain": [
       "11"
      ]
     },
     "execution_count": 183,
     "metadata": {},
     "output_type": "execute_result"
    }
   ],
   "source": [
    "current_player"
   ]
  },
  {
   "cell_type": "code",
   "execution_count": 174,
   "metadata": {},
   "outputs": [
    {
     "data": {
      "text/plain": [
       "(deque([0, 1]), 1)"
      ]
     },
     "execution_count": 174,
     "metadata": {},
     "output_type": "execute_result"
    }
   ],
   "source": [
    "l = deque([0])\n",
    "current = 0\n",
    "x = 1\n",
    "current_player = 1\n",
    "\n",
    "insert_deque(l, current, x)"
   ]
  }
 ],
 "metadata": {
  "kernelspec": {
   "display_name": "Python 3",
   "language": "python",
   "name": "python3"
  },
  "language_info": {
   "codemirror_mode": {
    "name": "ipython",
    "version": 3
   },
   "file_extension": ".py",
   "mimetype": "text/x-python",
   "name": "python",
   "nbconvert_exporter": "python",
   "pygments_lexer": "ipython3",
   "version": "3.6.5"
  }
 },
 "nbformat": 4,
 "nbformat_minor": 2
}
