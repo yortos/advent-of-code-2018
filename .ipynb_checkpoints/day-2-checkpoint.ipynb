{
 "cells": [
  {
   "cell_type": "code",
   "execution_count": 1,
   "metadata": {
    "ExecuteTime": {
     "end_time": "2018-12-04T21:08:54.773723",
     "start_time": "2018-12-04T21:08:54.214566"
    },
    "collapsed": true
   },
   "outputs": [],
   "source": [
    "import pandas\n",
    "import numpy as np"
   ]
  },
  {
   "cell_type": "markdown",
   "metadata": {},
   "source": [
    "## Day 3"
   ]
  },
  {
   "cell_type": "markdown",
   "metadata": {},
   "source": [
    "### part 1"
   ]
  },
  {
   "cell_type": "code",
   "execution_count": 2,
   "metadata": {
    "ExecuteTime": {
     "end_time": "2018-12-04T21:08:55.820600",
     "start_time": "2018-12-04T21:08:55.776290"
    },
    "collapsed": false
   },
   "outputs": [
    {
     "data": {
      "text/html": [
       "<div>\n",
       "<style scoped>\n",
       "    .dataframe tbody tr th:only-of-type {\n",
       "        vertical-align: middle;\n",
       "    }\n",
       "\n",
       "    .dataframe tbody tr th {\n",
       "        vertical-align: top;\n",
       "    }\n",
       "\n",
       "    .dataframe thead th {\n",
       "        text-align: right;\n",
       "    }\n",
       "</style>\n",
       "<table border=\"1\" class=\"dataframe\">\n",
       "  <thead>\n",
       "    <tr style=\"text-align: right;\">\n",
       "      <th></th>\n",
       "      <th>input</th>\n",
       "    </tr>\n",
       "  </thead>\n",
       "  <tbody>\n",
       "    <tr>\n",
       "      <th>0</th>\n",
       "      <td>#1 @ 912,277: 27x20</td>\n",
       "    </tr>\n",
       "    <tr>\n",
       "      <th>1</th>\n",
       "      <td>#2 @ 129,477: 14x12</td>\n",
       "    </tr>\n",
       "    <tr>\n",
       "      <th>2</th>\n",
       "      <td>#3 @ 915,716: 17x23</td>\n",
       "    </tr>\n",
       "    <tr>\n",
       "      <th>3</th>\n",
       "      <td>#4 @ 809,807: 24x16</td>\n",
       "    </tr>\n",
       "    <tr>\n",
       "      <th>4</th>\n",
       "      <td>#5 @ 769,790: 22x13</td>\n",
       "    </tr>\n",
       "  </tbody>\n",
       "</table>\n",
       "</div>"
      ],
      "text/plain": [
       "                 input\n",
       "0  #1 @ 912,277: 27x20\n",
       "1  #2 @ 129,477: 14x12\n",
       "2  #3 @ 915,716: 17x23\n",
       "3  #4 @ 809,807: 24x16\n",
       "4  #5 @ 769,790: 22x13"
      ]
     },
     "execution_count": 2,
     "metadata": {},
     "output_type": "execute_result"
    }
   ],
   "source": [
    "quiz3 = pandas.read_csv('quiz3.txt', delimiter='\\n', names=['input'])\n",
    "quiz3.head()"
   ]
  },
  {
   "cell_type": "code",
   "execution_count": 39,
   "metadata": {
    "ExecuteTime": {
     "end_time": "2018-12-04T21:21:56.542765",
     "start_time": "2018-12-04T21:21:56.523164"
    },
    "collapsed": true
   },
   "outputs": [],
   "source": [
    "def get_corners(string):\n",
    "    id = string.split('@')[0].replace('#','')\n",
    "    t = dict()\n",
    "    string = string.split('@')[1]\n",
    "    t['left_edge'] = int(string.split(':')[0].split(',')[0])\n",
    "    t['top_edge'] = int(string.split(':')[0].split(',')[1])\n",
    "    \n",
    "    width = int(string.split(':')[1].split('x')[0])\n",
    "    height = int(string.split(':')[1].split('x')[1])\n",
    "    \n",
    "    t['right_edge'] = t['left_edge'] + width\n",
    "    t['bottom_edge'] = t['top_edge'] + height\n",
    "    \n",
    "    return id, t\n",
    "\n",
    "def get_volume(string):\n",
    "    id = string.split('@')[0].replace('#','')\n",
    "    string = string.split('@')[1]\n",
    "    \n",
    "    width = int(string.split(':')[1].split('x')[0])\n",
    "    height = int(string.split(':')[1].split('x')[1])\n",
    "\n",
    "    return id, width*height\n",
    "\n",
    "def count_overlap(fabric, symbol=b'X'):\n",
    "    count = 0\n",
    "    for i in range(len(fabric)):\n",
    "        for j in range(len(fabric[i])):\n",
    "            if fabric[i][j] == symbol:\n",
    "                count = count+1\n",
    "    return count"
   ]
  },
  {
   "cell_type": "code",
   "execution_count": 59,
   "metadata": {
    "ExecuteTime": {
     "end_time": "2018-12-04T22:01:28.969169",
     "start_time": "2018-12-04T22:01:28.963267"
    },
    "collapsed": false
   },
   "outputs": [
    {
     "data": {
      "text/plain": [
       "'1001 '"
      ]
     },
     "execution_count": 59,
     "metadata": {},
     "output_type": "execute_result"
    }
   ],
   "source": [
    "str(get_corners(quiz3['input'][1000])[0])"
   ]
  },
  {
   "cell_type": "code",
   "execution_count": 4,
   "metadata": {
    "ExecuteTime": {
     "end_time": "2018-12-04T21:09:00.578691",
     "start_time": "2018-12-04T21:09:00.574052"
    },
    "collapsed": false
   },
   "outputs": [],
   "source": [
    "def draw_claim(fabric, t, id):\n",
    "    for i in range(t['top_edge'], t['bottom_edge']):\n",
    "        for j in range(t['left_edge'], t['right_edge']):\n",
    "\n",
    "            if fabric[i][j] == b'.':\n",
    "                fabric[i][j] = str(id)\n",
    "            else:\n",
    "                fabric[i][j] = 'X'\n",
    "    return fabric"
   ]
  },
  {
   "cell_type": "code",
   "execution_count": 79,
   "metadata": {
    "ExecuteTime": {
     "end_time": "2018-12-04T22:03:37.422447",
     "start_time": "2018-12-04T22:03:37.417751"
    },
    "collapsed": false
   },
   "outputs": [
    {
     "data": {
      "text/plain": [
       "array([[0., 0., 0., ..., 0., 0., 0.],\n",
       "       [0., 0., 0., ..., 0., 0., 0.],\n",
       "       [0., 0., 0., ..., 0., 0., 0.],\n",
       "       ...,\n",
       "       [0., 0., 0., ..., 0., 0., 0.],\n",
       "       [0., 0., 0., ..., 0., 0., 0.],\n",
       "       [0., 0., 0., ..., 0., 0., 0.]])"
      ]
     },
     "execution_count": 79,
     "metadata": {},
     "output_type": "execute_result"
    }
   ],
   "source": [
    "np."
   ]
  },
  {
   "cell_type": "code",
   "execution_count": 83,
   "metadata": {
    "ExecuteTime": {
     "end_time": "2018-12-04T22:05:31.130172",
     "start_time": "2018-12-04T22:05:29.304461"
    },
    "collapsed": false
   },
   "outputs": [],
   "source": [
    "fabric = np.chararray((2000,2000), itemsize=10)\n",
    "fabric[:]= '.'\n",
    "\n",
    "\n",
    "for i in range(len(quiz3)):\n",
    "    claim = quiz3['input'][i]\n",
    "    id, t = get_corners(claim)\n",
    "    \n",
    "    fabric = draw_claim(fabric, t, id)\n",
    "\n",
    "#count_overlap(fabric)"
   ]
  },
  {
   "cell_type": "code",
   "execution_count": 84,
   "metadata": {
    "ExecuteTime": {
     "end_time": "2018-12-04T22:05:35.487014",
     "start_time": "2018-12-04T22:05:32.349697"
    },
    "collapsed": false
   },
   "outputs": [
    {
     "data": {
      "text/plain": [
       "1150"
      ]
     },
     "execution_count": 84,
     "metadata": {},
     "output_type": "execute_result"
    }
   ],
   "source": [
    "set_ = set(fabric[0])\n",
    "for i in range(len(fabric)):\n",
    "    set_ = set_.union(set(fabric[i]))\n",
    "\n",
    "len(set_)"
   ]
  },
  {
   "cell_type": "code",
   "execution_count": 17,
   "metadata": {
    "ExecuteTime": {
     "end_time": "2018-12-04T21:12:33.517197",
     "start_time": "2018-12-04T21:12:33.512307"
    },
    "collapsed": false
   },
   "outputs": [],
   "source": [
    "def convert_fabric_to_df(fabric):\n",
    "    fabric_df = pandas.DataFrame(columns=['id'])\n",
    "    \n",
    "    for i in range(len(fabric)):\n",
    "        for j in range(len(fabric)):\n",
    "            fabric_df.loc[len(fabric_df)]=[fabric[i][j].decode('utf-8')]\n",
    "    return fabric_df"
   ]
  },
  {
   "cell_type": "code",
   "execution_count": 86,
   "metadata": {
    "ExecuteTime": {
     "end_time": "2018-12-04T22:05:57.104140",
     "start_time": "2018-12-04T22:05:57.099215"
    },
    "collapsed": true
   },
   "outputs": [],
   "source": [
    "def convert_fabric_to_df(fabric):\n",
    "    fabric_df = pandas.DataFrame(columns=['id', 'count'])\n",
    "    \n",
    "    for i in range(len(fabric)):\n",
    "        for item in set(fabric[i]):\n",
    "            fabric_df.loc[len(fabric_df)]=[item.decode('utf-8'), sum(fabric[i].count(item))]\n",
    "            \n",
    "    return fabric_df"
   ]
  },
  {
   "cell_type": "code",
   "execution_count": 87,
   "metadata": {
    "ExecuteTime": {
     "end_time": "2018-12-04T22:07:37.635255",
     "start_time": "2018-12-04T22:06:17.683174"
    },
    "collapsed": false
   },
   "outputs": [],
   "source": [
    "fabric_df = convert_fabric_to_df(fabric)"
   ]
  },
  {
   "cell_type": "code",
   "execution_count": 88,
   "metadata": {
    "ExecuteTime": {
     "end_time": "2018-12-04T22:07:37.776577",
     "start_time": "2018-12-04T22:07:37.636599"
    },
    "collapsed": true
   },
   "outputs": [
    {
     "data": {
      "text/plain": [
       "id\n",
       ".       3666888\n",
       "1          1497\n",
       "10          289\n",
       "100         690\n",
       "1000        450\n",
       "1002         10\n",
       "1003        102\n",
       "1004        262\n",
       "1005        238\n",
       "1007        145\n",
       "1008        177\n",
       "1009         33\n",
       "101         159\n",
       "1010        455\n",
       "1011         67\n",
       "1012        342\n",
       "1013        471\n",
       "1014        190\n",
       "1015        255\n",
       "1016        144\n",
       "1017        195\n",
       "1018        329\n",
       "1019        147\n",
       "102         148\n",
       "1020        184\n",
       "1021        362\n",
       "1022         42\n",
       "1023        345\n",
       "1025        120\n",
       "1026        408\n",
       "         ...   \n",
       "971         204\n",
       "972          27\n",
       "973         505\n",
       "974         209\n",
       "975         204\n",
       "976          13\n",
       "977         160\n",
       "978          56\n",
       "979         113\n",
       "98          261\n",
       "980         230\n",
       "981         192\n",
       "983         482\n",
       "985         393\n",
       "986         195\n",
       "987         567\n",
       "988          90\n",
       "989          95\n",
       "99           66\n",
       "990         302\n",
       "991         245\n",
       "992          82\n",
       "993          76\n",
       "994         315\n",
       "995         294\n",
       "996         464\n",
       "997          48\n",
       "998         168\n",
       "999         190\n",
       "X        110891\n",
       "Name: count, Length: 1150, dtype: int64"
      ]
     },
     "execution_count": 88,
     "metadata": {},
     "output_type": "execute_result"
    }
   ],
   "source": []
  },
  {
   "cell_type": "markdown",
   "metadata": {
    "ExecuteTime": {
     "end_time": "2018-12-04T13:43:29.920735",
     "start_time": "2018-12-04T13:43:21.245350"
    }
   },
   "source": [
    "### part 2"
   ]
  },
  {
   "cell_type": "code",
   "execution_count": 45,
   "metadata": {
    "ExecuteTime": {
     "end_time": "2018-12-04T21:24:46.842174",
     "start_time": "2018-12-04T21:24:44.464382"
    },
    "collapsed": false
   },
   "outputs": [
    {
     "data": {
      "text/html": [
       "<div>\n",
       "<style scoped>\n",
       "    .dataframe tbody tr th:only-of-type {\n",
       "        vertical-align: middle;\n",
       "    }\n",
       "\n",
       "    .dataframe tbody tr th {\n",
       "        vertical-align: top;\n",
       "    }\n",
       "\n",
       "    .dataframe thead th {\n",
       "        text-align: right;\n",
       "    }\n",
       "</style>\n",
       "<table border=\"1\" class=\"dataframe\">\n",
       "  <thead>\n",
       "    <tr style=\"text-align: right;\">\n",
       "      <th></th>\n",
       "      <th>id</th>\n",
       "      <th>volume</th>\n",
       "    </tr>\n",
       "  </thead>\n",
       "  <tbody>\n",
       "    <tr>\n",
       "      <th>0</th>\n",
       "      <td>1</td>\n",
       "      <td>540</td>\n",
       "    </tr>\n",
       "    <tr>\n",
       "      <th>1</th>\n",
       "      <td>2</td>\n",
       "      <td>168</td>\n",
       "    </tr>\n",
       "    <tr>\n",
       "      <th>2</th>\n",
       "      <td>3</td>\n",
       "      <td>391</td>\n",
       "    </tr>\n",
       "    <tr>\n",
       "      <th>3</th>\n",
       "      <td>4</td>\n",
       "      <td>384</td>\n",
       "    </tr>\n",
       "    <tr>\n",
       "      <th>4</th>\n",
       "      <td>5</td>\n",
       "      <td>286</td>\n",
       "    </tr>\n",
       "  </tbody>\n",
       "</table>\n",
       "</div>"
      ],
      "text/plain": [
       "   id volume\n",
       "0  1     540\n",
       "1  2     168\n",
       "2  3     391\n",
       "3  4     384\n",
       "4  5     286"
      ]
     },
     "execution_count": 45,
     "metadata": {},
     "output_type": "execute_result"
    }
   ],
   "source": [
    "volume_df = pandas.DataFrame(columns=['id', 'volume'])\n",
    "\n",
    "for i in range(len(quiz3)):\n",
    "    volume_df.loc[i] = get_volume(quiz3['input'][i])\n",
    "    \n",
    "volume_df.head()"
   ]
  },
  {
   "cell_type": "code",
   "execution_count": 99,
   "metadata": {
    "ExecuteTime": {
     "end_time": "2018-12-04T22:11:29.280158",
     "start_time": "2018-12-04T22:11:29.107503"
    },
    "collapsed": false
   },
   "outputs": [
    {
     "data": {
      "text/html": [
       "<div>\n",
       "<style scoped>\n",
       "    .dataframe tbody tr th:only-of-type {\n",
       "        vertical-align: middle;\n",
       "    }\n",
       "\n",
       "    .dataframe tbody tr th {\n",
       "        vertical-align: top;\n",
       "    }\n",
       "\n",
       "    .dataframe thead th {\n",
       "        text-align: right;\n",
       "    }\n",
       "</style>\n",
       "<table border=\"1\" class=\"dataframe\">\n",
       "  <thead>\n",
       "    <tr style=\"text-align: right;\">\n",
       "      <th></th>\n",
       "      <th>id</th>\n",
       "      <th>count</th>\n",
       "      <th>volume</th>\n",
       "      <th>diff</th>\n",
       "    </tr>\n",
       "  </thead>\n",
       "  <tbody>\n",
       "    <tr>\n",
       "      <th>434</th>\n",
       "      <td>297</td>\n",
       "      <td>264</td>\n",
       "      <td>264</td>\n",
       "      <td>0</td>\n",
       "    </tr>\n",
       "  </tbody>\n",
       "</table>\n",
       "</div>"
      ],
      "text/plain": [
       "      id  count volume diff\n",
       "434  297    264    264    0"
      ]
     },
     "execution_count": 99,
     "metadata": {},
     "output_type": "execute_result"
    }
   ],
   "source": [
    "fabric_count = pandas.DataFrame({'count' :fabric_df.groupby('id')['count'].sum()})\n",
    "fabric_count.reset_index(inplace = True)\n",
    "\n",
    "fabric_count['id'] = fabric_count['id'].apply(lambda x: x.replace(' ',''))\n",
    "volume_df['id'] = volume_df['id'].apply(lambda x: x.replace(' ',''))\n",
    "\n",
    "volume_vs_count = pandas.merge(fabric_count, volume_df, on='id', how='inner')\n",
    "volume_vs_count['diff'] = volume_vs_count['volume'] - volume_vs_count['count']\n",
    "volume_vs_count[volume_vs_count['diff'] == 0]"
   ]
  },
  {
   "cell_type": "code",
   "execution_count": 98,
   "metadata": {
    "ExecuteTime": {
     "end_time": "2018-12-04T22:10:59.124772",
     "start_time": "2018-12-04T22:10:59.120352"
    },
    "collapsed": false
   },
   "outputs": [
    {
     "data": {
      "text/plain": [
       "('1 ', '.')"
      ]
     },
     "execution_count": 98,
     "metadata": {},
     "output_type": "execute_result"
    }
   ],
   "source": [
    "volume_df['id'][0], fabric_count['id'][0]"
   ]
  },
  {
   "cell_type": "markdown",
   "metadata": {},
   "source": [
    "## Day 4"
   ]
  },
  {
   "cell_type": "code",
   "execution_count": null,
   "metadata": {
    "collapsed": true
   },
   "outputs": [],
   "source": [
    "from datetime import datetime\n",
    "def get_info(line):\n",
    "    action = line.split(']')[1][1:]\n",
    "    time = line.split(']')[0][1:]\n",
    "    d = datetime.strptime(line.split(']')[0][1:], '%Y-%m-%d %H:%M')\n",
    "    timestamp = d.replace(year = d.year+200)\n",
    "    \n",
    "    return timestamp, action"
   ]
  },
  {
   "cell_type": "code",
   "execution_count": 104,
   "metadata": {
    "ExecuteTime": {
     "end_time": "2018-12-04T22:21:07.665532",
     "start_time": "2018-12-04T22:21:07.656036"
    },
    "collapsed": false,
    "scrolled": true
   },
   "outputs": [],
   "source": []
  },
  {
   "cell_type": "code",
   "execution_count": 177,
   "metadata": {
    "ExecuteTime": {
     "end_time": "2018-12-04T22:37:27.603957",
     "start_time": "2018-12-04T22:37:25.764808"
    },
    "collapsed": false
   },
   "outputs": [],
   "source": [
    "quiz4 = pandas.DataFrame(columns = ['tmstmp', 'action'])\n",
    "\n",
    "f = open('quiz4.txt', 'r')\n",
    "\n",
    "for line in f.readlines():\n",
    "    #print(line)\n",
    "    quiz4.loc[len(quiz4)] = get_info(line)\n",
    "\n",
    "quiz4.sort_values(by='tmstmp', inplace= True)\n",
    "quiz4['action'] = quiz4['action'].apply(lambda x: x.replace('\\n',''))\n",
    "quiz4.reset_index(inplace = True)\n",
    "del quiz4['index']"
   ]
  },
  {
   "cell_type": "code",
   "execution_count": 178,
   "metadata": {
    "ExecuteTime": {
     "end_time": "2018-12-04T22:37:27.612921",
     "start_time": "2018-12-04T22:37:27.605340"
    },
    "collapsed": false
   },
   "outputs": [
    {
     "data": {
      "text/html": [
       "<div>\n",
       "<style scoped>\n",
       "    .dataframe tbody tr th:only-of-type {\n",
       "        vertical-align: middle;\n",
       "    }\n",
       "\n",
       "    .dataframe tbody tr th {\n",
       "        vertical-align: top;\n",
       "    }\n",
       "\n",
       "    .dataframe thead th {\n",
       "        text-align: right;\n",
       "    }\n",
       "</style>\n",
       "<table border=\"1\" class=\"dataframe\">\n",
       "  <thead>\n",
       "    <tr style=\"text-align: right;\">\n",
       "      <th></th>\n",
       "      <th>tmstmp</th>\n",
       "      <th>action</th>\n",
       "    </tr>\n",
       "  </thead>\n",
       "  <tbody>\n",
       "    <tr>\n",
       "      <th>0</th>\n",
       "      <td>1718-03-05 23:57:00</td>\n",
       "      <td>Guard #2963 begins shift</td>\n",
       "    </tr>\n",
       "    <tr>\n",
       "      <th>1</th>\n",
       "      <td>1718-03-06 00:25:00</td>\n",
       "      <td>falls asleep</td>\n",
       "    </tr>\n",
       "    <tr>\n",
       "      <th>2</th>\n",
       "      <td>1718-03-06 00:46:00</td>\n",
       "      <td>wakes up</td>\n",
       "    </tr>\n",
       "    <tr>\n",
       "      <th>3</th>\n",
       "      <td>1718-03-07 00:01:00</td>\n",
       "      <td>Guard #89 begins shift</td>\n",
       "    </tr>\n",
       "    <tr>\n",
       "      <th>4</th>\n",
       "      <td>1718-03-07 00:15:00</td>\n",
       "      <td>falls asleep</td>\n",
       "    </tr>\n",
       "  </tbody>\n",
       "</table>\n",
       "</div>"
      ],
      "text/plain": [
       "               tmstmp                    action\n",
       "0 1718-03-05 23:57:00  Guard #2963 begins shift\n",
       "1 1718-03-06 00:25:00              falls asleep\n",
       "2 1718-03-06 00:46:00                  wakes up\n",
       "3 1718-03-07 00:01:00    Guard #89 begins shift\n",
       "4 1718-03-07 00:15:00              falls asleep"
      ]
     },
     "execution_count": 178,
     "metadata": {},
     "output_type": "execute_result"
    }
   ],
   "source": [
    "quiz4.head()"
   ]
  },
  {
   "cell_type": "code",
   "execution_count": 188,
   "metadata": {
    "ExecuteTime": {
     "end_time": "2018-12-04T22:45:03.329272",
     "start_time": "2018-12-04T22:45:03.326072"
    },
    "collapsed": true
   },
   "outputs": [],
   "source": [
    "def get_guard_id(string):\n",
    "    try:\n",
    "        return string.split(' ')[1].replace('#','')\n",
    "    except:\n",
    "        return None"
   ]
  },
  {
   "cell_type": "code",
   "execution_count": 182,
   "metadata": {
    "ExecuteTime": {
     "end_time": "2018-12-04T22:39:53.447945",
     "start_time": "2018-12-04T22:39:53.443283"
    },
    "collapsed": false
   },
   "outputs": [
    {
     "name": "stdout",
     "output_type": "stream",
     "text": [
      "2963\n"
     ]
    }
   ],
   "source": [
    "i = 0\n",
    "\n",
    "if quiz4['action'][i] not in ['falls asleep', 'wakes up']:\n",
    "    current_guard_id = get_guard_id(quiz4['action'][i] )\n",
    "    print(current_guard_id)"
   ]
  },
  {
   "cell_type": "code",
   "execution_count": 192,
   "metadata": {
    "ExecuteTime": {
     "end_time": "2018-12-04T22:50:12.375875",
     "start_time": "2018-12-04T22:50:12.363238"
    },
    "collapsed": false
   },
   "outputs": [
    {
     "data": {
      "text/html": [
       "<div>\n",
       "<style scoped>\n",
       "    .dataframe tbody tr th:only-of-type {\n",
       "        vertical-align: middle;\n",
       "    }\n",
       "\n",
       "    .dataframe tbody tr th {\n",
       "        vertical-align: top;\n",
       "    }\n",
       "\n",
       "    .dataframe thead th {\n",
       "        text-align: right;\n",
       "    }\n",
       "</style>\n",
       "<table border=\"1\" class=\"dataframe\">\n",
       "  <thead>\n",
       "    <tr style=\"text-align: right;\">\n",
       "      <th></th>\n",
       "      <th>tmstmp</th>\n",
       "      <th>action</th>\n",
       "      <th>guard_id</th>\n",
       "    </tr>\n",
       "  </thead>\n",
       "  <tbody>\n",
       "    <tr>\n",
       "      <th>0</th>\n",
       "      <td>1718-03-05 23:57:00</td>\n",
       "      <td>Guard #2963 begins shift</td>\n",
       "      <td>2963</td>\n",
       "    </tr>\n",
       "    <tr>\n",
       "      <th>1</th>\n",
       "      <td>1718-03-06 00:25:00</td>\n",
       "      <td>falls asleep</td>\n",
       "      <td>asleep</td>\n",
       "    </tr>\n",
       "    <tr>\n",
       "      <th>2</th>\n",
       "      <td>1718-03-06 00:46:00</td>\n",
       "      <td>wakes up</td>\n",
       "      <td>up</td>\n",
       "    </tr>\n",
       "    <tr>\n",
       "      <th>3</th>\n",
       "      <td>1718-03-07 00:01:00</td>\n",
       "      <td>Guard #89 begins shift</td>\n",
       "      <td>89</td>\n",
       "    </tr>\n",
       "    <tr>\n",
       "      <th>4</th>\n",
       "      <td>1718-03-07 00:15:00</td>\n",
       "      <td>falls asleep</td>\n",
       "      <td>asleep</td>\n",
       "    </tr>\n",
       "  </tbody>\n",
       "</table>\n",
       "</div>"
      ],
      "text/plain": [
       "               tmstmp                    action guard_id\n",
       "0 1718-03-05 23:57:00  Guard #2963 begins shift     2963\n",
       "1 1718-03-06 00:25:00              falls asleep   asleep\n",
       "2 1718-03-06 00:46:00                  wakes up       up\n",
       "3 1718-03-07 00:01:00    Guard #89 begins shift       89\n",
       "4 1718-03-07 00:15:00              falls asleep   asleep"
      ]
     },
     "execution_count": 192,
     "metadata": {},
     "output_type": "execute_result"
    }
   ],
   "source": [
    "t.head()\n",
    "quiz4.head()"
   ]
  },
  {
   "cell_type": "code",
   "execution_count": 251,
   "metadata": {
    "ExecuteTime": {
     "end_time": "2018-12-04T23:03:53.872696",
     "start_time": "2018-12-04T23:03:53.869632"
    },
    "collapsed": true
   },
   "outputs": [],
   "source": [
    "def opposite(symbol):\n",
    "    if symbol == '.':\n",
    "        return '#'\n",
    "    else:\n",
    "        return '.'"
   ]
  },
  {
   "cell_type": "code",
   "execution_count": 374,
   "metadata": {
    "ExecuteTime": {
     "end_time": "2018-12-04T23:39:54.728062",
     "start_time": "2018-12-04T23:39:52.523186"
    },
    "collapsed": false
   },
   "outputs": [],
   "source": [
    "t = pandas.DataFrame(columns = ['date', 'id']+[str(x) for x in range(60)])\n",
    "\n",
    "current_guard_id = get_guard_id(quiz4['action'][0])\n",
    "minutes = []\n",
    "previous_minute = 0\n",
    "\n",
    "for i in range(len(quiz4)):\n",
    "    action = quiz4['action'][i]\n",
    "    if action not in ['falls asleep', 'wakes up']:\n",
    "        if i==0:\n",
    "            continue\n",
    "        ##write down all the previous guard id info\n",
    "        else:\n",
    "            if minutes == []:\n",
    "                continue\n",
    "            else:\n",
    "                t.loc[len(t)] = [None, current_guard_id]+minutes + [opposite(minutes[len(minutes)-1])]*(60-len(minutes))\n",
    "                previous_minute = 0\n",
    "                minutes = []\n",
    "        current_guard_id = get_guard_id(action)\n",
    "        \n",
    "    else:\n",
    "        minute = str(quiz4['tmstmp'][i].minute)\n",
    "        \n",
    "        if action == 'wakes up':\n",
    "            minutes= minutes+['.']*(int(minute) - previous_minute)\n",
    "            previous_minute = int(minute)\n",
    "            \n",
    "        else:\n",
    "            minutes= minutes+['#']*(int(minute) - previous_minute)\n",
    "            previous_minute = int(minute)\n",
    "t.loc[len(t)] = [None, current_guard_id]+minutes + [opposite(minutes[len(minutes)-1])]*(60-len(minutes))"
   ]
  },
  {
   "cell_type": "code",
   "execution_count": 375,
   "metadata": {
    "ExecuteTime": {
     "end_time": "2018-12-04T23:40:10.437524",
     "start_time": "2018-12-04T23:40:09.771975"
    },
    "collapsed": false,
    "scrolled": true
   },
   "outputs": [],
   "source": [
    "how_asleep = pandas.DataFrame(columns = ['id', 'num_minutes_asleep'])\n",
    "for i in range(len(t)):\n",
    "    id = t.loc[i][1]\n",
    "    minutes_asleep = sum([x == '.' for x in t.loc[i][2:]])\n",
    "    how_asleep.loc[len(how_asleep)] = [id, minutes_asleep]"
   ]
  },
  {
   "cell_type": "code",
   "execution_count": 379,
   "metadata": {
    "ExecuteTime": {
     "end_time": "2018-12-04T23:40:42.533306",
     "start_time": "2018-12-04T23:40:42.520446"
    },
    "collapsed": false
   },
   "outputs": [
    {
     "data": {
      "text/plain": [
       "id\n",
       "3209    375\n",
       "1723    396\n",
       "2473    497\n",
       "3259    533\n",
       "857     605\n",
       "Name: num_minutes_asleep, dtype: int64"
      ]
     },
     "execution_count": 379,
     "metadata": {},
     "output_type": "execute_result"
    }
   ],
   "source": [
    "how_asleep.groupby('id')['num_minutes_asleep'].sum().sort_values().tail()"
   ]
  },
  {
   "cell_type": "code",
   "execution_count": 380,
   "metadata": {
    "ExecuteTime": {
     "end_time": "2018-12-04T23:40:51.541132",
     "start_time": "2018-12-04T23:40:51.492799"
    },
    "collapsed": false
   },
   "outputs": [
    {
     "data": {
      "text/html": [
       "<div>\n",
       "<style scoped>\n",
       "    .dataframe tbody tr th:only-of-type {\n",
       "        vertical-align: middle;\n",
       "    }\n",
       "\n",
       "    .dataframe tbody tr th {\n",
       "        vertical-align: top;\n",
       "    }\n",
       "\n",
       "    .dataframe thead th {\n",
       "        text-align: right;\n",
       "    }\n",
       "</style>\n",
       "<table border=\"1\" class=\"dataframe\">\n",
       "  <thead>\n",
       "    <tr style=\"text-align: right;\">\n",
       "      <th></th>\n",
       "      <th>date</th>\n",
       "      <th>id</th>\n",
       "      <th>0</th>\n",
       "      <th>1</th>\n",
       "      <th>2</th>\n",
       "      <th>3</th>\n",
       "      <th>4</th>\n",
       "      <th>5</th>\n",
       "      <th>6</th>\n",
       "      <th>7</th>\n",
       "      <th>...</th>\n",
       "      <th>50</th>\n",
       "      <th>51</th>\n",
       "      <th>52</th>\n",
       "      <th>53</th>\n",
       "      <th>54</th>\n",
       "      <th>55</th>\n",
       "      <th>56</th>\n",
       "      <th>57</th>\n",
       "      <th>58</th>\n",
       "      <th>59</th>\n",
       "    </tr>\n",
       "  </thead>\n",
       "  <tbody>\n",
       "    <tr>\n",
       "      <th>5</th>\n",
       "      <td>None</td>\n",
       "      <td>857</td>\n",
       "      <td>#</td>\n",
       "      <td>#</td>\n",
       "      <td>#</td>\n",
       "      <td>#</td>\n",
       "      <td>#</td>\n",
       "      <td>#</td>\n",
       "      <td>#</td>\n",
       "      <td>#</td>\n",
       "      <td>...</td>\n",
       "      <td>#</td>\n",
       "      <td>#</td>\n",
       "      <td>#</td>\n",
       "      <td>#</td>\n",
       "      <td>#</td>\n",
       "      <td>#</td>\n",
       "      <td>#</td>\n",
       "      <td>#</td>\n",
       "      <td>#</td>\n",
       "      <td>#</td>\n",
       "    </tr>\n",
       "    <tr>\n",
       "      <th>8</th>\n",
       "      <td>None</td>\n",
       "      <td>857</td>\n",
       "      <td>#</td>\n",
       "      <td>#</td>\n",
       "      <td>#</td>\n",
       "      <td>#</td>\n",
       "      <td>#</td>\n",
       "      <td>#</td>\n",
       "      <td>#</td>\n",
       "      <td>#</td>\n",
       "      <td>...</td>\n",
       "      <td>.</td>\n",
       "      <td>.</td>\n",
       "      <td>#</td>\n",
       "      <td>#</td>\n",
       "      <td>#</td>\n",
       "      <td>#</td>\n",
       "      <td>#</td>\n",
       "      <td>#</td>\n",
       "      <td>#</td>\n",
       "      <td>#</td>\n",
       "    </tr>\n",
       "    <tr>\n",
       "      <th>12</th>\n",
       "      <td>None</td>\n",
       "      <td>857</td>\n",
       "      <td>#</td>\n",
       "      <td>#</td>\n",
       "      <td>#</td>\n",
       "      <td>#</td>\n",
       "      <td>#</td>\n",
       "      <td>#</td>\n",
       "      <td>#</td>\n",
       "      <td>#</td>\n",
       "      <td>...</td>\n",
       "      <td>#</td>\n",
       "      <td>#</td>\n",
       "      <td>#</td>\n",
       "      <td>#</td>\n",
       "      <td>#</td>\n",
       "      <td>#</td>\n",
       "      <td>#</td>\n",
       "      <td>#</td>\n",
       "      <td>#</td>\n",
       "      <td>#</td>\n",
       "    </tr>\n",
       "    <tr>\n",
       "      <th>13</th>\n",
       "      <td>None</td>\n",
       "      <td>857</td>\n",
       "      <td>#</td>\n",
       "      <td>#</td>\n",
       "      <td>#</td>\n",
       "      <td>#</td>\n",
       "      <td>#</td>\n",
       "      <td>#</td>\n",
       "      <td>#</td>\n",
       "      <td>#</td>\n",
       "      <td>...</td>\n",
       "      <td>.</td>\n",
       "      <td>.</td>\n",
       "      <td>.</td>\n",
       "      <td>.</td>\n",
       "      <td>.</td>\n",
       "      <td>.</td>\n",
       "      <td>.</td>\n",
       "      <td>.</td>\n",
       "      <td>.</td>\n",
       "      <td>#</td>\n",
       "    </tr>\n",
       "    <tr>\n",
       "      <th>43</th>\n",
       "      <td>None</td>\n",
       "      <td>857</td>\n",
       "      <td>#</td>\n",
       "      <td>#</td>\n",
       "      <td>#</td>\n",
       "      <td>#</td>\n",
       "      <td>#</td>\n",
       "      <td>#</td>\n",
       "      <td>#</td>\n",
       "      <td>#</td>\n",
       "      <td>...</td>\n",
       "      <td>#</td>\n",
       "      <td>#</td>\n",
       "      <td>#</td>\n",
       "      <td>#</td>\n",
       "      <td>#</td>\n",
       "      <td>#</td>\n",
       "      <td>#</td>\n",
       "      <td>#</td>\n",
       "      <td>#</td>\n",
       "      <td>#</td>\n",
       "    </tr>\n",
       "    <tr>\n",
       "      <th>61</th>\n",
       "      <td>None</td>\n",
       "      <td>857</td>\n",
       "      <td>#</td>\n",
       "      <td>#</td>\n",
       "      <td>#</td>\n",
       "      <td>#</td>\n",
       "      <td>#</td>\n",
       "      <td>#</td>\n",
       "      <td>#</td>\n",
       "      <td>.</td>\n",
       "      <td>...</td>\n",
       "      <td>#</td>\n",
       "      <td>#</td>\n",
       "      <td>#</td>\n",
       "      <td>.</td>\n",
       "      <td>.</td>\n",
       "      <td>#</td>\n",
       "      <td>#</td>\n",
       "      <td>#</td>\n",
       "      <td>#</td>\n",
       "      <td>#</td>\n",
       "    </tr>\n",
       "    <tr>\n",
       "      <th>64</th>\n",
       "      <td>None</td>\n",
       "      <td>857</td>\n",
       "      <td>#</td>\n",
       "      <td>#</td>\n",
       "      <td>#</td>\n",
       "      <td>#</td>\n",
       "      <td>#</td>\n",
       "      <td>#</td>\n",
       "      <td>#</td>\n",
       "      <td>#</td>\n",
       "      <td>...</td>\n",
       "      <td>.</td>\n",
       "      <td>.</td>\n",
       "      <td>.</td>\n",
       "      <td>.</td>\n",
       "      <td>#</td>\n",
       "      <td>#</td>\n",
       "      <td>#</td>\n",
       "      <td>#</td>\n",
       "      <td>#</td>\n",
       "      <td>#</td>\n",
       "    </tr>\n",
       "    <tr>\n",
       "      <th>77</th>\n",
       "      <td>None</td>\n",
       "      <td>857</td>\n",
       "      <td>#</td>\n",
       "      <td>#</td>\n",
       "      <td>#</td>\n",
       "      <td>#</td>\n",
       "      <td>#</td>\n",
       "      <td>#</td>\n",
       "      <td>#</td>\n",
       "      <td>#</td>\n",
       "      <td>...</td>\n",
       "      <td>.</td>\n",
       "      <td>.</td>\n",
       "      <td>.</td>\n",
       "      <td>#</td>\n",
       "      <td>#</td>\n",
       "      <td>#</td>\n",
       "      <td>#</td>\n",
       "      <td>#</td>\n",
       "      <td>#</td>\n",
       "      <td>#</td>\n",
       "    </tr>\n",
       "    <tr>\n",
       "      <th>86</th>\n",
       "      <td>None</td>\n",
       "      <td>857</td>\n",
       "      <td>#</td>\n",
       "      <td>#</td>\n",
       "      <td>#</td>\n",
       "      <td>#</td>\n",
       "      <td>#</td>\n",
       "      <td>#</td>\n",
       "      <td>#</td>\n",
       "      <td>#</td>\n",
       "      <td>...</td>\n",
       "      <td>#</td>\n",
       "      <td>#</td>\n",
       "      <td>#</td>\n",
       "      <td>#</td>\n",
       "      <td>#</td>\n",
       "      <td>#</td>\n",
       "      <td>#</td>\n",
       "      <td>#</td>\n",
       "      <td>#</td>\n",
       "      <td>#</td>\n",
       "    </tr>\n",
       "    <tr>\n",
       "      <th>103</th>\n",
       "      <td>None</td>\n",
       "      <td>857</td>\n",
       "      <td>#</td>\n",
       "      <td>#</td>\n",
       "      <td>#</td>\n",
       "      <td>#</td>\n",
       "      <td>#</td>\n",
       "      <td>#</td>\n",
       "      <td>#</td>\n",
       "      <td>#</td>\n",
       "      <td>...</td>\n",
       "      <td>.</td>\n",
       "      <td>#</td>\n",
       "      <td>#</td>\n",
       "      <td>#</td>\n",
       "      <td>#</td>\n",
       "      <td>#</td>\n",
       "      <td>#</td>\n",
       "      <td>#</td>\n",
       "      <td>#</td>\n",
       "      <td>#</td>\n",
       "    </tr>\n",
       "    <tr>\n",
       "      <th>116</th>\n",
       "      <td>None</td>\n",
       "      <td>857</td>\n",
       "      <td>#</td>\n",
       "      <td>#</td>\n",
       "      <td>#</td>\n",
       "      <td>#</td>\n",
       "      <td>#</td>\n",
       "      <td>#</td>\n",
       "      <td>#</td>\n",
       "      <td>.</td>\n",
       "      <td>...</td>\n",
       "      <td>.</td>\n",
       "      <td>.</td>\n",
       "      <td>.</td>\n",
       "      <td>.</td>\n",
       "      <td>.</td>\n",
       "      <td>.</td>\n",
       "      <td>.</td>\n",
       "      <td>.</td>\n",
       "      <td>#</td>\n",
       "      <td>#</td>\n",
       "    </tr>\n",
       "    <tr>\n",
       "      <th>122</th>\n",
       "      <td>None</td>\n",
       "      <td>857</td>\n",
       "      <td>#</td>\n",
       "      <td>#</td>\n",
       "      <td>#</td>\n",
       "      <td>#</td>\n",
       "      <td>#</td>\n",
       "      <td>.</td>\n",
       "      <td>.</td>\n",
       "      <td>.</td>\n",
       "      <td>...</td>\n",
       "      <td>.</td>\n",
       "      <td>.</td>\n",
       "      <td>.</td>\n",
       "      <td>.</td>\n",
       "      <td>.</td>\n",
       "      <td>.</td>\n",
       "      <td>.</td>\n",
       "      <td>#</td>\n",
       "      <td>#</td>\n",
       "      <td>#</td>\n",
       "    </tr>\n",
       "    <tr>\n",
       "      <th>125</th>\n",
       "      <td>None</td>\n",
       "      <td>857</td>\n",
       "      <td>#</td>\n",
       "      <td>#</td>\n",
       "      <td>#</td>\n",
       "      <td>#</td>\n",
       "      <td>#</td>\n",
       "      <td>#</td>\n",
       "      <td>#</td>\n",
       "      <td>#</td>\n",
       "      <td>...</td>\n",
       "      <td>#</td>\n",
       "      <td>#</td>\n",
       "      <td>#</td>\n",
       "      <td>#</td>\n",
       "      <td>#</td>\n",
       "      <td>#</td>\n",
       "      <td>#</td>\n",
       "      <td>#</td>\n",
       "      <td>#</td>\n",
       "      <td>#</td>\n",
       "    </tr>\n",
       "    <tr>\n",
       "      <th>129</th>\n",
       "      <td>None</td>\n",
       "      <td>857</td>\n",
       "      <td>#</td>\n",
       "      <td>#</td>\n",
       "      <td>#</td>\n",
       "      <td>#</td>\n",
       "      <td>#</td>\n",
       "      <td>.</td>\n",
       "      <td>.</td>\n",
       "      <td>.</td>\n",
       "      <td>...</td>\n",
       "      <td>#</td>\n",
       "      <td>#</td>\n",
       "      <td>#</td>\n",
       "      <td>#</td>\n",
       "      <td>#</td>\n",
       "      <td>#</td>\n",
       "      <td>#</td>\n",
       "      <td>#</td>\n",
       "      <td>#</td>\n",
       "      <td>#</td>\n",
       "    </tr>\n",
       "    <tr>\n",
       "      <th>140</th>\n",
       "      <td>None</td>\n",
       "      <td>857</td>\n",
       "      <td>#</td>\n",
       "      <td>#</td>\n",
       "      <td>#</td>\n",
       "      <td>#</td>\n",
       "      <td>#</td>\n",
       "      <td>#</td>\n",
       "      <td>#</td>\n",
       "      <td>#</td>\n",
       "      <td>...</td>\n",
       "      <td>.</td>\n",
       "      <td>.</td>\n",
       "      <td>.</td>\n",
       "      <td>.</td>\n",
       "      <td>.</td>\n",
       "      <td>.</td>\n",
       "      <td>.</td>\n",
       "      <td>#</td>\n",
       "      <td>#</td>\n",
       "      <td>#</td>\n",
       "    </tr>\n",
       "    <tr>\n",
       "      <th>144</th>\n",
       "      <td>None</td>\n",
       "      <td>857</td>\n",
       "      <td>#</td>\n",
       "      <td>#</td>\n",
       "      <td>#</td>\n",
       "      <td>.</td>\n",
       "      <td>.</td>\n",
       "      <td>.</td>\n",
       "      <td>.</td>\n",
       "      <td>.</td>\n",
       "      <td>...</td>\n",
       "      <td>#</td>\n",
       "      <td>#</td>\n",
       "      <td>#</td>\n",
       "      <td>#</td>\n",
       "      <td>#</td>\n",
       "      <td>#</td>\n",
       "      <td>#</td>\n",
       "      <td>#</td>\n",
       "      <td>#</td>\n",
       "      <td>#</td>\n",
       "    </tr>\n",
       "    <tr>\n",
       "      <th>159</th>\n",
       "      <td>None</td>\n",
       "      <td>857</td>\n",
       "      <td>#</td>\n",
       "      <td>#</td>\n",
       "      <td>#</td>\n",
       "      <td>#</td>\n",
       "      <td>#</td>\n",
       "      <td>#</td>\n",
       "      <td>#</td>\n",
       "      <td>#</td>\n",
       "      <td>...</td>\n",
       "      <td>#</td>\n",
       "      <td>#</td>\n",
       "      <td>#</td>\n",
       "      <td>#</td>\n",
       "      <td>#</td>\n",
       "      <td>#</td>\n",
       "      <td>#</td>\n",
       "      <td>#</td>\n",
       "      <td>#</td>\n",
       "      <td>#</td>\n",
       "    </tr>\n",
       "    <tr>\n",
       "      <th>174</th>\n",
       "      <td>None</td>\n",
       "      <td>857</td>\n",
       "      <td>#</td>\n",
       "      <td>#</td>\n",
       "      <td>.</td>\n",
       "      <td>.</td>\n",
       "      <td>.</td>\n",
       "      <td>.</td>\n",
       "      <td>.</td>\n",
       "      <td>.</td>\n",
       "      <td>...</td>\n",
       "      <td>#</td>\n",
       "      <td>#</td>\n",
       "      <td>#</td>\n",
       "      <td>#</td>\n",
       "      <td>#</td>\n",
       "      <td>#</td>\n",
       "      <td>#</td>\n",
       "      <td>#</td>\n",
       "      <td>#</td>\n",
       "      <td>#</td>\n",
       "    </tr>\n",
       "    <tr>\n",
       "      <th>175</th>\n",
       "      <td>None</td>\n",
       "      <td>857</td>\n",
       "      <td>#</td>\n",
       "      <td>#</td>\n",
       "      <td>#</td>\n",
       "      <td>#</td>\n",
       "      <td>#</td>\n",
       "      <td>#</td>\n",
       "      <td>#</td>\n",
       "      <td>#</td>\n",
       "      <td>...</td>\n",
       "      <td>.</td>\n",
       "      <td>.</td>\n",
       "      <td>.</td>\n",
       "      <td>.</td>\n",
       "      <td>.</td>\n",
       "      <td>.</td>\n",
       "      <td>.</td>\n",
       "      <td>.</td>\n",
       "      <td>#</td>\n",
       "      <td>#</td>\n",
       "    </tr>\n",
       "    <tr>\n",
       "      <th>197</th>\n",
       "      <td>None</td>\n",
       "      <td>857</td>\n",
       "      <td>#</td>\n",
       "      <td>#</td>\n",
       "      <td>#</td>\n",
       "      <td>#</td>\n",
       "      <td>#</td>\n",
       "      <td>#</td>\n",
       "      <td>#</td>\n",
       "      <td>#</td>\n",
       "      <td>...</td>\n",
       "      <td>.</td>\n",
       "      <td>#</td>\n",
       "      <td>#</td>\n",
       "      <td>#</td>\n",
       "      <td>#</td>\n",
       "      <td>#</td>\n",
       "      <td>#</td>\n",
       "      <td>#</td>\n",
       "      <td>#</td>\n",
       "      <td>#</td>\n",
       "    </tr>\n",
       "    <tr>\n",
       "      <th>219</th>\n",
       "      <td>None</td>\n",
       "      <td>857</td>\n",
       "      <td>#</td>\n",
       "      <td>#</td>\n",
       "      <td>#</td>\n",
       "      <td>#</td>\n",
       "      <td>#</td>\n",
       "      <td>#</td>\n",
       "      <td>#</td>\n",
       "      <td>#</td>\n",
       "      <td>...</td>\n",
       "      <td>.</td>\n",
       "      <td>.</td>\n",
       "      <td>.</td>\n",
       "      <td>.</td>\n",
       "      <td>.</td>\n",
       "      <td>#</td>\n",
       "      <td>#</td>\n",
       "      <td>#</td>\n",
       "      <td>#</td>\n",
       "      <td>#</td>\n",
       "    </tr>\n",
       "    <tr>\n",
       "      <th>226</th>\n",
       "      <td>None</td>\n",
       "      <td>857</td>\n",
       "      <td>#</td>\n",
       "      <td>#</td>\n",
       "      <td>#</td>\n",
       "      <td>#</td>\n",
       "      <td>#</td>\n",
       "      <td>#</td>\n",
       "      <td>#</td>\n",
       "      <td>#</td>\n",
       "      <td>...</td>\n",
       "      <td>.</td>\n",
       "      <td>.</td>\n",
       "      <td>.</td>\n",
       "      <td>.</td>\n",
       "      <td>.</td>\n",
       "      <td>.</td>\n",
       "      <td>.</td>\n",
       "      <td>.</td>\n",
       "      <td>#</td>\n",
       "      <td>#</td>\n",
       "    </tr>\n",
       "    <tr>\n",
       "      <th>243</th>\n",
       "      <td>None</td>\n",
       "      <td>857</td>\n",
       "      <td>#</td>\n",
       "      <td>#</td>\n",
       "      <td>#</td>\n",
       "      <td>#</td>\n",
       "      <td>#</td>\n",
       "      <td>#</td>\n",
       "      <td>#</td>\n",
       "      <td>#</td>\n",
       "      <td>...</td>\n",
       "      <td>.</td>\n",
       "      <td>.</td>\n",
       "      <td>.</td>\n",
       "      <td>.</td>\n",
       "      <td>.</td>\n",
       "      <td>.</td>\n",
       "      <td>.</td>\n",
       "      <td>.</td>\n",
       "      <td>#</td>\n",
       "      <td>#</td>\n",
       "    </tr>\n",
       "    <tr>\n",
       "      <th>246</th>\n",
       "      <td>None</td>\n",
       "      <td>857</td>\n",
       "      <td>#</td>\n",
       "      <td>#</td>\n",
       "      <td>#</td>\n",
       "      <td>#</td>\n",
       "      <td>#</td>\n",
       "      <td>#</td>\n",
       "      <td>#</td>\n",
       "      <td>#</td>\n",
       "      <td>...</td>\n",
       "      <td>.</td>\n",
       "      <td>.</td>\n",
       "      <td>.</td>\n",
       "      <td>.</td>\n",
       "      <td>.</td>\n",
       "      <td>.</td>\n",
       "      <td>.</td>\n",
       "      <td>.</td>\n",
       "      <td>#</td>\n",
       "      <td>#</td>\n",
       "    </tr>\n",
       "  </tbody>\n",
       "</table>\n",
       "<p>24 rows × 62 columns</p>\n",
       "</div>"
      ],
      "text/plain": [
       "     date   id  0  1  2  3  4  5  6  7 ... 50 51 52 53 54 55 56 57 58 59\n",
       "5    None  857  #  #  #  #  #  #  #  # ...  #  #  #  #  #  #  #  #  #  #\n",
       "8    None  857  #  #  #  #  #  #  #  # ...  .  .  #  #  #  #  #  #  #  #\n",
       "12   None  857  #  #  #  #  #  #  #  # ...  #  #  #  #  #  #  #  #  #  #\n",
       "13   None  857  #  #  #  #  #  #  #  # ...  .  .  .  .  .  .  .  .  .  #\n",
       "43   None  857  #  #  #  #  #  #  #  # ...  #  #  #  #  #  #  #  #  #  #\n",
       "61   None  857  #  #  #  #  #  #  #  . ...  #  #  #  .  .  #  #  #  #  #\n",
       "64   None  857  #  #  #  #  #  #  #  # ...  .  .  .  .  #  #  #  #  #  #\n",
       "77   None  857  #  #  #  #  #  #  #  # ...  .  .  .  #  #  #  #  #  #  #\n",
       "86   None  857  #  #  #  #  #  #  #  # ...  #  #  #  #  #  #  #  #  #  #\n",
       "103  None  857  #  #  #  #  #  #  #  # ...  .  #  #  #  #  #  #  #  #  #\n",
       "116  None  857  #  #  #  #  #  #  #  . ...  .  .  .  .  .  .  .  .  #  #\n",
       "122  None  857  #  #  #  #  #  .  .  . ...  .  .  .  .  .  .  .  #  #  #\n",
       "125  None  857  #  #  #  #  #  #  #  # ...  #  #  #  #  #  #  #  #  #  #\n",
       "129  None  857  #  #  #  #  #  .  .  . ...  #  #  #  #  #  #  #  #  #  #\n",
       "140  None  857  #  #  #  #  #  #  #  # ...  .  .  .  .  .  .  .  #  #  #\n",
       "144  None  857  #  #  #  .  .  .  .  . ...  #  #  #  #  #  #  #  #  #  #\n",
       "159  None  857  #  #  #  #  #  #  #  # ...  #  #  #  #  #  #  #  #  #  #\n",
       "174  None  857  #  #  .  .  .  .  .  . ...  #  #  #  #  #  #  #  #  #  #\n",
       "175  None  857  #  #  #  #  #  #  #  # ...  .  .  .  .  .  .  .  .  #  #\n",
       "197  None  857  #  #  #  #  #  #  #  # ...  .  #  #  #  #  #  #  #  #  #\n",
       "219  None  857  #  #  #  #  #  #  #  # ...  .  .  .  .  .  #  #  #  #  #\n",
       "226  None  857  #  #  #  #  #  #  #  # ...  .  .  .  .  .  .  .  .  #  #\n",
       "243  None  857  #  #  #  #  #  #  #  # ...  .  .  .  .  .  .  .  .  #  #\n",
       "246  None  857  #  #  #  #  #  #  #  # ...  .  .  .  .  .  .  .  .  #  #\n",
       "\n",
       "[24 rows x 62 columns]"
      ]
     },
     "execution_count": 380,
     "metadata": {},
     "output_type": "execute_result"
    }
   ],
   "source": [
    "t[t['id']=='857']"
   ]
  },
  {
   "cell_type": "code",
   "execution_count": 382,
   "metadata": {
    "ExecuteTime": {
     "end_time": "2018-12-04T23:41:14.778459",
     "start_time": "2018-12-04T23:41:14.639522"
    },
    "collapsed": false,
    "scrolled": false
   },
   "outputs": [
    {
     "name": "stdout",
     "output_type": "stream",
     "text": [
      "0 0\n",
      "1 0\n",
      "2 1\n",
      "3 2\n",
      "4 2\n",
      "5 4\n",
      "6 4\n",
      "7 6\n",
      "8 6\n",
      "9 6\n",
      "10 6\n",
      "11 6\n",
      "12 6\n",
      "13 6\n",
      "14 6\n",
      "15 7\n",
      "16 8\n",
      "17 8\n",
      "18 8\n",
      "19 8\n",
      "20 9\n",
      "21 9\n",
      "22 9\n",
      "23 10\n",
      "24 10\n",
      "25 10\n",
      "26 12\n",
      "27 12\n",
      "28 12\n",
      "29 13\n",
      "30 14\n",
      "31 14\n",
      "32 14\n",
      "33 15\n",
      "34 16\n",
      "35 16\n",
      "36 16\n",
      "37 16\n",
      "38 16\n",
      "39 17\n",
      "40 16\n",
      "41 16\n",
      "42 16\n",
      "43 16\n",
      "44 15\n",
      "45 17\n",
      "46 18\n",
      "47 17\n",
      "48 16\n",
      "49 17\n",
      "50 14\n",
      "51 12\n",
      "52 11\n",
      "53 11\n",
      "54 10\n",
      "55 8\n",
      "56 8\n",
      "57 6\n",
      "58 1\n",
      "59 0\n"
     ]
    },
    {
     "data": {
      "text/plain": [
       "18"
      ]
     },
     "execution_count": 382,
     "metadata": {},
     "output_type": "execute_result"
    }
   ],
   "source": [
    "list = []\n",
    "for x in [str(x) for x in range(0, 60)]:\n",
    "    list.append(sum(t[t['id']=='857'][x].apply(lambda x: x =='.')))\n",
    "    print(x, sum(t[t['id']=='857'][x].apply(lambda x: x == '.')))\n",
    "max(list)"
   ]
  },
  {
   "cell_type": "code",
   "execution_count": 383,
   "metadata": {
    "ExecuteTime": {
     "end_time": "2018-12-04T23:41:27.275698",
     "start_time": "2018-12-04T23:41:27.271823"
    },
    "collapsed": false
   },
   "outputs": [
    {
     "data": {
      "text/plain": [
       "39422"
      ]
     },
     "execution_count": 383,
     "metadata": {},
     "output_type": "execute_result"
    }
   ],
   "source": [
    "46*857"
   ]
  },
  {
   "cell_type": "markdown",
   "metadata": {
    "ExecuteTime": {
     "end_time": "2018-12-04T23:41:59.391046",
     "start_time": "2018-12-04T23:41:59.307348"
    }
   },
   "source": [
    "### part 2"
   ]
  },
  {
   "cell_type": "code",
   "execution_count": 386,
   "metadata": {
    "ExecuteTime": {
     "end_time": "2018-12-04T23:45:39.476077",
     "start_time": "2018-12-04T23:45:39.413521"
    },
    "collapsed": false
   },
   "outputs": [],
   "source": [
    "def is_asleep(x):\n",
    "    return int(x=='.')\n",
    "\n",
    "for x in t.columns[2:]:\n",
    "    t['is_'+x] = t[x].apply(lambda x: is_asleep(x))"
   ]
  },
  {
   "cell_type": "code",
   "execution_count": 389,
   "metadata": {
    "ExecuteTime": {
     "end_time": "2018-12-04T23:46:50.351151",
     "start_time": "2018-12-04T23:46:50.322606"
    },
    "collapsed": false
   },
   "outputs": [
    {
     "data": {
      "text/html": [
       "<div>\n",
       "<style scoped>\n",
       "    .dataframe tbody tr th:only-of-type {\n",
       "        vertical-align: middle;\n",
       "    }\n",
       "\n",
       "    .dataframe tbody tr th {\n",
       "        vertical-align: top;\n",
       "    }\n",
       "\n",
       "    .dataframe thead th {\n",
       "        text-align: right;\n",
       "    }\n",
       "</style>\n",
       "<table border=\"1\" class=\"dataframe\">\n",
       "  <thead>\n",
       "    <tr style=\"text-align: right;\">\n",
       "      <th></th>\n",
       "      <th>date</th>\n",
       "      <th>id</th>\n",
       "      <th>0</th>\n",
       "      <th>1</th>\n",
       "      <th>2</th>\n",
       "      <th>3</th>\n",
       "      <th>4</th>\n",
       "      <th>5</th>\n",
       "      <th>6</th>\n",
       "      <th>7</th>\n",
       "      <th>...</th>\n",
       "      <th>is_50</th>\n",
       "      <th>is_51</th>\n",
       "      <th>is_52</th>\n",
       "      <th>is_53</th>\n",
       "      <th>is_54</th>\n",
       "      <th>is_55</th>\n",
       "      <th>is_56</th>\n",
       "      <th>is_57</th>\n",
       "      <th>is_58</th>\n",
       "      <th>is_59</th>\n",
       "    </tr>\n",
       "  </thead>\n",
       "  <tbody>\n",
       "    <tr>\n",
       "      <th>0</th>\n",
       "      <td>None</td>\n",
       "      <td>2963</td>\n",
       "      <td>#</td>\n",
       "      <td>#</td>\n",
       "      <td>#</td>\n",
       "      <td>#</td>\n",
       "      <td>#</td>\n",
       "      <td>#</td>\n",
       "      <td>#</td>\n",
       "      <td>#</td>\n",
       "      <td>...</td>\n",
       "      <td>0</td>\n",
       "      <td>0</td>\n",
       "      <td>0</td>\n",
       "      <td>0</td>\n",
       "      <td>0</td>\n",
       "      <td>0</td>\n",
       "      <td>0</td>\n",
       "      <td>0</td>\n",
       "      <td>0</td>\n",
       "      <td>0</td>\n",
       "    </tr>\n",
       "    <tr>\n",
       "      <th>1</th>\n",
       "      <td>None</td>\n",
       "      <td>89</td>\n",
       "      <td>#</td>\n",
       "      <td>#</td>\n",
       "      <td>#</td>\n",
       "      <td>#</td>\n",
       "      <td>#</td>\n",
       "      <td>#</td>\n",
       "      <td>#</td>\n",
       "      <td>#</td>\n",
       "      <td>...</td>\n",
       "      <td>0</td>\n",
       "      <td>0</td>\n",
       "      <td>0</td>\n",
       "      <td>0</td>\n",
       "      <td>0</td>\n",
       "      <td>0</td>\n",
       "      <td>0</td>\n",
       "      <td>0</td>\n",
       "      <td>0</td>\n",
       "      <td>0</td>\n",
       "    </tr>\n",
       "    <tr>\n",
       "      <th>2</th>\n",
       "      <td>None</td>\n",
       "      <td>3137</td>\n",
       "      <td>#</td>\n",
       "      <td>#</td>\n",
       "      <td>#</td>\n",
       "      <td>#</td>\n",
       "      <td>#</td>\n",
       "      <td>#</td>\n",
       "      <td>#</td>\n",
       "      <td>#</td>\n",
       "      <td>...</td>\n",
       "      <td>1</td>\n",
       "      <td>1</td>\n",
       "      <td>1</td>\n",
       "      <td>1</td>\n",
       "      <td>1</td>\n",
       "      <td>1</td>\n",
       "      <td>0</td>\n",
       "      <td>0</td>\n",
       "      <td>0</td>\n",
       "      <td>0</td>\n",
       "    </tr>\n",
       "    <tr>\n",
       "      <th>3</th>\n",
       "      <td>None</td>\n",
       "      <td>3511</td>\n",
       "      <td>#</td>\n",
       "      <td>#</td>\n",
       "      <td>#</td>\n",
       "      <td>#</td>\n",
       "      <td>#</td>\n",
       "      <td>#</td>\n",
       "      <td>#</td>\n",
       "      <td>#</td>\n",
       "      <td>...</td>\n",
       "      <td>1</td>\n",
       "      <td>1</td>\n",
       "      <td>1</td>\n",
       "      <td>1</td>\n",
       "      <td>1</td>\n",
       "      <td>1</td>\n",
       "      <td>0</td>\n",
       "      <td>0</td>\n",
       "      <td>0</td>\n",
       "      <td>0</td>\n",
       "    </tr>\n",
       "    <tr>\n",
       "      <th>4</th>\n",
       "      <td>None</td>\n",
       "      <td>2251</td>\n",
       "      <td>#</td>\n",
       "      <td>#</td>\n",
       "      <td>#</td>\n",
       "      <td>#</td>\n",
       "      <td>#</td>\n",
       "      <td>#</td>\n",
       "      <td>#</td>\n",
       "      <td>#</td>\n",
       "      <td>...</td>\n",
       "      <td>1</td>\n",
       "      <td>1</td>\n",
       "      <td>1</td>\n",
       "      <td>1</td>\n",
       "      <td>1</td>\n",
       "      <td>1</td>\n",
       "      <td>0</td>\n",
       "      <td>0</td>\n",
       "      <td>0</td>\n",
       "      <td>0</td>\n",
       "    </tr>\n",
       "  </tbody>\n",
       "</table>\n",
       "<p>5 rows × 122 columns</p>\n",
       "</div>"
      ],
      "text/plain": [
       "   date    id  0  1  2  3  4  5  6  7  ...  is_50 is_51 is_52 is_53 is_54  \\\n",
       "0  None  2963  #  #  #  #  #  #  #  #  ...      0     0     0     0     0   \n",
       "1  None    89  #  #  #  #  #  #  #  #  ...      0     0     0     0     0   \n",
       "2  None  3137  #  #  #  #  #  #  #  #  ...      1     1     1     1     1   \n",
       "3  None  3511  #  #  #  #  #  #  #  #  ...      1     1     1     1     1   \n",
       "4  None  2251  #  #  #  #  #  #  #  #  ...      1     1     1     1     1   \n",
       "\n",
       "  is_55 is_56 is_57 is_58 is_59  \n",
       "0     0     0     0     0     0  \n",
       "1     0     0     0     0     0  \n",
       "2     1     0     0     0     0  \n",
       "3     1     0     0     0     0  \n",
       "4     1     0     0     0     0  \n",
       "\n",
       "[5 rows x 122 columns]"
      ]
     },
     "execution_count": 389,
     "metadata": {},
     "output_type": "execute_result"
    }
   ],
   "source": [
    "t.head()"
   ]
  },
  {
   "cell_type": "code",
   "execution_count": null,
   "metadata": {
    "ExecuteTime": {
     "end_time": "2018-12-04T23:50:05.876928",
     "start_time": "2018-12-04T23:50:05.789473"
    },
    "collapsed": false
   },
   "outputs": [],
   "source": []
  },
  {
   "cell_type": "code",
   "execution_count": 395,
   "metadata": {
    "ExecuteTime": {
     "end_time": "2018-12-04T23:48:24.859116",
     "start_time": "2018-12-04T23:48:24.852845"
    },
    "collapsed": false
   },
   "outputs": [
    {
     "data": {
      "text/plain": [
       "1      0\n",
       "6      0\n",
       "149    0\n",
       "151    1\n",
       "162    0\n",
       "177    0\n",
       "Name: is_0, dtype: int64"
      ]
     },
     "execution_count": 395,
     "metadata": {},
     "output_type": "execute_result"
    }
   ],
   "source": [
    "t[t['id']=='89']['is_0']"
   ]
  },
  {
   "cell_type": "code",
   "execution_count": 400,
   "metadata": {
    "ExecuteTime": {
     "end_time": "2018-12-04T23:52:39.133097",
     "start_time": "2018-12-04T23:52:35.157033"
    },
    "collapsed": false
   },
   "outputs": [],
   "source": [
    "asleep_per_minute = pandas.DataFrame(columns = ['id', 'minute','minutes_aslee'])\n",
    "\n",
    "for id in t['id'].unique():\n",
    "    for column in t.columns[62:]:\n",
    "        minutes_asleep = sum(t[t['id']==id][column])\n",
    "        asleep_per_minute.loc[len(asleep_per_minute)] = [id, column, minutes_asleep]"
   ]
  },
  {
   "cell_type": "code",
   "execution_count": 403,
   "metadata": {
    "ExecuteTime": {
     "end_time": "2018-12-04T23:53:07.856938",
     "start_time": "2018-12-04T23:53:07.683999"
    },
    "collapsed": false
   },
   "outputs": [
    {
     "data": {
      "text/plain": [
       "id    minute\n",
       "1009  is_0       0\n",
       "2963  is_4       0\n",
       "      is_3       0\n",
       "      is_2       0\n",
       "      is_1       0\n",
       "      is_0       0\n",
       "2473  is_59      0\n",
       "      is_58      0\n",
       "2963  is_5       0\n",
       "2411  is_59      0\n",
       "2251  is_6       0\n",
       "      is_59      0\n",
       "      is_5       0\n",
       "      is_4       0\n",
       "      is_3       0\n",
       "      is_2       0\n",
       "      is_1       0\n",
       "      is_7       0\n",
       "      is_0       0\n",
       "2963  is_59      0\n",
       "3137  is_57      0\n",
       "3469  is_12      0\n",
       "      is_11      0\n",
       "      is_10      0\n",
       "      is_1       0\n",
       "      is_0       0\n",
       "3347  is_59      0\n",
       "      is_58      0\n",
       "3137  is_0       0\n",
       "3347  is_57      0\n",
       "                ..\n",
       "3259  is_25     13\n",
       "1697  is_45     13\n",
       "3259  is_29     13\n",
       "1723  is_40     14\n",
       "857   is_30     14\n",
       "      is_31     14\n",
       "      is_32     14\n",
       "      is_50     14\n",
       "      is_33     15\n",
       "      is_44     15\n",
       "      is_38     16\n",
       "1723  is_35     16\n",
       "857   is_34     16\n",
       "      is_43     16\n",
       "      is_42     16\n",
       "      is_41     16\n",
       "      is_40     16\n",
       "      is_35     16\n",
       "      is_48     16\n",
       "      is_37     16\n",
       "      is_36     16\n",
       "1723  is_36     17\n",
       "857   is_47     17\n",
       "      is_49     17\n",
       "      is_45     17\n",
       "      is_39     17\n",
       "      is_46     18\n",
       "1723  is_37     18\n",
       "      is_39     19\n",
       "      is_38     20\n",
       "Name: minutes_aslee, Length: 1320, dtype: int64"
      ]
     },
     "execution_count": 403,
     "metadata": {},
     "output_type": "execute_result"
    }
   ],
   "source": [
    "asleep_per_minute.groupby(['id','minute'])['minutes_aslee'].sum().sort_values()"
   ]
  },
  {
   "cell_type": "code",
   "execution_count": 404,
   "metadata": {
    "ExecuteTime": {
     "end_time": "2018-12-04T23:53:50.332731",
     "start_time": "2018-12-04T23:53:50.329065"
    },
    "collapsed": false
   },
   "outputs": [
    {
     "data": {
      "text/plain": [
       "65474"
      ]
     },
     "execution_count": 404,
     "metadata": {},
     "output_type": "execute_result"
    }
   ],
   "source": [
    "1723*38"
   ]
  }
 ],
 "metadata": {
  "anaconda-cloud": {},
  "kernelspec": {
   "display_name": "Python [default]",
   "language": "python",
   "name": "python3"
  },
  "language_info": {
   "codemirror_mode": {
    "name": "ipython",
    "version": 3
   },
   "file_extension": ".py",
   "mimetype": "text/x-python",
   "name": "python",
   "nbconvert_exporter": "python",
   "pygments_lexer": "ipython3",
   "version": "3.5.4"
  },
  "toc": {
   "colors": {
    "hover_highlight": "#DAA520",
    "running_highlight": "#FF0000",
    "selected_highlight": "#FFD700"
   },
   "moveMenuLeft": true,
   "nav_menu": {
    "height": "66px",
    "width": "252px"
   },
   "navigate_menu": true,
   "number_sections": true,
   "sideBar": true,
   "threshold": 4,
   "toc_cell": false,
   "toc_section_display": "block",
   "toc_window_display": false
  }
 },
 "nbformat": 4,
 "nbformat_minor": 2
}
