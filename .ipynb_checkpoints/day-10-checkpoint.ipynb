{
 "cells": [
  {
   "cell_type": "code",
   "execution_count": 9,
   "metadata": {
    "ExecuteTime": {
     "end_time": "2018-12-11T09:41:39.549217",
     "start_time": "2018-12-11T09:41:39.543918"
    },
    "collapsed": true
   },
   "outputs": [],
   "source": [
    "import pandas as pd\n",
    "import numpy as np\n",
    "import matplotlib.pylab as plt\n",
    "%matplotlib inline"
   ]
  },
  {
   "cell_type": "code",
   "execution_count": 2,
   "metadata": {
    "ExecuteTime": {
     "end_time": "2018-12-11T09:40:43.364421",
     "start_time": "2018-12-11T09:40:43.317058"
    },
    "collapsed": false
   },
   "outputs": [
    {
     "data": {
      "text/html": [
       "<div>\n",
       "<style scoped>\n",
       "    .dataframe tbody tr th:only-of-type {\n",
       "        vertical-align: middle;\n",
       "    }\n",
       "\n",
       "    .dataframe tbody tr th {\n",
       "        vertical-align: top;\n",
       "    }\n",
       "\n",
       "    .dataframe thead th {\n",
       "        text-align: right;\n",
       "    }\n",
       "</style>\n",
       "<table border=\"1\" class=\"dataframe\">\n",
       "  <thead>\n",
       "    <tr style=\"text-align: right;\">\n",
       "      <th></th>\n",
       "      <th>x</th>\n",
       "      <th>y</th>\n",
       "      <th>z</th>\n",
       "    </tr>\n",
       "  </thead>\n",
       "  <tbody>\n",
       "    <tr>\n",
       "      <th>0</th>\n",
       "      <td>position=&lt; 21188</td>\n",
       "      <td>31669&gt; velocity=&lt;-2</td>\n",
       "      <td>-3&gt;</td>\n",
       "    </tr>\n",
       "    <tr>\n",
       "      <th>1</th>\n",
       "      <td>position=&lt;-10416</td>\n",
       "      <td>-31455&gt; velocity=&lt; 1</td>\n",
       "      <td>3&gt;</td>\n",
       "    </tr>\n",
       "    <tr>\n",
       "      <th>2</th>\n",
       "      <td>position=&lt; 21144</td>\n",
       "      <td>-31450&gt; velocity=&lt;-2</td>\n",
       "      <td>3&gt;</td>\n",
       "    </tr>\n",
       "    <tr>\n",
       "      <th>3</th>\n",
       "      <td>position=&lt; 42218</td>\n",
       "      <td>21146&gt; velocity=&lt;-4</td>\n",
       "      <td>-2&gt;</td>\n",
       "    </tr>\n",
       "    <tr>\n",
       "      <th>4</th>\n",
       "      <td>position=&lt; 42223</td>\n",
       "      <td>10633&gt; velocity=&lt;-4</td>\n",
       "      <td>-1&gt;</td>\n",
       "    </tr>\n",
       "  </tbody>\n",
       "</table>\n",
       "</div>"
      ],
      "text/plain": [
       "                  x                      y     z\n",
       "0  position=< 21188    31669> velocity=<-2   -3>\n",
       "1  position=<-10416   -31455> velocity=< 1    3>\n",
       "2  position=< 21144   -31450> velocity=<-2    3>\n",
       "3  position=< 42218    21146> velocity=<-4   -2>\n",
       "4  position=< 42223    10633> velocity=<-4   -1>"
      ]
     },
     "execution_count": 2,
     "metadata": {},
     "output_type": "execute_result"
    }
   ],
   "source": [
    "t = pd.read_csv('quiz10.txt', names = ['x','y','z'])\n",
    "t.head()"
   ]
  },
  {
   "cell_type": "code",
   "execution_count": 3,
   "metadata": {
    "ExecuteTime": {
     "end_time": "2018-12-11T09:40:44.824869",
     "start_time": "2018-12-11T09:40:44.819762"
    },
    "collapsed": true
   },
   "outputs": [],
   "source": [
    "def get_position(x,y,z):\n",
    "    pos_x = int(x[x.find('<')+1:].replace(' ',''))\n",
    "    pos_y = int(y[:y.find('>')])\n",
    "    velocity_x = int(y[y.find('<')+1:])\n",
    "    velocity_y = int(z[:-1])\n",
    "\n",
    "    return pos_x, pos_y, velocity_x, velocity_y"
   ]
  },
  {
   "cell_type": "code",
   "execution_count": 75,
   "metadata": {
    "ExecuteTime": {
     "end_time": "2018-12-11T10:15:19.162023",
     "start_time": "2018-12-11T10:15:19.154809"
    },
    "collapsed": true
   },
   "outputs": [],
   "source": []
  },
  {
   "cell_type": "code",
   "execution_count": 78,
   "metadata": {
    "ExecuteTime": {
     "end_time": "2018-12-11T10:15:34.174317",
     "start_time": "2018-12-11T10:15:33.730402"
    },
    "collapsed": false
   },
   "outputs": [],
   "source": []
  },
  {
   "cell_type": "code",
   "execution_count": 134,
   "metadata": {
    "ExecuteTime": {
     "end_time": "2018-12-11T10:31:44.110090",
     "start_time": "2018-12-11T10:31:03.550179"
    },
    "collapsed": false,
    "scrolled": false
   },
   "outputs": [
    {
     "name": "stdout",
     "output_type": "stream",
     "text": [
      "10520 61 9\n"
     ]
    }
   ],
   "source": [
    "df = pd.DataFrame(columns=['x','y', 'vel_x', 'vel_y'])\n",
    "velocity = dict()\n",
    "\n",
    "for i in range(len(t)):\n",
    "    x,y,vel_x,vel_y = get_position(t['x'][i],t['y'][i],t['z'][i])\n",
    "    df.loc[i] = [x,y, vel_x, vel_y]\n",
    "    velocity[i] = [vel_x, vel_y]\n",
    "\n",
    "min_length = 10**8\n",
    "min_height = 10**8\n",
    "min_i = -1\n",
    "\n",
    "for k in range(30000):\n",
    "    df['x'] = df['x'] + df['vel_x']\n",
    "    df['y'] = df['y'] + df['vel_y']\n",
    "    \n",
    "#     plt.scatter(df['y'], df['x'])\n",
    "#     plt.show()\n",
    "    \n",
    "    length = df['x'].max() - df['x'].min()\n",
    "    height = df['y'].max() - df['y'].min()\n",
    "    \n",
    "    if length<min_length:\n",
    "        min_length = length\n",
    "        min_height = height\n",
    "        min_i = k\n",
    "print(min_i, min_length, min_height)\n"
   ]
  },
  {
   "cell_type": "code",
   "execution_count": 135,
   "metadata": {
    "ExecuteTime": {
     "end_time": "2018-12-11T10:31:57.080091",
     "start_time": "2018-12-11T10:31:56.621917"
    },
    "collapsed": true
   },
   "outputs": [],
   "source": [
    "df = pd.DataFrame(columns=['x','y', 'vel_x', 'vel_y'])\n",
    "velocity = dict()\n",
    "\n",
    "for i in range(len(t)):\n",
    "    x,y,vel_x,vel_y = get_position(t['x'][i],t['y'][i],t['z'][i])\n",
    "    df.loc[i] = [x,y, vel_x, vel_y]\n",
    "    velocity[i] = [vel_x, vel_y]"
   ]
  },
  {
   "cell_type": "code",
   "execution_count": 136,
   "metadata": {
    "ExecuteTime": {
     "end_time": "2018-12-11T10:32:10.321240",
     "start_time": "2018-12-11T10:32:10.316870"
    },
    "collapsed": false
   },
   "outputs": [],
   "source": [
    "df['x'] = df['x'] + 10520*df['vel_x']\n",
    "df['y'] = df['y'] + 10520*df['vel_y']\n"
   ]
  },
  {
   "cell_type": "code",
   "execution_count": 140,
   "metadata": {
    "ExecuteTime": {
     "end_time": "2018-12-11T10:32:36.602041",
     "start_time": "2018-12-11T10:32:36.597242"
    },
    "collapsed": false
   },
   "outputs": [
    {
     "data": {
      "text/plain": [
       "19"
      ]
     },
     "execution_count": 140,
     "metadata": {},
     "output_type": "execute_result"
    }
   ],
   "source": [
    "df['y'].max()-df['y'].min()"
   ]
  },
  {
   "cell_type": "code",
   "execution_count": 142,
   "metadata": {
    "ExecuteTime": {
     "end_time": "2018-12-11T10:33:54.190933",
     "start_time": "2018-12-11T10:33:54.082898"
    },
    "collapsed": false
   },
   "outputs": [],
   "source": []
  },
  {
   "cell_type": "code",
   "execution_count": 148,
   "metadata": {
    "ExecuteTime": {
     "end_time": "2018-12-11T10:34:33.103705",
     "start_time": "2018-12-11T10:34:33.098732"
    },
    "collapsed": false
   },
   "outputs": [
    {
     "data": {
      "text/plain": [
       "69"
      ]
     },
     "execution_count": 148,
     "metadata": {},
     "output_type": "execute_result"
    }
   ],
   "source": [
    "df['y'].max()-df['y'].min()\n",
    "df['x'].max()-df['x'].min()"
   ]
  },
  {
   "cell_type": "code",
   "execution_count": 154,
   "metadata": {
    "ExecuteTime": {
     "end_time": "2018-12-11T10:37:57.391313",
     "start_time": "2018-12-11T10:37:57.387645"
    },
    "collapsed": false
   },
   "outputs": [
    {
     "data": {
      "text/plain": [
       "10520"
      ]
     },
     "execution_count": 154,
     "metadata": {},
     "output_type": "execute_result"
    }
   ],
   "source": [
    "min_i"
   ]
  },
  {
   "cell_type": "code",
   "execution_count": 153,
   "metadata": {
    "ExecuteTime": {
     "end_time": "2018-12-11T10:36:59.456063",
     "start_time": "2018-12-11T10:36:59.439532"
    },
    "collapsed": false
   },
   "outputs": [
    {
     "name": "stdout",
     "output_type": "stream",
     "text": [
      "*    *  *****   ******  *    *  *    *  *    *  *    *  *     \n",
      "*    *  *    *  *       *    *  *    *  *    *  *   *   *     \n",
      " *  *   *    *  *        *  *    *  *    *  *   *  *    *     \n",
      " *  *   *    *  *        *  *    *  *    *  *   * *     *     \n",
      "  **    *****   *****     **      **      **    **      *     \n",
      "  **    *       *         **      **      **    **      *     \n",
      " *  *   *       *        *  *    *  *    *  *   * *     *     \n",
      " *  *   *       *        *  *    *  *    *  *   *  *    *     \n",
      "*    *  *       *       *    *  *    *  *    *  *   *   *     \n",
      "*    *  *       *       *    *  *    *  *    *  *    *  ******\n"
     ]
    }
   ],
   "source": [
    "# df['x'] = df['x'] + df['vel_x']\n",
    "# df['y'] = df['y'] + df['vel_y']\n",
    "\n",
    "# df['x'] = df['x'].apply(lambda x: x-df['x'].min())\n",
    "# df['y'] = df['y'].apply(lambda x: x-df['y'].min())\n",
    "\n",
    "map = [[' '] * (df['x'].max()+1) for j in range(df['y'].max()+1)]\n",
    "for i in range(len(df)):\n",
    "    map[df['y'][i]][df['x'][i]] = '*'\n",
    "    \n",
    "for m in map:\n",
    "    print(''.join(m))"
   ]
  },
  {
   "cell_type": "code",
   "execution_count": 56,
   "metadata": {
    "ExecuteTime": {
     "end_time": "2018-12-10T17:14:51.949532",
     "start_time": "2018-12-10T17:14:51.941891"
    },
    "collapsed": false
   },
   "outputs": [],
   "source": [
    "res = 1000\n",
    "matrix = np.chararray( (int((df['x'].max()-df['x'].min())/res), int((df['y'].max()-df['y'].min())/res)) )\n",
    "matrix[:] = ''\n",
    "\n",
    "\n",
    "for i in range(int(len(df)/1000)):\n",
    "    matrix[df['x'][i]*1000][-df['y'][i]*1000] = '#'"
   ]
  },
  {
   "cell_type": "code",
   "execution_count": null,
   "metadata": {
    "ExecuteTime": {
     "start_time": "2018-12-10T22:53:29.391Z"
    },
    "collapsed": false
   },
   "outputs": [],
   "source": [
    "import numpy as np\n",
    "import matplotlib.pyplot as plt\n",
    "\n",
    "INPUT = np.array( [[df['x'][i], df['y'][i]] for i in range(len(df))])\n",
    "\n",
    "# get ranges\n",
    "xmin = df['x'].min()\n",
    "xmax = df['x'].max()\n",
    "ymin = df['y'].min()\n",
    "ymax = df['y'].max()\n",
    "\n",
    "# create array for image : zmax+1 is the default value\n",
    "shape = (xmax-xmin+1,ymax-ymin+1)\n",
    "img = np.ma.array(np.ones(shape)*(zmax+1))\n",
    "\n",
    "for inp in INPUT:\n",
    "    img[inp[0]-xmin,inp[1]-ymin]=inp[2]\n",
    "\n",
    "# set mask on default value\n",
    "img.mask = (img==zmax+1)\n",
    "\n",
    "# set a gray background for test\n",
    "img_bg_test =  np.zeros(shape)\n",
    "cmap_bg_test = plt.get_cmap('gray')\n",
    "plt.imshow(img_bg_test,cmap=cmap_bg_test,interpolation='none')\n",
    "\n",
    "# plot\n",
    "cmap = plt.get_cmap('jet')\n",
    "plt.imshow(img,cmap=cmap,interpolation='none',vmin=zmin,vmax=zmax)\n",
    "plt.colorbar()\n",
    "\n",
    "plt.imsave(\"test.png\",img)\n",
    "plt.show()\n",
    "plt.close()"
   ]
  },
  {
   "cell_type": "code",
   "execution_count": 12,
   "metadata": {
    "ExecuteTime": {
     "end_time": "2018-12-10T18:01:01.442999",
     "start_time": "2018-12-10T18:01:01.111242"
    },
    "collapsed": false
   },
   "outputs": [
    {
     "name": "stderr",
     "output_type": "stream",
     "text": [
      "//anaconda/lib/python3.5/site-packages/ipykernel/__main__.py:6: DeprecationWarning: This function is deprecated. Please call randint(0, 255 + 1) instead\n"
     ]
    },
    {
     "ename": "TypeError",
     "evalue": "Cannot handle this data type",
     "output_type": "error",
     "traceback": [
      "\u001b[0;31m---------------------------------------------------------------------------\u001b[0m",
      "\u001b[0;31mKeyError\u001b[0m                                  Traceback (most recent call last)",
      "\u001b[0;32m//anaconda/lib/python3.5/site-packages/PIL/Image.py\u001b[0m in \u001b[0;36mfromarray\u001b[0;34m(obj, mode)\u001b[0m\n\u001b[1;32m   2166\u001b[0m             \u001b[0mtypekey\u001b[0m \u001b[0;34m=\u001b[0m \u001b[0;34m(\u001b[0m\u001b[0;36m1\u001b[0m\u001b[0;34m,\u001b[0m \u001b[0;36m1\u001b[0m\u001b[0;34m)\u001b[0m \u001b[0;34m+\u001b[0m \u001b[0mshape\u001b[0m\u001b[0;34m[\u001b[0m\u001b[0;36m2\u001b[0m\u001b[0;34m:\u001b[0m\u001b[0;34m]\u001b[0m\u001b[0;34m,\u001b[0m \u001b[0marr\u001b[0m\u001b[0;34m[\u001b[0m\u001b[0;34m'typestr'\u001b[0m\u001b[0;34m]\u001b[0m\u001b[0;34m\u001b[0m\u001b[0m\n\u001b[0;32m-> 2167\u001b[0;31m             \u001b[0mmode\u001b[0m\u001b[0;34m,\u001b[0m \u001b[0mrawmode\u001b[0m \u001b[0;34m=\u001b[0m \u001b[0m_fromarray_typemap\u001b[0m\u001b[0;34m[\u001b[0m\u001b[0mtypekey\u001b[0m\u001b[0;34m]\u001b[0m\u001b[0;34m\u001b[0m\u001b[0m\n\u001b[0m\u001b[1;32m   2168\u001b[0m         \u001b[0;32mexcept\u001b[0m \u001b[0mKeyError\u001b[0m\u001b[0;34m:\u001b[0m\u001b[0;34m\u001b[0m\u001b[0m\n",
      "\u001b[0;31mKeyError\u001b[0m: ((1, 1, 1), '|u1')",
      "\nDuring handling of the above exception, another exception occurred:\n",
      "\u001b[0;31mTypeError\u001b[0m                                 Traceback (most recent call last)",
      "\u001b[0;32m<ipython-input-12-6bfd8a07abc0>\u001b[0m in \u001b[0;36m<module>\u001b[0;34m()\u001b[0m\n\u001b[1;32m     11\u001b[0m \u001b[0;34m\u001b[0m\u001b[0m\n\u001b[1;32m     12\u001b[0m \u001b[0;34m\u001b[0m\u001b[0m\n\u001b[0;32m---> 13\u001b[0;31m \u001b[0mr\u001b[0m \u001b[0;34m=\u001b[0m \u001b[0mrandom_img\u001b[0m\u001b[0;34m(\u001b[0m\u001b[0;34m'random.png'\u001b[0m\u001b[0;34m,\u001b[0m \u001b[0;36m5000\u001b[0m\u001b[0;34m,\u001b[0m \u001b[0;36m5000\u001b[0m\u001b[0;34m)\u001b[0m\u001b[0;34m\u001b[0m\u001b[0m\n\u001b[0m",
      "\u001b[0;32m<ipython-input-12-6bfd8a07abc0>\u001b[0m in \u001b[0;36mrandom_img\u001b[0;34m(output, width, height)\u001b[0m\n\u001b[1;32m      7\u001b[0m \u001b[0;34m\u001b[0m\u001b[0m\n\u001b[1;32m      8\u001b[0m     \u001b[0marray\u001b[0m \u001b[0;34m=\u001b[0m \u001b[0mnp\u001b[0m\u001b[0;34m.\u001b[0m\u001b[0marray\u001b[0m\u001b[0;34m(\u001b[0m\u001b[0marray\u001b[0m\u001b[0;34m,\u001b[0m \u001b[0mdtype\u001b[0m\u001b[0;34m=\u001b[0m\u001b[0mnp\u001b[0m\u001b[0;34m.\u001b[0m\u001b[0muint8\u001b[0m\u001b[0;34m)\u001b[0m\u001b[0;34m\u001b[0m\u001b[0m\n\u001b[0;32m----> 9\u001b[0;31m     \u001b[0mimg\u001b[0m \u001b[0;34m=\u001b[0m \u001b[0mImage\u001b[0m\u001b[0;34m.\u001b[0m\u001b[0mfromarray\u001b[0m\u001b[0;34m(\u001b[0m\u001b[0marray\u001b[0m\u001b[0;34m)\u001b[0m\u001b[0;34m\u001b[0m\u001b[0m\n\u001b[0m\u001b[1;32m     10\u001b[0m     \u001b[0mimg\u001b[0m\u001b[0;34m.\u001b[0m\u001b[0msave\u001b[0m\u001b[0;34m(\u001b[0m\u001b[0moutput\u001b[0m\u001b[0;34m)\u001b[0m\u001b[0;34m\u001b[0m\u001b[0m\n\u001b[1;32m     11\u001b[0m \u001b[0;34m\u001b[0m\u001b[0m\n",
      "\u001b[0;32m//anaconda/lib/python3.5/site-packages/PIL/Image.py\u001b[0m in \u001b[0;36mfromarray\u001b[0;34m(obj, mode)\u001b[0m\n\u001b[1;32m   2168\u001b[0m         \u001b[0;32mexcept\u001b[0m \u001b[0mKeyError\u001b[0m\u001b[0;34m:\u001b[0m\u001b[0;34m\u001b[0m\u001b[0m\n\u001b[1;32m   2169\u001b[0m             \u001b[0;31m# print typekey\u001b[0m\u001b[0;34m\u001b[0m\u001b[0;34m\u001b[0m\u001b[0m\n\u001b[0;32m-> 2170\u001b[0;31m             \u001b[0;32mraise\u001b[0m \u001b[0mTypeError\u001b[0m\u001b[0;34m(\u001b[0m\u001b[0;34m\"Cannot handle this data type\"\u001b[0m\u001b[0;34m)\u001b[0m\u001b[0;34m\u001b[0m\u001b[0m\n\u001b[0m\u001b[1;32m   2171\u001b[0m     \u001b[0;32melse\u001b[0m\u001b[0;34m:\u001b[0m\u001b[0;34m\u001b[0m\u001b[0m\n\u001b[1;32m   2172\u001b[0m         \u001b[0mrawmode\u001b[0m \u001b[0;34m=\u001b[0m \u001b[0mmode\u001b[0m\u001b[0;34m\u001b[0m\u001b[0m\n",
      "\u001b[0;31mTypeError\u001b[0m: Cannot handle this data type"
     ]
    }
   ],
   "source": [
    "from PIL import Image\n",
    "import numpy as np\n",
    "\n",
    "def random_img(output, width, height):\n",
    "\n",
    "    array = np.random.random_integers(0,255, (width,height,3))  \n",
    "\n",
    "    array = np.array(array, dtype=np.uint8)\n",
    "    img = Image.fromarray(array)\n",
    "    img.save(output)\n",
    "\n",
    "\n",
    "r = random_img('random.png', 5000, 5000)"
   ]
  },
  {
   "cell_type": "code",
   "execution_count": 8,
   "metadata": {
    "ExecuteTime": {
     "end_time": "2018-12-10T17:59:49.191241",
     "start_time": "2018-12-10T17:59:49.187073"
    },
    "collapsed": false
   },
   "outputs": [
    {
     "data": {
      "text/plain": [
       "NoneType"
      ]
     },
     "execution_count": 8,
     "metadata": {},
     "output_type": "execute_result"
    }
   ],
   "source": [
    "type(r)"
   ]
  }
 ],
 "metadata": {
  "anaconda-cloud": {},
  "kernelspec": {
   "display_name": "Python [default]",
   "language": "python",
   "name": "python3"
  },
  "language_info": {
   "codemirror_mode": {
    "name": "ipython",
    "version": 3
   },
   "file_extension": ".py",
   "mimetype": "text/x-python",
   "name": "python",
   "nbconvert_exporter": "python",
   "pygments_lexer": "ipython3",
   "version": "3.5.4"
  },
  "toc": {
   "colors": {
    "hover_highlight": "#DAA520",
    "running_highlight": "#FF0000",
    "selected_highlight": "#FFD700"
   },
   "moveMenuLeft": true,
   "nav_menu": {
    "height": "12px",
    "width": "252px"
   },
   "navigate_menu": true,
   "number_sections": true,
   "sideBar": true,
   "threshold": 4,
   "toc_cell": false,
   "toc_section_display": "block",
   "toc_window_display": false
  }
 },
 "nbformat": 4,
 "nbformat_minor": 2
}
