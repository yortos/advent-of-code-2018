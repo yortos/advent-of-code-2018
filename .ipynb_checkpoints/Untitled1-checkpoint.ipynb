{
 "cells": [
  {
   "cell_type": "code",
   "execution_count": 1,
   "metadata": {
    "ExecuteTime": {
     "end_time": "2018-12-14T12:23:04.210773",
     "start_time": "2018-12-14T12:23:04.200275"
    },
    "collapsed": true
   },
   "outputs": [],
   "source": [
    "def new_recipes(num1, num2):\n",
    "    num = num1+num2\n",
    "    return[int(x[0]) for x in str(num)]\n",
    "\n",
    "def get_new_recipe(current_index, current_score, m):\n",
    "    new_index = (current_index+current_score+1)%len(m)\n",
    "    return m[new_index], new_index"
   ]
  },
  {
   "cell_type": "code",
   "execution_count": 2,
   "metadata": {
    "ExecuteTime": {
     "end_time": "2018-12-14T12:23:34.496955",
     "start_time": "2018-12-14T12:23:34.448214"
    },
    "collapsed": false
   },
   "outputs": [
    {
     "name": "stdout",
     "output_type": "stream",
     "text": [
      "[7, 7, 3, 2, 1, 6, 2, 1, 1, 1]\n",
      "0.02621603012084961\n"
     ]
    }
   ],
   "source": [
    "import time\n",
    "start = time.time()\n",
    "\n",
    "recipes = [3, 7]\n",
    "\n",
    "current_score = dict({'elv1': 3, 'elv2': 7})\n",
    "current_index = dict({'elv1': 0, 'elv2': 1})\n",
    "\n",
    "\n",
    "n = 1000\n",
    "num=0\n",
    "\n",
    "while num<2*n:\n",
    "    recipes = recipes + new_recipes(current_score['elv1'], current_score['elv2'])\n",
    "    for elv in current_score.keys():\n",
    "        new_score, new_index = get_new_recipe(current_index[elv], current_score[elv], recipes)\n",
    "        current_score[elv] = new_score\n",
    "        current_index[elv] = new_index\n",
    "    \n",
    "    num+=1\n",
    "    \n",
    "print(recipes[n:n+10])\n",
    "\n",
    "print(time.time()-start)"
   ]
  }
 ],
 "metadata": {
  "anaconda-cloud": {},
  "kernelspec": {
   "display_name": "Python [conda root]",
   "language": "python",
   "name": "conda-root-py"
  },
  "language_info": {
   "codemirror_mode": {
    "name": "ipython",
    "version": 3
   },
   "file_extension": ".py",
   "mimetype": "text/x-python",
   "name": "python",
   "nbconvert_exporter": "python",
   "pygments_lexer": "ipython3",
   "version": "3.5.4"
  },
  "toc": {
   "colors": {
    "hover_highlight": "#DAA520",
    "running_highlight": "#FF0000",
    "selected_highlight": "#FFD700"
   },
   "moveMenuLeft": true,
   "nav_menu": {
    "height": "11px",
    "width": "252px"
   },
   "navigate_menu": true,
   "number_sections": true,
   "sideBar": true,
   "threshold": 4,
   "toc_cell": false,
   "toc_section_display": "block",
   "toc_window_display": false
  }
 },
 "nbformat": 4,
 "nbformat_minor": 2
}
