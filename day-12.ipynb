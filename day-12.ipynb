{
 "cells": [
  {
   "cell_type": "code",
   "execution_count": 14,
   "metadata": {
    "ExecuteTime": {
     "end_time": "2018-12-12T12:43:47.087104",
     "start_time": "2018-12-12T12:43:46.855139"
    },
    "collapsed": true
   },
   "outputs": [],
   "source": [
    "import pandas as pd\n",
    "import numpy as np\n",
    "import matplotlib.pylab as plt\n",
    "%matplotlib inline\n"
   ]
  },
  {
   "cell_type": "code",
   "execution_count": 3,
   "metadata": {
    "ExecuteTime": {
     "end_time": "2018-12-12T12:23:59.274321",
     "start_time": "2018-12-12T12:23:59.183221"
    },
    "collapsed": false
   },
   "outputs": [
    {
     "name": "stdout",
     "output_type": "stream",
     "text": [
      "0.003329038619995117\n",
      "3793.0\n"
     ]
    }
   ],
   "source": [
    "rules_df = pd.read_csv('quiz12.txt', skiprows=2, names=['input'])\n",
    "rules_df\n",
    "rules = dict()\n",
    "for i in range(len(rules_df)):\n",
    "    parse = rules_df['input'][i].split('=>')\n",
    "    rules[parse[0].replace(' ','')] = parse[1].replace(' ','')\n",
    "\n",
    "    \n",
    "initial_state = '.......##..#..##....#..#..#..##.#.###.######..#..###.#.#..##.###.#.##..###..#.#..#.##.##..###.#.#...#.##.....'\n",
    "\n",
    "count = 0\n",
    "new_initial_state = ''\n",
    "\n",
    "previous_states=set()\n",
    "import time\n",
    "start = time.time()\n",
    "\n",
    "while count<20:\n",
    "    #print(count, initial_state)\n",
    "    new_initial_state = ''\n",
    "    for i in range(len(initial_state)):\n",
    "        if i<2 or i>len(initial_state)-3:\n",
    "            new_initial_state = new_initial_state+initial_state[i]\n",
    "        else:\n",
    "            config = initial_state[i-2:i+3]\n",
    "            #print(str(config))\n",
    "            if str(config) in rules.keys():\n",
    "                new_initial_state = new_initial_state+rules[config]\n",
    "            else:\n",
    "                new_initial_state = new_initial_state+initial_state[i]\n",
    "   \n",
    "    initial_state = new_initial_state+'.....'\n",
    "#     if has_been_seen(initial_state, previous_states):\n",
    "#         print(count)\n",
    "#         break\n",
    "#     else:\n",
    "    previous_states.add(initial_state)\n",
    "\n",
    "    count+=1\n",
    "\n",
    "print(time.time()-start)\n",
    "plants = np.zeros(len(initial_state))\n",
    "for i in range(len(initial_state)):\n",
    "    if initial_state[i]=='#':\n",
    "        #print(i)\n",
    "        plants[i] = i-7\n",
    "    \n",
    "print(sum(plants))\n"
   ]
  },
  {
   "cell_type": "markdown",
   "metadata": {},
   "source": [
    "## part 2"
   ]
  },
  {
   "cell_type": "code",
   "execution_count": 11,
   "metadata": {
    "ExecuteTime": {
     "end_time": "2018-12-12T12:42:45.834593",
     "start_time": "2018-12-12T12:42:45.830199"
    },
    "collapsed": true
   },
   "outputs": [],
   "source": [
    "def get_sum(initial_state):\n",
    "    plants = np.zeros(len(initial_state))\n",
    "    for i in range(len(initial_state)):\n",
    "        if initial_state[i]=='#':\n",
    "            #print(i)\n",
    "            plants[i] = i-7\n",
    "    return sum(plants)"
   ]
  },
  {
   "cell_type": "code",
   "execution_count": 12,
   "metadata": {
    "ExecuteTime": {
     "end_time": "2018-12-12T12:43:01.667402",
     "start_time": "2018-12-12T12:42:47.180979"
    },
    "collapsed": false
   },
   "outputs": [],
   "source": [
    "rules_df = pd.read_csv('quiz12.txt', skiprows=2, names=['input'])\n",
    "rules_df\n",
    "rules = dict()\n",
    "for i in range(len(rules_df)):\n",
    "    parse = rules_df['input'][i].split('=>')\n",
    "    rules[parse[0].replace(' ','')] = parse[1].replace(' ','')\n",
    "\n",
    "    \n",
    "initial_state = '.......##..#..##....#..#..#..##.#.###.######..#..###.#.#..##.###.#.##..###..#.#..#.##.##..###.#.#...#.##.....'\n",
    "\n",
    "count = 0\n",
    "new_initial_state = ''\n",
    "\n",
    "previous_states=set([initial_state])\n",
    "import time\n",
    "start = time.time()\n",
    "\n",
    "df_sums = pd.DataFrame(columns=['generation', 'sum'])\n",
    "\n",
    "while count<2000:\n",
    "    df_sums.loc[count] = [count, get_sum(initial_state)]\n",
    "    new_initial_state = ''\n",
    "    for i in range(len(initial_state)):\n",
    "        if i<2 or i>len(initial_state)-3:\n",
    "            new_initial_state = new_initial_state+initial_state[i]\n",
    "        else:\n",
    "            config = initial_state[i-2:i+3]\n",
    "            #print(str(config))\n",
    "            if str(config) in rules.keys():\n",
    "                new_initial_state = new_initial_state+rules[config]\n",
    "            else:\n",
    "                new_initial_state = new_initial_state+initial_state[i]\n",
    "   \n",
    "    initial_state = new_initial_state+'.....'\n",
    "   \n",
    "\n",
    "    count+=1"
   ]
  },
  {
   "cell_type": "code",
   "execution_count": 24,
   "metadata": {
    "ExecuteTime": {
     "end_time": "2018-12-12T12:46:44.110780",
     "start_time": "2018-12-12T12:46:44.084623"
    },
    "collapsed": false
   },
   "outputs": [
    {
     "data": {
      "text/html": [
       "<div>\n",
       "<style scoped>\n",
       "    .dataframe tbody tr th:only-of-type {\n",
       "        vertical-align: middle;\n",
       "    }\n",
       "\n",
       "    .dataframe tbody tr th {\n",
       "        vertical-align: top;\n",
       "    }\n",
       "\n",
       "    .dataframe thead th {\n",
       "        text-align: right;\n",
       "    }\n",
       "</style>\n",
       "<table border=\"1\" class=\"dataframe\">\n",
       "  <thead>\n",
       "    <tr style=\"text-align: right;\">\n",
       "      <th></th>\n",
       "      <th>generation</th>\n",
       "      <th>sum</th>\n",
       "      <th>diff</th>\n",
       "    </tr>\n",
       "  </thead>\n",
       "  <tbody>\n",
       "    <tr>\n",
       "      <th>0</th>\n",
       "      <td>0.0</td>\n",
       "      <td>2565.0</td>\n",
       "      <td>NaN</td>\n",
       "    </tr>\n",
       "    <tr>\n",
       "      <th>1</th>\n",
       "      <td>1.0</td>\n",
       "      <td>2700.0</td>\n",
       "      <td>135.0</td>\n",
       "    </tr>\n",
       "    <tr>\n",
       "      <th>2</th>\n",
       "      <td>2.0</td>\n",
       "      <td>2523.0</td>\n",
       "      <td>-177.0</td>\n",
       "    </tr>\n",
       "    <tr>\n",
       "      <th>3</th>\n",
       "      <td>3.0</td>\n",
       "      <td>2405.0</td>\n",
       "      <td>-118.0</td>\n",
       "    </tr>\n",
       "    <tr>\n",
       "      <th>4</th>\n",
       "      <td>4.0</td>\n",
       "      <td>2644.0</td>\n",
       "      <td>239.0</td>\n",
       "    </tr>\n",
       "    <tr>\n",
       "      <th>5</th>\n",
       "      <td>5.0</td>\n",
       "      <td>3146.0</td>\n",
       "      <td>502.0</td>\n",
       "    </tr>\n",
       "    <tr>\n",
       "      <th>6</th>\n",
       "      <td>6.0</td>\n",
       "      <td>3095.0</td>\n",
       "      <td>-51.0</td>\n",
       "    </tr>\n",
       "    <tr>\n",
       "      <th>7</th>\n",
       "      <td>7.0</td>\n",
       "      <td>2856.0</td>\n",
       "      <td>-239.0</td>\n",
       "    </tr>\n",
       "    <tr>\n",
       "      <th>8</th>\n",
       "      <td>8.0</td>\n",
       "      <td>3005.0</td>\n",
       "      <td>149.0</td>\n",
       "    </tr>\n",
       "    <tr>\n",
       "      <th>9</th>\n",
       "      <td>9.0</td>\n",
       "      <td>3339.0</td>\n",
       "      <td>334.0</td>\n",
       "    </tr>\n",
       "    <tr>\n",
       "      <th>10</th>\n",
       "      <td>10.0</td>\n",
       "      <td>3386.0</td>\n",
       "      <td>47.0</td>\n",
       "    </tr>\n",
       "    <tr>\n",
       "      <th>11</th>\n",
       "      <td>11.0</td>\n",
       "      <td>3167.0</td>\n",
       "      <td>-219.0</td>\n",
       "    </tr>\n",
       "    <tr>\n",
       "      <th>12</th>\n",
       "      <td>12.0</td>\n",
       "      <td>3208.0</td>\n",
       "      <td>41.0</td>\n",
       "    </tr>\n",
       "    <tr>\n",
       "      <th>13</th>\n",
       "      <td>13.0</td>\n",
       "      <td>3631.0</td>\n",
       "      <td>423.0</td>\n",
       "    </tr>\n",
       "    <tr>\n",
       "      <th>14</th>\n",
       "      <td>14.0</td>\n",
       "      <td>3701.0</td>\n",
       "      <td>70.0</td>\n",
       "    </tr>\n",
       "    <tr>\n",
       "      <th>15</th>\n",
       "      <td>15.0</td>\n",
       "      <td>3469.0</td>\n",
       "      <td>-232.0</td>\n",
       "    </tr>\n",
       "    <tr>\n",
       "      <th>16</th>\n",
       "      <td>16.0</td>\n",
       "      <td>3522.0</td>\n",
       "      <td>53.0</td>\n",
       "    </tr>\n",
       "    <tr>\n",
       "      <th>17</th>\n",
       "      <td>17.0</td>\n",
       "      <td>3928.0</td>\n",
       "      <td>406.0</td>\n",
       "    </tr>\n",
       "    <tr>\n",
       "      <th>18</th>\n",
       "      <td>18.0</td>\n",
       "      <td>4014.0</td>\n",
       "      <td>86.0</td>\n",
       "    </tr>\n",
       "    <tr>\n",
       "      <th>19</th>\n",
       "      <td>19.0</td>\n",
       "      <td>3698.0</td>\n",
       "      <td>-316.0</td>\n",
       "    </tr>\n",
       "    <tr>\n",
       "      <th>20</th>\n",
       "      <td>20.0</td>\n",
       "      <td>3793.0</td>\n",
       "      <td>95.0</td>\n",
       "    </tr>\n",
       "    <tr>\n",
       "      <th>21</th>\n",
       "      <td>21.0</td>\n",
       "      <td>4235.0</td>\n",
       "      <td>442.0</td>\n",
       "    </tr>\n",
       "    <tr>\n",
       "      <th>22</th>\n",
       "      <td>22.0</td>\n",
       "      <td>4254.0</td>\n",
       "      <td>19.0</td>\n",
       "    </tr>\n",
       "    <tr>\n",
       "      <th>23</th>\n",
       "      <td>23.0</td>\n",
       "      <td>3982.0</td>\n",
       "      <td>-272.0</td>\n",
       "    </tr>\n",
       "    <tr>\n",
       "      <th>24</th>\n",
       "      <td>24.0</td>\n",
       "      <td>4089.0</td>\n",
       "      <td>107.0</td>\n",
       "    </tr>\n",
       "    <tr>\n",
       "      <th>25</th>\n",
       "      <td>25.0</td>\n",
       "      <td>4506.0</td>\n",
       "      <td>417.0</td>\n",
       "    </tr>\n",
       "    <tr>\n",
       "      <th>26</th>\n",
       "      <td>26.0</td>\n",
       "      <td>4556.0</td>\n",
       "      <td>50.0</td>\n",
       "    </tr>\n",
       "    <tr>\n",
       "      <th>27</th>\n",
       "      <td>27.0</td>\n",
       "      <td>4267.0</td>\n",
       "      <td>-289.0</td>\n",
       "    </tr>\n",
       "    <tr>\n",
       "      <th>28</th>\n",
       "      <td>28.0</td>\n",
       "      <td>4363.0</td>\n",
       "      <td>96.0</td>\n",
       "    </tr>\n",
       "    <tr>\n",
       "      <th>29</th>\n",
       "      <td>29.0</td>\n",
       "      <td>4785.0</td>\n",
       "      <td>422.0</td>\n",
       "    </tr>\n",
       "    <tr>\n",
       "      <th>...</th>\n",
       "      <td>...</td>\n",
       "      <td>...</td>\n",
       "      <td>...</td>\n",
       "    </tr>\n",
       "    <tr>\n",
       "      <th>1970</th>\n",
       "      <td>1970.0</td>\n",
       "      <td>171834.0</td>\n",
       "      <td>86.0</td>\n",
       "    </tr>\n",
       "    <tr>\n",
       "      <th>1971</th>\n",
       "      <td>1971.0</td>\n",
       "      <td>171920.0</td>\n",
       "      <td>86.0</td>\n",
       "    </tr>\n",
       "    <tr>\n",
       "      <th>1972</th>\n",
       "      <td>1972.0</td>\n",
       "      <td>172006.0</td>\n",
       "      <td>86.0</td>\n",
       "    </tr>\n",
       "    <tr>\n",
       "      <th>1973</th>\n",
       "      <td>1973.0</td>\n",
       "      <td>172092.0</td>\n",
       "      <td>86.0</td>\n",
       "    </tr>\n",
       "    <tr>\n",
       "      <th>1974</th>\n",
       "      <td>1974.0</td>\n",
       "      <td>172178.0</td>\n",
       "      <td>86.0</td>\n",
       "    </tr>\n",
       "    <tr>\n",
       "      <th>1975</th>\n",
       "      <td>1975.0</td>\n",
       "      <td>172264.0</td>\n",
       "      <td>86.0</td>\n",
       "    </tr>\n",
       "    <tr>\n",
       "      <th>1976</th>\n",
       "      <td>1976.0</td>\n",
       "      <td>172350.0</td>\n",
       "      <td>86.0</td>\n",
       "    </tr>\n",
       "    <tr>\n",
       "      <th>1977</th>\n",
       "      <td>1977.0</td>\n",
       "      <td>172436.0</td>\n",
       "      <td>86.0</td>\n",
       "    </tr>\n",
       "    <tr>\n",
       "      <th>1978</th>\n",
       "      <td>1978.0</td>\n",
       "      <td>172522.0</td>\n",
       "      <td>86.0</td>\n",
       "    </tr>\n",
       "    <tr>\n",
       "      <th>1979</th>\n",
       "      <td>1979.0</td>\n",
       "      <td>172608.0</td>\n",
       "      <td>86.0</td>\n",
       "    </tr>\n",
       "    <tr>\n",
       "      <th>1980</th>\n",
       "      <td>1980.0</td>\n",
       "      <td>172694.0</td>\n",
       "      <td>86.0</td>\n",
       "    </tr>\n",
       "    <tr>\n",
       "      <th>1981</th>\n",
       "      <td>1981.0</td>\n",
       "      <td>172780.0</td>\n",
       "      <td>86.0</td>\n",
       "    </tr>\n",
       "    <tr>\n",
       "      <th>1982</th>\n",
       "      <td>1982.0</td>\n",
       "      <td>172866.0</td>\n",
       "      <td>86.0</td>\n",
       "    </tr>\n",
       "    <tr>\n",
       "      <th>1983</th>\n",
       "      <td>1983.0</td>\n",
       "      <td>172952.0</td>\n",
       "      <td>86.0</td>\n",
       "    </tr>\n",
       "    <tr>\n",
       "      <th>1984</th>\n",
       "      <td>1984.0</td>\n",
       "      <td>173038.0</td>\n",
       "      <td>86.0</td>\n",
       "    </tr>\n",
       "    <tr>\n",
       "      <th>1985</th>\n",
       "      <td>1985.0</td>\n",
       "      <td>173124.0</td>\n",
       "      <td>86.0</td>\n",
       "    </tr>\n",
       "    <tr>\n",
       "      <th>1986</th>\n",
       "      <td>1986.0</td>\n",
       "      <td>173210.0</td>\n",
       "      <td>86.0</td>\n",
       "    </tr>\n",
       "    <tr>\n",
       "      <th>1987</th>\n",
       "      <td>1987.0</td>\n",
       "      <td>173296.0</td>\n",
       "      <td>86.0</td>\n",
       "    </tr>\n",
       "    <tr>\n",
       "      <th>1988</th>\n",
       "      <td>1988.0</td>\n",
       "      <td>173382.0</td>\n",
       "      <td>86.0</td>\n",
       "    </tr>\n",
       "    <tr>\n",
       "      <th>1989</th>\n",
       "      <td>1989.0</td>\n",
       "      <td>173468.0</td>\n",
       "      <td>86.0</td>\n",
       "    </tr>\n",
       "    <tr>\n",
       "      <th>1990</th>\n",
       "      <td>1990.0</td>\n",
       "      <td>173554.0</td>\n",
       "      <td>86.0</td>\n",
       "    </tr>\n",
       "    <tr>\n",
       "      <th>1991</th>\n",
       "      <td>1991.0</td>\n",
       "      <td>173640.0</td>\n",
       "      <td>86.0</td>\n",
       "    </tr>\n",
       "    <tr>\n",
       "      <th>1992</th>\n",
       "      <td>1992.0</td>\n",
       "      <td>173726.0</td>\n",
       "      <td>86.0</td>\n",
       "    </tr>\n",
       "    <tr>\n",
       "      <th>1993</th>\n",
       "      <td>1993.0</td>\n",
       "      <td>173812.0</td>\n",
       "      <td>86.0</td>\n",
       "    </tr>\n",
       "    <tr>\n",
       "      <th>1994</th>\n",
       "      <td>1994.0</td>\n",
       "      <td>173898.0</td>\n",
       "      <td>86.0</td>\n",
       "    </tr>\n",
       "    <tr>\n",
       "      <th>1995</th>\n",
       "      <td>1995.0</td>\n",
       "      <td>173984.0</td>\n",
       "      <td>86.0</td>\n",
       "    </tr>\n",
       "    <tr>\n",
       "      <th>1996</th>\n",
       "      <td>1996.0</td>\n",
       "      <td>174070.0</td>\n",
       "      <td>86.0</td>\n",
       "    </tr>\n",
       "    <tr>\n",
       "      <th>1997</th>\n",
       "      <td>1997.0</td>\n",
       "      <td>174156.0</td>\n",
       "      <td>86.0</td>\n",
       "    </tr>\n",
       "    <tr>\n",
       "      <th>1998</th>\n",
       "      <td>1998.0</td>\n",
       "      <td>174242.0</td>\n",
       "      <td>86.0</td>\n",
       "    </tr>\n",
       "    <tr>\n",
       "      <th>1999</th>\n",
       "      <td>1999.0</td>\n",
       "      <td>174328.0</td>\n",
       "      <td>86.0</td>\n",
       "    </tr>\n",
       "  </tbody>\n",
       "</table>\n",
       "<p>2000 rows × 3 columns</p>\n",
       "</div>"
      ],
      "text/plain": [
       "      generation       sum   diff\n",
       "0            0.0    2565.0    NaN\n",
       "1            1.0    2700.0  135.0\n",
       "2            2.0    2523.0 -177.0\n",
       "3            3.0    2405.0 -118.0\n",
       "4            4.0    2644.0  239.0\n",
       "5            5.0    3146.0  502.0\n",
       "6            6.0    3095.0  -51.0\n",
       "7            7.0    2856.0 -239.0\n",
       "8            8.0    3005.0  149.0\n",
       "9            9.0    3339.0  334.0\n",
       "10          10.0    3386.0   47.0\n",
       "11          11.0    3167.0 -219.0\n",
       "12          12.0    3208.0   41.0\n",
       "13          13.0    3631.0  423.0\n",
       "14          14.0    3701.0   70.0\n",
       "15          15.0    3469.0 -232.0\n",
       "16          16.0    3522.0   53.0\n",
       "17          17.0    3928.0  406.0\n",
       "18          18.0    4014.0   86.0\n",
       "19          19.0    3698.0 -316.0\n",
       "20          20.0    3793.0   95.0\n",
       "21          21.0    4235.0  442.0\n",
       "22          22.0    4254.0   19.0\n",
       "23          23.0    3982.0 -272.0\n",
       "24          24.0    4089.0  107.0\n",
       "25          25.0    4506.0  417.0\n",
       "26          26.0    4556.0   50.0\n",
       "27          27.0    4267.0 -289.0\n",
       "28          28.0    4363.0   96.0\n",
       "29          29.0    4785.0  422.0\n",
       "...          ...       ...    ...\n",
       "1970      1970.0  171834.0   86.0\n",
       "1971      1971.0  171920.0   86.0\n",
       "1972      1972.0  172006.0   86.0\n",
       "1973      1973.0  172092.0   86.0\n",
       "1974      1974.0  172178.0   86.0\n",
       "1975      1975.0  172264.0   86.0\n",
       "1976      1976.0  172350.0   86.0\n",
       "1977      1977.0  172436.0   86.0\n",
       "1978      1978.0  172522.0   86.0\n",
       "1979      1979.0  172608.0   86.0\n",
       "1980      1980.0  172694.0   86.0\n",
       "1981      1981.0  172780.0   86.0\n",
       "1982      1982.0  172866.0   86.0\n",
       "1983      1983.0  172952.0   86.0\n",
       "1984      1984.0  173038.0   86.0\n",
       "1985      1985.0  173124.0   86.0\n",
       "1986      1986.0  173210.0   86.0\n",
       "1987      1987.0  173296.0   86.0\n",
       "1988      1988.0  173382.0   86.0\n",
       "1989      1989.0  173468.0   86.0\n",
       "1990      1990.0  173554.0   86.0\n",
       "1991      1991.0  173640.0   86.0\n",
       "1992      1992.0  173726.0   86.0\n",
       "1993      1993.0  173812.0   86.0\n",
       "1994      1994.0  173898.0   86.0\n",
       "1995      1995.0  173984.0   86.0\n",
       "1996      1996.0  174070.0   86.0\n",
       "1997      1997.0  174156.0   86.0\n",
       "1998      1998.0  174242.0   86.0\n",
       "1999      1999.0  174328.0   86.0\n",
       "\n",
       "[2000 rows x 3 columns]"
      ]
     },
     "execution_count": 24,
     "metadata": {},
     "output_type": "execute_result"
    }
   ],
   "source": [
    "df_sums"
   ]
  },
  {
   "cell_type": "code",
   "execution_count": 26,
   "metadata": {
    "ExecuteTime": {
     "end_time": "2018-12-12T12:48:49.238158",
     "start_time": "2018-12-12T12:48:49.232935"
    },
    "collapsed": false
   },
   "outputs": [
    {
     "data": {
      "text/plain": [
       "4300000002414.0"
      ]
     },
     "execution_count": 26,
     "metadata": {},
     "output_type": "execute_result"
    }
   ],
   "source": [
    "k = 1999\n",
    "m = 50000000000\n",
    "\n",
    "x = df_sums['sum'][k]\n",
    "add = 86\n",
    "\n",
    "x+(m-k)*add\n"
   ]
  },
  {
   "cell_type": "code",
   "execution_count": 18,
   "metadata": {
    "ExecuteTime": {
     "end_time": "2018-12-12T12:45:17.521993",
     "start_time": "2018-12-12T12:45:17.416863"
    },
    "collapsed": true
   },
   "outputs": [],
   "source": [
    "dif = [None]\n",
    "\n",
    "for i in range(1,len(df_sums)):\n",
    "    dif.append(df_sums['sum'][i]-df_sums['sum'][i-1])\n",
    "df_sums['diff'] = dif"
   ]
  },
  {
   "cell_type": "code",
   "execution_count": 23,
   "metadata": {
    "ExecuteTime": {
     "end_time": "2018-12-12T12:46:12.484105",
     "start_time": "2018-12-12T12:46:12.317076"
    },
    "collapsed": false
   },
   "outputs": [
    {
     "name": "stdout",
     "output_type": "stream",
     "text": [
      "86.0 86.0\n"
     ]
    },
    {
     "data": {
      "image/png": "[encoded data removed]",
      "text/plain": [
       "<Figure size 432x288 with 1 Axes>"
      ]
     },
     "metadata": {},
     "output_type": "display_data"
    }
   ],
   "source": [
    "plt.plot(df_sums['diff'])\n",
    "plt.xlim(1000,2000)\n",
    "print(df_sums['diff'][1000], df_sums['diff'][2000-2])"
   ]
  },
  {
   "cell_type": "code",
   "execution_count": 17,
   "metadata": {
    "ExecuteTime": {
     "end_time": "2018-12-12T12:44:13.201381",
     "start_time": "2018-12-12T12:44:13.011452"
    },
    "collapsed": false
   },
   "outputs": [
    {
     "data": {
      "text/plain": [
       "(1750, 2000)"
      ]
     },
     "execution_count": 17,
     "metadata": {},
     "output_type": "execute_result"
    },
    {
     "data": {
      "image/png": "[encoded data removed]",
      "text/plain": [
       "<Figure size 432x288 with 1 Axes>"
      ]
     },
     "metadata": {},
     "output_type": "display_data"
    }
   ],
   "source": [
    "plt.plot(df_sums['sum'])\n",
    "plt.xlim((1750, 2000))"
   ]
  },
  {
   "cell_type": "code",
   "execution_count": null,
   "metadata": {
    "collapsed": true
   },
   "outputs": [],
   "source": []
  },
  {
   "cell_type": "code",
   "execution_count": 2,
   "metadata": {
    "ExecuteTime": {
     "end_time": "2018-12-12T12:35:58.782234",
     "start_time": "2018-12-12T12:35:58.775513"
    },
    "collapsed": true
   },
   "outputs": [],
   "source": [
    "def are_the_same(state1,state2):\n",
    "    first_dot1 = state1.find('.')\n",
    "    last_dot1 = state1.rfind('.')\n",
    "    first_dot2 = state2.find('.')\n",
    "    last_dot2 = state2.rfind('.')\n",
    "    \n",
    "    if state1[first_dot1:last_dot1] == state2[first_dot2:last_dot2]:\n",
    "        return 1\n",
    "    else:\n",
    "        return 0\n",
    "    \n",
    "def is_in_set(set1, state):\n",
    "    for state2 in set1:\n",
    "        if are_the_same(state, state2):\n",
    "            return 1\n",
    "    return 0"
   ]
  },
  {
   "cell_type": "code",
   "execution_count": 8,
   "metadata": {
    "ExecuteTime": {
     "end_time": "2018-12-12T12:40:25.307749",
     "start_time": "2018-12-12T12:37:07.382488"
    },
    "collapsed": false
   },
   "outputs": [
    {
     "ename": "KeyboardInterrupt",
     "evalue": "",
     "output_type": "error",
     "traceback": [
      "\u001b[0;31m---------------------------------------------------------------------------\u001b[0m",
      "\u001b[0;31mKeyboardInterrupt\u001b[0m                         Traceback (most recent call last)",
      "\u001b[0;32m<ipython-input-8-7c9acfaba727>\u001b[0m in \u001b[0;36m<module>\u001b[0;34m()\u001b[0m\n\u001b[1;32m     31\u001b[0m \u001b[0;34m\u001b[0m\u001b[0m\n\u001b[1;32m     32\u001b[0m     \u001b[0minitial_state\u001b[0m \u001b[0;34m=\u001b[0m \u001b[0mnew_initial_state\u001b[0m\u001b[0;34m+\u001b[0m\u001b[0;34m'.....'\u001b[0m\u001b[0;34m\u001b[0m\u001b[0m\n\u001b[0;32m---> 33\u001b[0;31m     \u001b[0;32mif\u001b[0m \u001b[0mis_in_set\u001b[0m\u001b[0;34m(\u001b[0m\u001b[0mprevious_states\u001b[0m\u001b[0;34m,\u001b[0m \u001b[0minitial_state\u001b[0m\u001b[0;34m)\u001b[0m\u001b[0;34m:\u001b[0m\u001b[0;34m\u001b[0m\u001b[0m\n\u001b[0m\u001b[1;32m     34\u001b[0m         \u001b[0mprint\u001b[0m\u001b[0;34m(\u001b[0m\u001b[0mcount\u001b[0m\u001b[0;34m)\u001b[0m\u001b[0;34m\u001b[0m\u001b[0m\n\u001b[1;32m     35\u001b[0m         \u001b[0;32mbreak\u001b[0m\u001b[0;34m\u001b[0m\u001b[0m\n",
      "\u001b[0;32m<ipython-input-2-8d91ddc99470>\u001b[0m in \u001b[0;36mis_in_set\u001b[0;34m(set1, state)\u001b[0m\n\u001b[1;32m     12\u001b[0m \u001b[0;32mdef\u001b[0m \u001b[0mis_in_set\u001b[0m\u001b[0;34m(\u001b[0m\u001b[0mset1\u001b[0m\u001b[0;34m,\u001b[0m \u001b[0mstate\u001b[0m\u001b[0;34m)\u001b[0m\u001b[0;34m:\u001b[0m\u001b[0;34m\u001b[0m\u001b[0m\n\u001b[1;32m     13\u001b[0m     \u001b[0;32mfor\u001b[0m \u001b[0mstate2\u001b[0m \u001b[0;32min\u001b[0m \u001b[0mset1\u001b[0m\u001b[0;34m:\u001b[0m\u001b[0;34m\u001b[0m\u001b[0m\n\u001b[0;32m---> 14\u001b[0;31m         \u001b[0;32mif\u001b[0m \u001b[0mare_the_same\u001b[0m\u001b[0;34m(\u001b[0m\u001b[0mstate\u001b[0m\u001b[0;34m,\u001b[0m \u001b[0mstate2\u001b[0m\u001b[0;34m)\u001b[0m\u001b[0;34m:\u001b[0m\u001b[0;34m\u001b[0m\u001b[0m\n\u001b[0m\u001b[1;32m     15\u001b[0m             \u001b[0;32mreturn\u001b[0m \u001b[0;36m1\u001b[0m\u001b[0;34m\u001b[0m\u001b[0m\n\u001b[1;32m     16\u001b[0m     \u001b[0;32mreturn\u001b[0m \u001b[0;36m0\u001b[0m\u001b[0;34m\u001b[0m\u001b[0m\n",
      "\u001b[0;32m<ipython-input-2-8d91ddc99470>\u001b[0m in \u001b[0;36mare_the_same\u001b[0;34m(state1, state2)\u001b[0m\n\u001b[1;32m      5\u001b[0m     \u001b[0mlast_dot2\u001b[0m \u001b[0;34m=\u001b[0m \u001b[0mstate2\u001b[0m\u001b[0;34m.\u001b[0m\u001b[0mrfind\u001b[0m\u001b[0;34m(\u001b[0m\u001b[0;34m'.'\u001b[0m\u001b[0;34m)\u001b[0m\u001b[0;34m\u001b[0m\u001b[0m\n\u001b[1;32m      6\u001b[0m \u001b[0;34m\u001b[0m\u001b[0m\n\u001b[0;32m----> 7\u001b[0;31m     \u001b[0;32mif\u001b[0m \u001b[0mstate1\u001b[0m\u001b[0;34m[\u001b[0m\u001b[0mfirst_dot1\u001b[0m\u001b[0;34m:\u001b[0m\u001b[0mlast_dot1\u001b[0m\u001b[0;34m]\u001b[0m \u001b[0;34m==\u001b[0m \u001b[0mstate2\u001b[0m\u001b[0;34m[\u001b[0m\u001b[0mfirst_dot2\u001b[0m\u001b[0;34m:\u001b[0m\u001b[0mlast_dot2\u001b[0m\u001b[0;34m]\u001b[0m\u001b[0;34m:\u001b[0m\u001b[0;34m\u001b[0m\u001b[0m\n\u001b[0m\u001b[1;32m      8\u001b[0m         \u001b[0;32mreturn\u001b[0m \u001b[0;36m1\u001b[0m\u001b[0;34m\u001b[0m\u001b[0m\n\u001b[1;32m      9\u001b[0m     \u001b[0;32melse\u001b[0m\u001b[0;34m:\u001b[0m\u001b[0;34m\u001b[0m\u001b[0m\n",
      "\u001b[0;31mKeyboardInterrupt\u001b[0m: "
     ]
    }
   ],
   "source": [
    "rules_df = pd.read_csv('quiz12.txt', skiprows=2, names=['input'])\n",
    "rules_df\n",
    "rules = dict()\n",
    "for i in range(len(rules_df)):\n",
    "    parse = rules_df['input'][i].split('=>')\n",
    "    rules[parse[0].replace(' ','')] = parse[1].replace(' ','')\n",
    "\n",
    "    \n",
    "initial_state = '.......##..#..##....#..#..#..##.#.###.######..#..###.#.#..##.###.#.##..###..#.#..#.##.##..###.#.#...#.##.....'\n",
    "\n",
    "count = 0\n",
    "new_initial_state = ''\n",
    "\n",
    "previous_states=set([initial_state])\n",
    "import time\n",
    "start = time.time()\n",
    "\n",
    "while count<10000:\n",
    "    #print(count, initial_state)\n",
    "    new_initial_state = ''\n",
    "    for i in range(len(initial_state)):\n",
    "        if i<2 or i>len(initial_state)-3:\n",
    "            new_initial_state = new_initial_state+initial_state[i]\n",
    "        else:\n",
    "            config = initial_state[i-2:i+3]\n",
    "            #print(str(config))\n",
    "            if str(config) in rules.keys():\n",
    "                new_initial_state = new_initial_state+rules[config]\n",
    "            else:\n",
    "                new_initial_state = new_initial_state+initial_state[i]\n",
    "   \n",
    "    initial_state = new_initial_state+'.....'\n",
    "    if is_in_set(previous_states, initial_state):\n",
    "        print(count)\n",
    "        break\n",
    "    else:\n",
    "        previous_states.add(initial_state)\n",
    "\n",
    "    count+=1"
   ]
  },
  {
   "cell_type": "code",
   "execution_count": 7,
   "metadata": {
    "ExecuteTime": {
     "end_time": "2018-12-12T12:36:59.297791",
     "start_time": "2018-12-12T12:36:59.292815"
    },
    "collapsed": false
   },
   "outputs": [
    {
     "data": {
      "text/plain": [
       "1001"
      ]
     },
     "execution_count": 7,
     "metadata": {},
     "output_type": "execute_result"
    }
   ],
   "source": [
    "len(previous_states)"
   ]
  },
  {
   "cell_type": "markdown",
   "metadata": {},
   "source": [
    "# test case"
   ]
  },
  {
   "cell_type": "code",
   "execution_count": 89,
   "metadata": {
    "collapsed": false
   },
   "outputs": [
    {
     "data": {
      "text/plain": [
       "'.....'"
      ]
     },
     "execution_count": 89,
     "metadata": {},
     "output_type": "execute_result"
    }
   ],
   "source": [
    "config"
   ]
  },
  {
   "cell_type": "code",
   "execution_count": 116,
   "metadata": {
    "collapsed": false
   },
   "outputs": [
    {
     "name": "stdout",
     "output_type": "stream",
     "text": [
      "0 .......#..#.#..##......###...###.............\n",
      "1 .......#...#....#.....#..#..#..#..................\n",
      "2 .......##..##...##....#..#..#..##......................\n",
      "3 ......#.#...#..#.#....#..#..#...#...........................\n",
      "4 .......#.#..#...#.#...#..#..##..##...............................\n",
      "5 ........#...##...#.#..#..#...#...#....................................\n",
      "6 ........##.#.#....#...#..##..##..##........................................\n",
      "7 .......#..###.#...##..#...#...#...#.............................................\n",
      "8 .......#....##.#.#.#..##..##..##..##.................................................\n",
      "9 .......##..#..#####....#...#...#...#......................................................\n",
      "10 ......#.#..#...#.##....##..##..##..##..........................................................\n",
      "11 .......#...##...#.#...#.#...#...#...#...............................................................\n",
      "12 .......##.#.#....#.#...#.#..##..##..##...................................................................\n",
      "13 ......#..###.#....#.#...#....#...#...#........................................................................\n",
      "14 ......#....##.#....#.#..##...##..##..##............................................................................\n",
      "15 ......##..#..#.#....#....#..#.#...#...#.................................................................................\n",
      "16 .....#.#..#...#.#...##...#...#.#..##..##.....................................................................................\n",
      "17 ......#...##...#.#.#.#...##...#....#...#..........................................................................................\n",
      "18 ......##.#.#....#####.#.#.#...##...##..##..............................................................................................\n",
      "19 .....#..###.#..#.#.#######.#.#.#..#.#...#...................................................................................................\n",
      "325.0\n"
     ]
    }
   ],
   "source": [
    "initial_state = '.......#..#.#..##......###...###.............'\n",
    "rules = dict()\n",
    "\n",
    "rules['...##'] = '#'\n",
    "rules['..#..'] = '#'\n",
    "rules['.#...'] = '#'\n",
    "rules['.#.#.'] = '#'\n",
    "rules['.#.##'] = '#'\n",
    "rules['.##..'] = '#'\n",
    "rules['.####'] = '#'\n",
    "rules['#.#.#'] = '#'\n",
    "rules['#.###'] = '#'\n",
    "rules['##.#.'] = '#'\n",
    "rules['##.##'] = '#'\n",
    "rules['###..'] = '#'\n",
    "rules['###.#'] = '#'\n",
    "rules['####.'] = '#'\n",
    "\n",
    "\n",
    "count = 0\n",
    "new_initial_state = ''\n",
    "\n",
    "while count<20:\n",
    "    print(count, initial_state)\n",
    "    new_initial_state = ''\n",
    "    for i in range(len(initial_state)):\n",
    "        if i<2 or i>len(initial_state)-3:\n",
    "            new_initial_state = new_initial_state+'.'\n",
    "        else:\n",
    "            config = initial_state[i-2:i+3]\n",
    "            #print(str(config))\n",
    "            if str(config) in rules.keys():\n",
    "                new_initial_state = new_initial_state+rules[config]\n",
    "            else:\n",
    "                new_initial_state = new_initial_state+'.'\n",
    "   \n",
    "    initial_state = new_initial_state+'.....'\n",
    "    count+=1\n",
    "\n",
    "\n",
    "plants = np.zeros(len(initial_state))\n",
    "for i in range(len(initial_state)):\n",
    "    if initial_state[i]=='#':\n",
    "        #print(i)\n",
    "        plants[i] = i-7\n",
    "    \n",
    "print(sum(plants))"
   ]
  },
  {
   "cell_type": "code",
   "execution_count": null,
   "metadata": {
    "collapsed": false
   },
   "outputs": [],
   "source": []
  }
 ],
 "metadata": {
  "anaconda-cloud": {},
  "kernelspec": {
   "display_name": "Python [default]",
   "language": "python",
   "name": "python3"
  },
  "language_info": {
   "codemirror_mode": {
    "name": "ipython",
    "version": 3
   },
   "file_extension": ".py",
   "mimetype": "text/x-python",
   "name": "python",
   "nbconvert_exporter": "python",
   "pygments_lexer": "ipython3",
   "version": "3.5.4"
  },
  "toc": {
   "colors": {
    "hover_highlight": "#DAA520",
    "running_highlight": "#FF0000",
    "selected_highlight": "#FFD700"
   },
   "moveMenuLeft": true,
   "nav_menu": {
    "height": "47px",
    "width": "252px"
   },
   "navigate_menu": true,
   "number_sections": true,
   "sideBar": true,
   "threshold": 4,
   "toc_cell": false,
   "toc_section_display": "block",
   "toc_window_display": false
  }
 },
 "nbformat": 4,
 "nbformat_minor": 2
}
