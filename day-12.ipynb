{
 "cells": [
  {
   "cell_type": "code",
   "execution_count": 1,
   "metadata": {},
   "outputs": [],
   "source": [
    "import pandas as pd\n",
    "import numpy as np"
   ]
  },
  {
   "cell_type": "code",
   "execution_count": 18,
   "metadata": {},
   "outputs": [],
   "source": []
  },
  {
   "cell_type": "code",
   "execution_count": 84,
   "metadata": {},
   "outputs": [],
   "source": []
  },
  {
   "cell_type": "code",
   "execution_count": 20,
   "metadata": {},
   "outputs": [
    {
     "ename": "AttributeError",
     "evalue": "'str' object has no attribute 'copy'",
     "output_type": "error",
     "traceback": [
      "\u001b[0;31m---------------------------------------------------------------------------\u001b[0m",
      "\u001b[0;31mAttributeError\u001b[0m                            Traceback (most recent call last)",
      "\u001b[0;32m<ipython-input-20-cbdaa50b14c0>\u001b[0m in \u001b[0;36m<module>\u001b[0;34m()\u001b[0m\n\u001b[1;32m      1\u001b[0m \u001b[0mstring\u001b[0m \u001b[0;34m=\u001b[0m \u001b[0;34m'helll'\u001b[0m\u001b[0;34m\u001b[0m\u001b[0m\n\u001b[0;32m----> 2\u001b[0;31m \u001b[0mstring2\u001b[0m \u001b[0;34m=\u001b[0m \u001b[0mstring\u001b[0m\u001b[0;34m.\u001b[0m\u001b[0mcopy\u001b[0m\u001b[0;34m(\u001b[0m\u001b[0;34m)\u001b[0m\u001b[0;34m\u001b[0m\u001b[0m\n\u001b[0m",
      "\u001b[0;31mAttributeError\u001b[0m: 'str' object has no attribute 'copy'"
     ]
    }
   ],
   "source": []
  },
  {
   "cell_type": "code",
   "execution_count": 123,
   "metadata": {},
   "outputs": [
    {
     "ename": "KeyboardInterrupt",
     "evalue": "",
     "output_type": "error",
     "traceback": [
      "\u001b[0;31m---------------------------------------------------------------------------\u001b[0m",
      "\u001b[0;31mKeyboardInterrupt\u001b[0m                         Traceback (most recent call last)",
      "\u001b[0;32m<ipython-input-123-0716bcf4dc53>\u001b[0m in \u001b[0;36m<module>\u001b[0;34m()\u001b[0m\n\u001b[1;32m     25\u001b[0m             \u001b[0mconfig\u001b[0m \u001b[0;34m=\u001b[0m \u001b[0minitial_state\u001b[0m\u001b[0;34m[\u001b[0m\u001b[0mi\u001b[0m\u001b[0;34m-\u001b[0m\u001b[0;36m2\u001b[0m\u001b[0;34m:\u001b[0m\u001b[0mi\u001b[0m\u001b[0;34m+\u001b[0m\u001b[0;36m3\u001b[0m\u001b[0;34m]\u001b[0m\u001b[0;34m\u001b[0m\u001b[0m\n\u001b[1;32m     26\u001b[0m             \u001b[0;31m#print(str(config))\u001b[0m\u001b[0;34m\u001b[0m\u001b[0;34m\u001b[0m\u001b[0m\n\u001b[0;32m---> 27\u001b[0;31m             \u001b[0;32mif\u001b[0m \u001b[0mstr\u001b[0m\u001b[0;34m(\u001b[0m\u001b[0mconfig\u001b[0m\u001b[0;34m)\u001b[0m \u001b[0;32min\u001b[0m \u001b[0mrules\u001b[0m\u001b[0;34m.\u001b[0m\u001b[0mkeys\u001b[0m\u001b[0;34m(\u001b[0m\u001b[0;34m)\u001b[0m\u001b[0;34m:\u001b[0m\u001b[0;34m\u001b[0m\u001b[0m\n\u001b[0m\u001b[1;32m     28\u001b[0m                 \u001b[0mnew_initial_state\u001b[0m \u001b[0;34m=\u001b[0m \u001b[0mnew_initial_state\u001b[0m\u001b[0;34m+\u001b[0m\u001b[0mrules\u001b[0m\u001b[0;34m[\u001b[0m\u001b[0mconfig\u001b[0m\u001b[0;34m]\u001b[0m\u001b[0;34m\u001b[0m\u001b[0m\n\u001b[1;32m     29\u001b[0m             \u001b[0;32melse\u001b[0m\u001b[0;34m:\u001b[0m\u001b[0;34m\u001b[0m\u001b[0m\n",
      "\u001b[0;31mKeyboardInterrupt\u001b[0m: "
     ]
    }
   ],
   "source": [
    "rules_df = pd.read_csv('quiz12.txt', skiprows=2, names=['input'])\n",
    "rules_df\n",
    "rules = dict()\n",
    "for i in range(len(rules_df)):\n",
    "    parse = rules_df['input'][i].split('=>')\n",
    "    rules[parse[0].replace(' ','')] = parse[1].replace(' ','')\n",
    "\n",
    "    \n",
    "initial_state = '.......##..#..##....#..#..#..##.#.###.######..#..###.#.#..##.###.#.##..###..#.#..#.##.##..###.#.#...#.##.....'\n",
    "\n",
    "count = 0\n",
    "new_initial_state = ''\n",
    "\n",
    "previous_states=set()\n",
    "import time\n",
    "start = time.time()\n",
    "\n",
    "while count<50000000:\n",
    "    #print(count, initial_state)\n",
    "    new_initial_state = ''\n",
    "    for i in range(len(initial_state)):\n",
    "        if i<2 or i>len(initial_state)-3:\n",
    "            new_initial_state = new_initial_state+initial_state[i]\n",
    "        else:\n",
    "            config = initial_state[i-2:i+3]\n",
    "            #print(str(config))\n",
    "            if str(config) in rules.keys():\n",
    "                new_initial_state = new_initial_state+rules[config]\n",
    "            else:\n",
    "                new_initial_state = new_initial_state+initial_state[i]\n",
    "   \n",
    "    initial_state = new_initial_state+'.....'\n",
    "#     if has_been_seen(initial_state, previous_states):\n",
    "#         print(count)\n",
    "#         break\n",
    "#     else:\n",
    "    previous_states.add(initial_state)\n",
    "\n",
    "    count+=1\n",
    "\n",
    "print(time.time()-start)\n",
    "plants = np.zeros(len(initial_state))\n",
    "for i in range(len(initial_state)):\n",
    "    if initial_state[i]=='#':\n",
    "        #print(i)\n",
    "        plants[i] = i-7\n",
    "    \n",
    "print(sum(plants))\n",
    "\n"
   ]
  },
  {
   "cell_type": "code",
   "execution_count": 122,
   "metadata": {},
   "outputs": [
    {
     "data": {
      "text/plain": [
       "4245.37037037037"
      ]
     },
     "execution_count": 122,
     "metadata": {},
     "output_type": "execute_result"
    }
   ],
   "source": []
  },
  {
   "cell_type": "code",
   "execution_count": null,
   "metadata": {},
   "outputs": [],
   "source": [
    "i = 0\n",
    "while state1[i]=='.':\n",
    "    state1_new = stat\n",
    "    \n",
    "state1, state2"
   ]
  },
  {
   "cell_type": "code",
   "execution_count": 86,
   "metadata": {},
   "outputs": [
    {
     "name": "stdout",
     "output_type": "stream",
     "text": [
      "3118.0\n"
     ]
    }
   ],
   "source": [
    "plants = np.zeros(len(new_initial_state))\n",
    "for i in range(5, len(new_initial_state)):\n",
    "    if new_initial_state[i]=='#':\n",
    "        plants[i] = i\n",
    "    \n",
    "print(sum(plants))"
   ]
  },
  {
   "cell_type": "markdown",
   "metadata": {},
   "source": [
    "# test case"
   ]
  },
  {
   "cell_type": "code",
   "execution_count": 89,
   "metadata": {},
   "outputs": [
    {
     "data": {
      "text/plain": [
       "'.....'"
      ]
     },
     "execution_count": 89,
     "metadata": {},
     "output_type": "execute_result"
    }
   ],
   "source": [
    "config"
   ]
  },
  {
   "cell_type": "code",
   "execution_count": 116,
   "metadata": {},
   "outputs": [
    {
     "name": "stdout",
     "output_type": "stream",
     "text": [
      "0 .......#..#.#..##......###...###.............\n",
      "1 .......#...#....#.....#..#..#..#..................\n",
      "2 .......##..##...##....#..#..#..##......................\n",
      "3 ......#.#...#..#.#....#..#..#...#...........................\n",
      "4 .......#.#..#...#.#...#..#..##..##...............................\n",
      "5 ........#...##...#.#..#..#...#...#....................................\n",
      "6 ........##.#.#....#...#..##..##..##........................................\n",
      "7 .......#..###.#...##..#...#...#...#.............................................\n",
      "8 .......#....##.#.#.#..##..##..##..##.................................................\n",
      "9 .......##..#..#####....#...#...#...#......................................................\n",
      "10 ......#.#..#...#.##....##..##..##..##..........................................................\n",
      "11 .......#...##...#.#...#.#...#...#...#...............................................................\n",
      "12 .......##.#.#....#.#...#.#..##..##..##...................................................................\n",
      "13 ......#..###.#....#.#...#....#...#...#........................................................................\n",
      "14 ......#....##.#....#.#..##...##..##..##............................................................................\n",
      "15 ......##..#..#.#....#....#..#.#...#...#.................................................................................\n",
      "16 .....#.#..#...#.#...##...#...#.#..##..##.....................................................................................\n",
      "17 ......#...##...#.#.#.#...##...#....#...#..........................................................................................\n",
      "18 ......##.#.#....#####.#.#.#...##...##..##..............................................................................................\n",
      "19 .....#..###.#..#.#.#######.#.#.#..#.#...#...................................................................................................\n",
      "325.0\n"
     ]
    }
   ],
   "source": [
    "initial_state = '.......#..#.#..##......###...###.............'\n",
    "rules = dict()\n",
    "\n",
    "rules['...##'] = '#'\n",
    "rules['..#..'] = '#'\n",
    "rules['.#...'] = '#'\n",
    "rules['.#.#.'] = '#'\n",
    "rules['.#.##'] = '#'\n",
    "rules['.##..'] = '#'\n",
    "rules['.####'] = '#'\n",
    "rules['#.#.#'] = '#'\n",
    "rules['#.###'] = '#'\n",
    "rules['##.#.'] = '#'\n",
    "rules['##.##'] = '#'\n",
    "rules['###..'] = '#'\n",
    "rules['###.#'] = '#'\n",
    "rules['####.'] = '#'\n",
    "\n",
    "\n",
    "count = 0\n",
    "new_initial_state = ''\n",
    "\n",
    "while count<20:\n",
    "    print(count, initial_state)\n",
    "    new_initial_state = ''\n",
    "    for i in range(len(initial_state)):\n",
    "        if i<2 or i>len(initial_state)-3:\n",
    "            new_initial_state = new_initial_state+'.'\n",
    "        else:\n",
    "            config = initial_state[i-2:i+3]\n",
    "            #print(str(config))\n",
    "            if str(config) in rules.keys():\n",
    "                new_initial_state = new_initial_state+rules[config]\n",
    "            else:\n",
    "                new_initial_state = new_initial_state+'.'\n",
    "   \n",
    "    initial_state = new_initial_state+'.....'\n",
    "    count+=1\n",
    "\n",
    "\n",
    "plants = np.zeros(len(initial_state))\n",
    "for i in range(len(initial_state)):\n",
    "    if initial_state[i]=='#':\n",
    "        #print(i)\n",
    "        plants[i] = i-7\n",
    "    \n",
    "print(sum(plants))"
   ]
  },
  {
   "cell_type": "code",
   "execution_count": 110,
   "metadata": {},
   "outputs": [
    {
     "data": {
      "text/plain": [
       "array([  0.,   0.,   0.,   0.,   0.,  -2.,  -1.,   0.,   0.,   2.,   0.,\n",
       "         4.,   0.,   0.,   0.,   8.,   0.,  10.,   0.,  12.,  13.,   0.,\n",
       "         0.,  16.,   0.,  18.,   0.,   0.,   0.,  22.,  23.,   0.,   0.,\n",
       "         0.,   0.,   0.,  29.,   0.,   0.,   0.,   0.,  34.,   0.,   0.,\n",
       "         0.,   0.,   0.,   0.,   0.,   0.,   0.,   0.,   0.,   0.,   0.,\n",
       "         0.,   0.,   0.,   0.,   0.,   0.,   0.,   0.,   0.,   0.,   0.,\n",
       "         0.,   0.,   0.,   0.,   0.,   0.,   0.,   0.,   0.,   0.,   0.,\n",
       "         0.,   0.,   0.,   0.,   0.,   0.,   0.,   0.,   0.,   0.,   0.,\n",
       "         0.,   0.,   0.,   0.,   0.,   0.,   0.,   0.,   0.,   0.,   0.,\n",
       "         0.,   0.,   0.,   0.,   0.,   0.,   0.,   0.,   0.,   0.,   0.,\n",
       "         0.,   0.,   0.,   0.,   0.,   0.,   0.,   0.,   0.,   0.,   0.,\n",
       "         0.,   0.,   0.,   0.,   0.,   0.,   0.,   0.,   0.,   0.,   0.,\n",
       "         0.,   0.,   0.,   0.,   0.,   0.,   0.,   0.,   0.,   0.,   0.,\n",
       "         0.,   0.,   0.,   0.,   0.,   0.,   0.])"
      ]
     },
     "execution_count": 110,
     "metadata": {},
     "output_type": "execute_result"
    }
   ],
   "source": [
    "plants"
   ]
  }
 ],
 "metadata": {
  "kernelspec": {
   "display_name": "Python 3",
   "language": "python",
   "name": "python3"
  },
  "language_info": {
   "codemirror_mode": {
    "name": "ipython",
    "version": 3
   },
   "file_extension": ".py",
   "mimetype": "text/x-python",
   "name": "python",
   "nbconvert_exporter": "python",
   "pygments_lexer": "ipython3",
   "version": "3.6.5"
  }
 },
 "nbformat": 4,
 "nbformat_minor": 2
}
